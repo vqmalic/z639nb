{
 "cells": [
  {
   "cell_type": "markdown",
   "metadata": {},
   "source": [
    "There are many ways to save the data you've collected as a file onto your computer. When working on your final projects, you'll probably want to comparmentalize the code you use to *get* the data, the code you use to *process* it, and the code you use to *analyze* it. To accomplish this, you'll need a way to save your data *as files* so you have a persistent form of the data that you can pass from one piece of code to another (or from one person to another, if you're working in a group).\n",
    "\n",
    "In this tutorial, we'll cover one of the easier ways to save and load data, using a module called ``pickle``. Later on on the course, we'll learn how to use the data-structure library called ``pandas`` which will provide us with more options. \n",
    "\n",
    "First, we need some data. In homage to the first study we discussed in this class, let's pull some tweets from the accounts of Clinton and Trump. "
   ]
  },
  {
   "cell_type": "code",
   "execution_count": 1,
   "metadata": {
    "collapsed": true
   },
   "outputs": [],
   "source": [
    "API_KEY = \"\"\n",
    "API_SECRET = \"\""
   ]
  },
  {
   "cell_type": "code",
   "execution_count": 2,
   "metadata": {
    "collapsed": true
   },
   "outputs": [],
   "source": [
    "import tweepy\n",
    "auth = tweepy.AppAuthHandler(API_KEY, API_SECRET)\n",
    "api = tweepy.API(auth, wait_on_rate_limit=True, wait_on_rate_limit_notify=True)"
   ]
  },
  {
   "cell_type": "code",
   "execution_count": 3,
   "metadata": {
    "collapsed": true
   },
   "outputs": [],
   "source": [
    "clinton_tweets = []\n",
    "trump_tweets = []\n",
    "\n",
    "for status in tweepy.Cursor(api.user_timeline, id=\"HillaryClinton\").items(100):\n",
    "    clinton_tweets.append((status.text, status.favorite_count, status.retweet_count, status.source))\n",
    "    \n",
    "for status in tweepy.Cursor(api.user_timeline, id=\"realDonaldTrump\").items(100):\n",
    "    trump_tweets.append((status.text, status.favorite_count, status.retweet_count, status.source))"
   ]
  },
  {
   "cell_type": "code",
   "execution_count": 4,
   "metadata": {
    "collapsed": false
   },
   "outputs": [
    {
     "name": "stdout",
     "output_type": "stream",
     "text": [
      "(\"We'll never forget the horror of September 11, 2001. Today, let's honor the lives and tremendous spirit of the victims and responders. -H\", 32987, 12418, 'TweetDeck')\n",
      "**************************************************\n",
      "('#NeverForget\\nhttps://t.co/G5TMAUzy0z', 22270, 7784, 'Twitter for iPhone')\n"
     ]
    }
   ],
   "source": [
    "print(clinton_tweets[0])\n",
    "print(\"*\"*50)\n",
    "print(trump_tweets[0])"
   ]
  },
  {
   "cell_type": "markdown",
   "metadata": {},
   "source": [
    "We've got our data. 100 tweets from Clinton and Trump, for each tweet we have 4 features: text, favorite count, retweet count, and source. Now, we want to save it. We'll be able to load this data in whatever other programs we write to process and analyze the text, and we won't have to run this data-getting algorithm again. How do we do that?\n",
    "\n",
    "I'm going to use the module ``pickle``, which saves our data in a binary file on our computer. Let's import the module; it's already included with Anaconda. I'll use the alias ``pkl`` to type less."
   ]
  },
  {
   "cell_type": "code",
   "execution_count": 5,
   "metadata": {
    "collapsed": true
   },
   "outputs": [],
   "source": [
    "import pickle as pkl"
   ]
  },
  {
   "cell_type": "markdown",
   "metadata": {},
   "source": [
    "Here's how you save your data as a file:\n",
    "\n",
    "```\n",
    "pkl.dump([the variable you want to save], open([the name of the file to save to], \"wb\"))\n",
    "```\n",
    "\n",
    "Pay close attention to the second argument of the open method: ``wb``. This means WRITE, BINARY. \n",
    "\n",
    "I'll save the Clinton tweets to clinton.pkl and the Trump tweets to trump.pkl."
   ]
  },
  {
   "cell_type": "code",
   "execution_count": 6,
   "metadata": {
    "collapsed": true
   },
   "outputs": [],
   "source": [
    "pkl.dump(clinton_tweets, open(\"clinton.pkl\", \"wb\"))\n",
    "pkl.dump(trump_tweets, open(\"trump.pkl\", \"wb\"))"
   ]
  },
  {
   "cell_type": "markdown",
   "metadata": {},
   "source": [
    "Now I'm going to use some Python code to delete the ``clinton_tweets`` and ``trump_tweets`` variables from Python."
   ]
  },
  {
   "cell_type": "code",
   "execution_count": 7,
   "metadata": {
    "collapsed": true
   },
   "outputs": [],
   "source": [
    "del clinton_tweets\n",
    "del trump_tweets"
   ]
  },
  {
   "cell_type": "markdown",
   "metadata": {},
   "source": [
    "The data we collected is gone, vanished."
   ]
  },
  {
   "cell_type": "code",
   "execution_count": 8,
   "metadata": {
    "collapsed": false
   },
   "outputs": [
    {
     "ename": "NameError",
     "evalue": "name 'clinton_tweets' is not defined",
     "output_type": "error",
     "traceback": [
      "\u001b[1;31m---------------------------------------------------------------------------\u001b[0m",
      "\u001b[1;31mNameError\u001b[0m                                 Traceback (most recent call last)",
      "\u001b[1;32m<ipython-input-8-88cd9b4e7db2>\u001b[0m in \u001b[0;36m<module>\u001b[1;34m()\u001b[0m\n\u001b[1;32m----> 1\u001b[1;33m \u001b[0mclinton_tweets\u001b[0m\u001b[1;33m\u001b[0m\u001b[0m\n\u001b[0m",
      "\u001b[1;31mNameError\u001b[0m: name 'clinton_tweets' is not defined"
     ]
    }
   ],
   "source": [
    "clinton_tweets"
   ]
  },
  {
   "cell_type": "markdown",
   "metadata": {},
   "source": [
    "No problem though! We were conscientious enough to save our data to a file. All we have to do is load it. This is the way you do so:\n",
    "\n",
    "```\n",
    "pkl.load(open([the name of the file to load], \"rb\"))\n",
    "```\n",
    "\n",
    "Look at the second argument of the open method, ``rb``. This means READ, BINARY. I'm really emphasizing this because I've personally, repeatedly made the mistake of using ``rb`` when I'm WRITING a pickle and ``wb`` when READING a pickle. Avoid this at all costs."
   ]
  },
  {
   "cell_type": "code",
   "execution_count": 9,
   "metadata": {
    "collapsed": true
   },
   "outputs": [],
   "source": [
    "new_clinton = pkl.load(open(\"clinton.pkl\", \"rb\"))\n",
    "new_trump = pkl.load(open(\"trump.pkl\", \"rb\"))"
   ]
  },
  {
   "cell_type": "markdown",
   "metadata": {},
   "source": [
    "Our data is back."
   ]
  },
  {
   "cell_type": "code",
   "execution_count": 10,
   "metadata": {
    "collapsed": false
   },
   "outputs": [
    {
     "name": "stdout",
     "output_type": "stream",
     "text": [
      "(\"We'll never forget the horror of September 11, 2001. Today, let's honor the lives and tremendous spirit of the victims and responders. -H\", 32987, 12418, 'TweetDeck')\n",
      "**************************************************\n",
      "('#NeverForget\\nhttps://t.co/G5TMAUzy0z', 22270, 7784, 'Twitter for iPhone')\n"
     ]
    }
   ],
   "source": [
    "print(new_clinton[0])\n",
    "print(\"*\"*50)\n",
    "print(new_trump[0])"
   ]
  }
 ],
 "metadata": {
  "anaconda-cloud": {},
  "kernelspec": {
   "display_name": "Python [Root]",
   "language": "python",
   "name": "Python [Root]"
  },
  "language_info": {
   "codemirror_mode": {
    "name": "ipython",
    "version": 3
   },
   "file_extension": ".py",
   "mimetype": "text/x-python",
   "name": "python",
   "nbconvert_exporter": "python",
   "pygments_lexer": "ipython3",
   "version": "3.5.2"
  }
 },
 "nbformat": 4,
 "nbformat_minor": 0
}
