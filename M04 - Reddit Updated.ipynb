{
 "cells": [
  {
   "cell_type": "markdown",
   "metadata": {},
   "source": [
    "# Making a Reddit App for Authorization\n",
    "\n",
    "1. Make a Reddit account and log in\n",
    "2. Go to https://www.reddit.com/prefs/apps/\n",
    "3. Create an App\n",
    "4. Fill out the create application form \n",
    "  1. Choose the \"script\" option\n",
    "  2. For our class, a redirect uri of http://soic.indiana.edu will suffice\n",
    "5. After you've created the app, you'll see a window with your app's settings\n",
    "  1. Get the client id - it's under your app's name\n",
    "  2. Get the client secret\n",
    "  \n",
    "# Creating PRAW Reddit api object"
   ]
  },
  {
   "cell_type": "code",
   "execution_count": null,
   "metadata": {
    "collapsed": false
   },
   "outputs": [],
   "source": [
    "import praw\n",
    "\n",
    "client_id = \"h_emaHOS9whQlA\" # insert your client ID here\n",
    "client_secret = \"wBdMS8TnWmB8wXNkw7JncZZJMO0\" # client secret here\n",
    "user_agent = \"IU Social Media Mining by /r/vqmalic vmalic@indiana.edu\" # a string identifying your app to agents; it is courteous practice to provide your contact info\n",
    "\n",
    "r = praw.Reddit(client_id=client_id, client_secret=client_secret, user_agent=user_agent)"
   ]
  },
  {
   "cell_type": "markdown",
   "metadata": {},
   "source": [
    "## Getting a User and Their Submissions"
   ]
  },
  {
   "cell_type": "code",
   "execution_count": null,
   "metadata": {
    "collapsed": false
   },
   "outputs": [],
   "source": [
    "user = r.redditor(\"bboe\") # bboe is a PRAW developer\n",
    "print(user.name)"
   ]
  },
  {
   "cell_type": "markdown",
   "metadata": {},
   "source": [
    "Get the user's 10 most recent submissions."
   ]
  },
  {
   "cell_type": "code",
   "execution_count": null,
   "metadata": {
    "collapsed": false
   },
   "outputs": [],
   "source": [
    "stored_submissions = []\n",
    "for submission in user.submissions.new(limit=10):\n",
    "    stored_submissions.append(submission)"
   ]
  },
  {
   "cell_type": "markdown",
   "metadata": {},
   "source": [
    "Submission objects have multiple useful properties."
   ]
  },
  {
   "cell_type": "markdown",
   "metadata": {},
   "source": [
    "submission = stored_submissions[1]\n",
    "\n",
    "print(\"Submission author?\")\n",
    "print(submission.author)\n",
    "print(\"How many upvotes?\")\n",
    "print(submission.ups)\n",
    "print(\"And downvotes?\")\n",
    "print(submission.downs)\n",
    "print(\"Total score (ups minus downs)\")\n",
    "print(submission.score)\n",
    "print(\"If it is a text submission, what's the text?\")\n",
    "print(submission.selftext)"
   ]
  },
  {
   "cell_type": "markdown",
   "metadata": {},
   "source": [
    "## Get a user's comments and scores"
   ]
  },
  {
   "cell_type": "code",
   "execution_count": null,
   "metadata": {
    "collapsed": false
   },
   "outputs": [],
   "source": [
    "stored_comments = []\n",
    "\n",
    "for comment in user.comments.new(limit=10):\n",
    "    stored_comments.append(comment)"
   ]
  },
  {
   "cell_type": "code",
   "execution_count": null,
   "metadata": {
    "collapsed": false
   },
   "outputs": [],
   "source": [
    "for comment in stored_comments:\n",
    "    print(comment.body)\n",
    "    print(comment.score)\n",
    "    print(\"*\"*50)"
   ]
  },
  {
   "cell_type": "markdown",
   "metadata": {},
   "source": [
    "## Other ways of pulling submissions/comments\n",
    "\n",
    "Note that we called the method ``new`` to get the user's latest comments. There are methods ``hot``, ``top``, and ``controversial`` that order your items differently. ``new`` does reverse chronological, ``top`` gets items with highest scores, ``controversial`` gets items that have similar levels of upvotes and downvotes, ``hot`` gets items that have gotten upvotes recently."
   ]
  },
  {
   "cell_type": "code",
   "execution_count": null,
   "metadata": {
    "collapsed": false
   },
   "outputs": [],
   "source": [
    "# bboe's best submissions\n",
    "\n",
    "for submission in user.submissions.top(limit=5):\n",
    "    print(submission.title, submission.score)"
   ]
  },
  {
   "cell_type": "markdown",
   "metadata": {},
   "source": [
    "# Getting Content from Subreddits\n",
    "\n",
    "Let's make a Pythonic object representing the subreddit."
   ]
  },
  {
   "cell_type": "code",
   "execution_count": null,
   "metadata": {
    "collapsed": true
   },
   "outputs": [],
   "source": [
    "subreddit_republican = r.subreddit(\"Republican\")\n",
    "subreddit_democrat = r.subreddit(\"democrats\")"
   ]
  },
  {
   "cell_type": "markdown",
   "metadata": {},
   "source": [
    "Get most recent comments and scores."
   ]
  },
  {
   "cell_type": "code",
   "execution_count": null,
   "metadata": {
    "collapsed": false
   },
   "outputs": [],
   "source": [
    "comments_republican = []\n",
    "comments_democrat = []\n",
    "\n",
    "for c in subreddit_republican.comments(limit=10):\n",
    "    comments_republican.append((c.body, c.score))\n",
    "    \n",
    "for c in subreddit_democrat.comments(limit=10):\n",
    "    comments_democrat.append((c.body, c.score))"
   ]
  },
  {
   "cell_type": "code",
   "execution_count": null,
   "metadata": {
    "collapsed": false
   },
   "outputs": [],
   "source": [
    "print(comments_republican[0])\n",
    "print(\"*\"*50)\n",
    "print(comments_democrat[0])"
   ]
  },
  {
   "cell_type": "markdown",
   "metadata": {},
   "source": [
    "## Get Highest Rated Submissions from Last Week"
   ]
  },
  {
   "cell_type": "code",
   "execution_count": null,
   "metadata": {
    "collapsed": false
   },
   "outputs": [],
   "source": [
    "r_top_submissions = []\n",
    "d_top_submissions = []\n",
    "\n",
    "for s in subreddit_republican.top(limit=10, time_filter=\"week\"):\n",
    "    r_top_submissions.append((s.title, s.score))\n",
    "    \n",
    "for s in subreddit_democrat.top(limit=10, time_filter=\"week\"):\n",
    "    d_top_submissions.append((s.title, s.score))"
   ]
  },
  {
   "cell_type": "code",
   "execution_count": null,
   "metadata": {
    "collapsed": false
   },
   "outputs": [],
   "source": [
    "print(r_top_submissions[0])\n",
    "print(d_top_submissions[0])"
   ]
  },
  {
   "cell_type": "markdown",
   "metadata": {},
   "source": [
    "# Getting comments on submissions\n",
    "\n",
    "Getting comments on submissions is a little complicated. With users or entire subreddits, it's simple, because there is a one-to-many correspondence between user/subreddit and the comments it has. However, comments on a submission are organized in a *tree-like structure*; that is, the submission itself may have comments, and those comments may have comments on them, and so on. Because of this, we don't have helpful organizing functions like ``new`` or ``top``. We have to get them all and organize them ourselves. \n",
    "\n",
    "First, let's get the most recent submission of a subreddit and try to get the *top-level comments* on that submission. "
   ]
  },
  {
   "cell_type": "code",
   "execution_count": null,
   "metadata": {
    "collapsed": false
   },
   "outputs": [],
   "source": [
    "newssubreddit = r.subreddit(\"news\")\n",
    "\n",
    "submissions = []\n",
    "\n",
    "for submission in newssubreddit.top(limit=5, time_filter=\"week\"):\n",
    "    submissions.append(submission)\n",
    "    \n",
    "s = submissions[0] # Let's work with the first submission"
   ]
  },
  {
   "cell_type": "code",
   "execution_count": null,
   "metadata": {
    "collapsed": false
   },
   "outputs": [],
   "source": [
    "comments = []\n",
    "\n",
    "for top_level_comment in s.comments:\n",
    "    comments.append(top_level_comment)"
   ]
  },
  {
   "cell_type": "code",
   "execution_count": null,
   "metadata": {
    "collapsed": false
   },
   "outputs": [],
   "source": [
    "# Text of the 11th comment\n",
    "comments[0].body"
   ]
  },
  {
   "cell_type": "markdown",
   "metadata": {},
   "source": [
    "Comments can have comments themselves. Here's how extract the children comments of the first comment on the original submission."
   ]
  },
  {
   "cell_type": "code",
   "execution_count": null,
   "metadata": {
    "collapsed": false
   },
   "outputs": [],
   "source": [
    "replies = []\n",
    "\n",
    "for reply in comments[0].replies:\n",
    "    replies.append(reply)"
   ]
  },
  {
   "cell_type": "code",
   "execution_count": null,
   "metadata": {
    "collapsed": false
   },
   "outputs": [],
   "source": [
    "replies[0].body"
   ]
  },
  {
   "cell_type": "markdown",
   "metadata": {},
   "source": [
    "PRAW deals with Reddit rate limitations on comments by inserting \"MoreComments\" objects into the comment tree. For example, at the time of me writing this code, the fourth item in replies is a \"MoreComments\" object."
   ]
  },
  {
   "cell_type": "code",
   "execution_count": null,
   "metadata": {
    "collapsed": false
   },
   "outputs": [],
   "source": [
    "replies"
   ]
  },
  {
   "cell_type": "markdown",
   "metadata": {},
   "source": [
    "We can open up a MoreComments object, but this necessitates sending another request to reddit."
   ]
  },
  {
   "cell_type": "code",
   "execution_count": null,
   "metadata": {
    "collapsed": false
   },
   "outputs": [],
   "source": [
    "mc = replies[-1]\n",
    "\n",
    "comments = []\n",
    "for c in mc.comments():\n",
    "    comments.append(c)"
   ]
  },
  {
   "cell_type": "code",
   "execution_count": null,
   "metadata": {
    "collapsed": false
   },
   "outputs": [],
   "source": [
    "comments[0].body"
   ]
  },
  {
   "cell_type": "markdown",
   "metadata": {},
   "source": [
    "It's important to keep in mind if you work with reddit Comment Forests to calibrate your code to handle \"MoreComments\" objects gracefully. If you need help writing the code to do this, let me know."
   ]
  }
 ],
 "metadata": {
  "kernelspec": {
   "display_name": "Python [Root]",
   "language": "python",
   "name": "Python [Root]"
  },
  "language_info": {
   "codemirror_mode": {
    "name": "ipython",
    "version": 3
   },
   "file_extension": ".py",
   "mimetype": "text/x-python",
   "name": "python",
   "nbconvert_exporter": "python",
   "pygments_lexer": "ipython3",
   "version": "3.5.2"
  }
 },
 "nbformat": 4,
 "nbformat_minor": 0
}
