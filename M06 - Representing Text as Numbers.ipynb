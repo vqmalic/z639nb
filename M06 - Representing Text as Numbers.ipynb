{
 "cells": [
  {
   "cell_type": "markdown",
   "metadata": {},
   "source": [
    "Since the Python notebooks I made for this week were mistakenly deleted, the annotations in this notebook are much shorter than usual. If you have any questions about anything presented here, please contact me. \n",
    "\n",
    "# Representing Categorical Features Numerically\n",
    "\n",
    "Here is a dataset of entirely categorical features that we will use."
   ]
  },
  {
   "cell_type": "code",
   "execution_count": 1,
   "metadata": {
    "collapsed": false
   },
   "outputs": [
    {
     "data": {
      "text/html": [
       "<div>\n",
       "<table border=\"1\" class=\"dataframe\">\n",
       "  <thead>\n",
       "    <tr style=\"text-align: right;\">\n",
       "      <th></th>\n",
       "      <th>gender</th>\n",
       "      <th>continent</th>\n",
       "      <th>browser</th>\n",
       "    </tr>\n",
       "  </thead>\n",
       "  <tbody>\n",
       "    <tr>\n",
       "      <th>0</th>\n",
       "      <td>male</td>\n",
       "      <td>Europe</td>\n",
       "      <td>Internet Explorer</td>\n",
       "    </tr>\n",
       "    <tr>\n",
       "      <th>1</th>\n",
       "      <td>female</td>\n",
       "      <td>Europe</td>\n",
       "      <td>Firefox</td>\n",
       "    </tr>\n",
       "    <tr>\n",
       "      <th>2</th>\n",
       "      <td>male</td>\n",
       "      <td>Asia</td>\n",
       "      <td>Internet Explorer</td>\n",
       "    </tr>\n",
       "    <tr>\n",
       "      <th>3</th>\n",
       "      <td>male</td>\n",
       "      <td>Asia</td>\n",
       "      <td>Internet Explorer</td>\n",
       "    </tr>\n",
       "    <tr>\n",
       "      <th>4</th>\n",
       "      <td>female</td>\n",
       "      <td>North America</td>\n",
       "      <td>Chrome</td>\n",
       "    </tr>\n",
       "    <tr>\n",
       "      <th>5</th>\n",
       "      <td>female</td>\n",
       "      <td>North America</td>\n",
       "      <td>Firefox</td>\n",
       "    </tr>\n",
       "  </tbody>\n",
       "</table>\n",
       "</div>"
      ],
      "text/plain": [
       "   gender      continent            browser\n",
       "0    male         Europe  Internet Explorer\n",
       "1  female         Europe            Firefox\n",
       "2    male           Asia  Internet Explorer\n",
       "3    male           Asia  Internet Explorer\n",
       "4  female  North America             Chrome\n",
       "5  female  North America            Firefox"
      ]
     },
     "execution_count": 1,
     "metadata": {},
     "output_type": "execute_result"
    }
   ],
   "source": [
    "import pandas as pd\n",
    "\n",
    "df = pd.DataFrame([\n",
    "        [\"male\", \"Europe\", \"Internet Explorer\"],\n",
    "        [\"female\", \"Europe\", \"Firefox\"],\n",
    "        [\"male\", \"Asia\", \"Internet Explorer\"],\n",
    "        [\"male\", \"Asia\", \"Internet Explorer\"],\n",
    "        [\"female\", \"North America\", \"Chrome\"],\n",
    "        [\"female\", \"North America\", \"Firefox\"]\n",
    "    ], columns=[\"gender\", \"continent\", \"browser\"])\n",
    "\n",
    "df"
   ]
  },
  {
   "cell_type": "markdown",
   "metadata": {},
   "source": [
    "We obviously can't throw this into an sklearn classifier. We have to represent it numerically. The way this is traditionally done us to use a method known as one-hot encoding. It's also referred to as label binarization or dummy coding. \n",
    "\n",
    "For a given categorical feature with $n$ possible labels, we make $n$ new features, one for each label. For the feature that corresponds to the label of the datapoint, it takes a value of $1$. Otherwise, it takes a value of 0. \n",
    "\n",
    "The sklearn tool that does this for us is called ``LabelBinarizer``."
   ]
  },
  {
   "cell_type": "code",
   "execution_count": 2,
   "metadata": {
    "collapsed": true
   },
   "outputs": [],
   "source": [
    "from sklearn.preprocessing import LabelBinarizer\n",
    "lb = LabelBinarizer()"
   ]
  },
  {
   "cell_type": "markdown",
   "metadata": {},
   "source": [
    "I will now use the Label Binarizer instance I created, called ``lb``, on the ``continent`` feature to demonstrate one-hot encoding. "
   ]
  },
  {
   "cell_type": "code",
   "execution_count": 3,
   "metadata": {
    "collapsed": true
   },
   "outputs": [],
   "source": [
    "new_cont = lb.fit_transform(df['continent'])"
   ]
  },
  {
   "cell_type": "code",
   "execution_count": 4,
   "metadata": {
    "collapsed": false
   },
   "outputs": [
    {
     "data": {
      "text/plain": [
       "array([[0, 1, 0],\n",
       "       [0, 1, 0],\n",
       "       [1, 0, 0],\n",
       "       [1, 0, 0],\n",
       "       [0, 0, 1],\n",
       "       [0, 0, 1]])"
      ]
     },
     "execution_count": 4,
     "metadata": {},
     "output_type": "execute_result"
    }
   ],
   "source": [
    "new_cont"
   ]
  },
  {
   "cell_type": "markdown",
   "metadata": {},
   "source": [
    "We can see that the label binarizer created three new features (columns). Each column corresponds to one of the three possible labels: Europe, Asia, North America. In ``new_cont``, the second column has a value of 1, while the other two have values of 0. The second column represents Europe. Note that in the 3rd row, the first column has a value of 1 and the other two have values of 0. The first column refers to Asia. Whatever your label was in the original data, you get a value of 1 in the column corresponding to that label in the one-hot encoding, and a 0 in the other columns. \n",
    "\n",
    "You might use one-hot encoding on a feature with many labels. Once you have your new representation, it'll be hard to figure out which column corresponds to which label. Fortunately, the Label Binarizer object - in this case ``lb`` - stores that information. "
   ]
  },
  {
   "cell_type": "code",
   "execution_count": 5,
   "metadata": {
    "collapsed": false
   },
   "outputs": [
    {
     "data": {
      "text/plain": [
       "array(['Asia', 'Europe', 'North America'], \n",
       "      dtype='<U13')"
      ]
     },
     "execution_count": 5,
     "metadata": {},
     "output_type": "execute_result"
    }
   ],
   "source": [
    "lb.classes_"
   ]
  },
  {
   "cell_type": "markdown",
   "metadata": {},
   "source": [
    "The first column is Asia, the second column is Europe, and the third is North America. \n",
    "\n",
    "Using all this information we can convert the one-hot encoding into a data frame."
   ]
  },
  {
   "cell_type": "code",
   "execution_count": 6,
   "metadata": {
    "collapsed": false
   },
   "outputs": [
    {
     "data": {
      "text/html": [
       "<div>\n",
       "<table border=\"1\" class=\"dataframe\">\n",
       "  <thead>\n",
       "    <tr style=\"text-align: right;\">\n",
       "      <th></th>\n",
       "      <th>Asia</th>\n",
       "      <th>Europe</th>\n",
       "      <th>North America</th>\n",
       "    </tr>\n",
       "  </thead>\n",
       "  <tbody>\n",
       "    <tr>\n",
       "      <th>0</th>\n",
       "      <td>0</td>\n",
       "      <td>1</td>\n",
       "      <td>0</td>\n",
       "    </tr>\n",
       "    <tr>\n",
       "      <th>1</th>\n",
       "      <td>0</td>\n",
       "      <td>1</td>\n",
       "      <td>0</td>\n",
       "    </tr>\n",
       "    <tr>\n",
       "      <th>2</th>\n",
       "      <td>1</td>\n",
       "      <td>0</td>\n",
       "      <td>0</td>\n",
       "    </tr>\n",
       "    <tr>\n",
       "      <th>3</th>\n",
       "      <td>1</td>\n",
       "      <td>0</td>\n",
       "      <td>0</td>\n",
       "    </tr>\n",
       "    <tr>\n",
       "      <th>4</th>\n",
       "      <td>0</td>\n",
       "      <td>0</td>\n",
       "      <td>1</td>\n",
       "    </tr>\n",
       "    <tr>\n",
       "      <th>5</th>\n",
       "      <td>0</td>\n",
       "      <td>0</td>\n",
       "      <td>1</td>\n",
       "    </tr>\n",
       "  </tbody>\n",
       "</table>\n",
       "</div>"
      ],
      "text/plain": [
       "   Asia  Europe  North America\n",
       "0     0       1              0\n",
       "1     0       1              0\n",
       "2     1       0              0\n",
       "3     1       0              0\n",
       "4     0       0              1\n",
       "5     0       0              1"
      ]
     },
     "execution_count": 6,
     "metadata": {},
     "output_type": "execute_result"
    }
   ],
   "source": [
    "new_cont = pd.DataFrame(new_cont, columns=lb.classes_, index=df.index)\n",
    "new_cont"
   ]
  },
  {
   "cell_type": "markdown",
   "metadata": {},
   "source": [
    "And we can add it to the original data. "
   ]
  },
  {
   "cell_type": "code",
   "execution_count": 7,
   "metadata": {
    "collapsed": false
   },
   "outputs": [],
   "source": [
    "df = df.join(new_cont)"
   ]
  },
  {
   "cell_type": "code",
   "execution_count": 8,
   "metadata": {
    "collapsed": false
   },
   "outputs": [
    {
     "data": {
      "text/html": [
       "<div>\n",
       "<table border=\"1\" class=\"dataframe\">\n",
       "  <thead>\n",
       "    <tr style=\"text-align: right;\">\n",
       "      <th></th>\n",
       "      <th>gender</th>\n",
       "      <th>continent</th>\n",
       "      <th>browser</th>\n",
       "      <th>Asia</th>\n",
       "      <th>Europe</th>\n",
       "      <th>North America</th>\n",
       "    </tr>\n",
       "  </thead>\n",
       "  <tbody>\n",
       "    <tr>\n",
       "      <th>0</th>\n",
       "      <td>male</td>\n",
       "      <td>Europe</td>\n",
       "      <td>Internet Explorer</td>\n",
       "      <td>0</td>\n",
       "      <td>1</td>\n",
       "      <td>0</td>\n",
       "    </tr>\n",
       "    <tr>\n",
       "      <th>1</th>\n",
       "      <td>female</td>\n",
       "      <td>Europe</td>\n",
       "      <td>Firefox</td>\n",
       "      <td>0</td>\n",
       "      <td>1</td>\n",
       "      <td>0</td>\n",
       "    </tr>\n",
       "    <tr>\n",
       "      <th>2</th>\n",
       "      <td>male</td>\n",
       "      <td>Asia</td>\n",
       "      <td>Internet Explorer</td>\n",
       "      <td>1</td>\n",
       "      <td>0</td>\n",
       "      <td>0</td>\n",
       "    </tr>\n",
       "    <tr>\n",
       "      <th>3</th>\n",
       "      <td>male</td>\n",
       "      <td>Asia</td>\n",
       "      <td>Internet Explorer</td>\n",
       "      <td>1</td>\n",
       "      <td>0</td>\n",
       "      <td>0</td>\n",
       "    </tr>\n",
       "    <tr>\n",
       "      <th>4</th>\n",
       "      <td>female</td>\n",
       "      <td>North America</td>\n",
       "      <td>Chrome</td>\n",
       "      <td>0</td>\n",
       "      <td>0</td>\n",
       "      <td>1</td>\n",
       "    </tr>\n",
       "    <tr>\n",
       "      <th>5</th>\n",
       "      <td>female</td>\n",
       "      <td>North America</td>\n",
       "      <td>Firefox</td>\n",
       "      <td>0</td>\n",
       "      <td>0</td>\n",
       "      <td>1</td>\n",
       "    </tr>\n",
       "  </tbody>\n",
       "</table>\n",
       "</div>"
      ],
      "text/plain": [
       "   gender      continent            browser  Asia  Europe  North America\n",
       "0    male         Europe  Internet Explorer     0       1              0\n",
       "1  female         Europe            Firefox     0       1              0\n",
       "2    male           Asia  Internet Explorer     1       0              0\n",
       "3    male           Asia  Internet Explorer     1       0              0\n",
       "4  female  North America             Chrome     0       0              1\n",
       "5  female  North America            Firefox     0       0              1"
      ]
     },
     "execution_count": 8,
     "metadata": {},
     "output_type": "execute_result"
    }
   ],
   "source": [
    "df"
   ]
  },
  {
   "cell_type": "markdown",
   "metadata": {},
   "source": [
    "Using the same process, I will now convert the browser feature into one-hot encoding. "
   ]
  },
  {
   "cell_type": "code",
   "execution_count": 9,
   "metadata": {
    "collapsed": false
   },
   "outputs": [
    {
     "data": {
      "text/html": [
       "<div>\n",
       "<table border=\"1\" class=\"dataframe\">\n",
       "  <thead>\n",
       "    <tr style=\"text-align: right;\">\n",
       "      <th></th>\n",
       "      <th>gender</th>\n",
       "      <th>continent</th>\n",
       "      <th>browser</th>\n",
       "      <th>Asia</th>\n",
       "      <th>Europe</th>\n",
       "      <th>North America</th>\n",
       "      <th>Chrome</th>\n",
       "      <th>Firefox</th>\n",
       "      <th>Internet Explorer</th>\n",
       "    </tr>\n",
       "  </thead>\n",
       "  <tbody>\n",
       "    <tr>\n",
       "      <th>0</th>\n",
       "      <td>male</td>\n",
       "      <td>Europe</td>\n",
       "      <td>Internet Explorer</td>\n",
       "      <td>0</td>\n",
       "      <td>1</td>\n",
       "      <td>0</td>\n",
       "      <td>0</td>\n",
       "      <td>0</td>\n",
       "      <td>1</td>\n",
       "    </tr>\n",
       "    <tr>\n",
       "      <th>1</th>\n",
       "      <td>female</td>\n",
       "      <td>Europe</td>\n",
       "      <td>Firefox</td>\n",
       "      <td>0</td>\n",
       "      <td>1</td>\n",
       "      <td>0</td>\n",
       "      <td>0</td>\n",
       "      <td>1</td>\n",
       "      <td>0</td>\n",
       "    </tr>\n",
       "    <tr>\n",
       "      <th>2</th>\n",
       "      <td>male</td>\n",
       "      <td>Asia</td>\n",
       "      <td>Internet Explorer</td>\n",
       "      <td>1</td>\n",
       "      <td>0</td>\n",
       "      <td>0</td>\n",
       "      <td>0</td>\n",
       "      <td>0</td>\n",
       "      <td>1</td>\n",
       "    </tr>\n",
       "    <tr>\n",
       "      <th>3</th>\n",
       "      <td>male</td>\n",
       "      <td>Asia</td>\n",
       "      <td>Internet Explorer</td>\n",
       "      <td>1</td>\n",
       "      <td>0</td>\n",
       "      <td>0</td>\n",
       "      <td>0</td>\n",
       "      <td>0</td>\n",
       "      <td>1</td>\n",
       "    </tr>\n",
       "    <tr>\n",
       "      <th>4</th>\n",
       "      <td>female</td>\n",
       "      <td>North America</td>\n",
       "      <td>Chrome</td>\n",
       "      <td>0</td>\n",
       "      <td>0</td>\n",
       "      <td>1</td>\n",
       "      <td>1</td>\n",
       "      <td>0</td>\n",
       "      <td>0</td>\n",
       "    </tr>\n",
       "    <tr>\n",
       "      <th>5</th>\n",
       "      <td>female</td>\n",
       "      <td>North America</td>\n",
       "      <td>Firefox</td>\n",
       "      <td>0</td>\n",
       "      <td>0</td>\n",
       "      <td>1</td>\n",
       "      <td>0</td>\n",
       "      <td>1</td>\n",
       "      <td>0</td>\n",
       "    </tr>\n",
       "  </tbody>\n",
       "</table>\n",
       "</div>"
      ],
      "text/plain": [
       "   gender      continent            browser  Asia  Europe  North America  \\\n",
       "0    male         Europe  Internet Explorer     0       1              0   \n",
       "1  female         Europe            Firefox     0       1              0   \n",
       "2    male           Asia  Internet Explorer     1       0              0   \n",
       "3    male           Asia  Internet Explorer     1       0              0   \n",
       "4  female  North America             Chrome     0       0              1   \n",
       "5  female  North America            Firefox     0       0              1   \n",
       "\n",
       "   Chrome  Firefox  Internet Explorer  \n",
       "0       0        0                  1  \n",
       "1       0        1                  0  \n",
       "2       0        0                  1  \n",
       "3       0        0                  1  \n",
       "4       1        0                  0  \n",
       "5       0        1                  0  "
      ]
     },
     "execution_count": 9,
     "metadata": {},
     "output_type": "execute_result"
    }
   ],
   "source": [
    "lb = LabelBinarizer()\n",
    "new_browser = lb.fit_transform(df['browser'])\n",
    "new_browser = pd.DataFrame(new_browser, columns=lb.classes_, index=df.index)\n",
    "df = df.join(new_browser)\n",
    "df"
   ]
  },
  {
   "cell_type": "markdown",
   "metadata": {},
   "source": [
    "Let's look at gender, which in this case has two possible labels. Extrapolating what we've learned so far, you'd think that turning gender into a one-hot encoding would result in two columns, since there are two possible labels. One column for male, the other for female. \n",
    "\n",
    "However, when we use the label binarizer, we see different behavior."
   ]
  },
  {
   "cell_type": "code",
   "execution_count": 10,
   "metadata": {
    "collapsed": false
   },
   "outputs": [
    {
     "data": {
      "text/plain": [
       "array([[1],\n",
       "       [0],\n",
       "       [1],\n",
       "       [1],\n",
       "       [0],\n",
       "       [0]])"
      ]
     },
     "execution_count": 10,
     "metadata": {},
     "output_type": "execute_result"
    }
   ],
   "source": [
    "lb = LabelBinarizer()\n",
    "new_gender = lb.fit_transform(df['gender'])\n",
    "new_gender"
   ]
  },
  {
   "cell_type": "markdown",
   "metadata": {},
   "source": [
    "We only get one column, instead of two. With browser and continent, there were three labels, which got turned into three new features. However, with gender there are two labels and we only have one new feature. \n",
    "\n",
    "The reason for this is simple. In the case of two mutually-exclusive labels - and *only* in this case - to state that a data point **has feature A** is the logical equivalent of saying the feature **does not have feature B**. And visa versa. Here, to say someone is **male** is equivalent to saying they're **not female**. As such, we only need one column to store two-label data. It indicates whether a data point *has* or *does not have* one of the labels. To say that a data point *does not have* one label is equivalent to saying it has the other label. "
   ]
  },
  {
   "cell_type": "code",
   "execution_count": 11,
   "metadata": {
    "collapsed": false
   },
   "outputs": [
    {
     "data": {
      "text/plain": [
       "array(['female', 'male'], \n",
       "      dtype='<U6')"
      ]
     },
     "execution_count": 11,
     "metadata": {},
     "output_type": "execute_result"
    }
   ],
   "source": [
    "lb.classes_"
   ]
  },
  {
   "cell_type": "markdown",
   "metadata": {},
   "source": [
    "Here, we can see that sklearn has arbitrarily chosen female to be represented by 0 and male to be represented by 1. Let's add this to the original data. "
   ]
  },
  {
   "cell_type": "code",
   "execution_count": 12,
   "metadata": {
    "collapsed": true
   },
   "outputs": [],
   "source": [
    "new_gender = pd.DataFrame(new_gender, columns=['bgender'], index=df.index)"
   ]
  },
  {
   "cell_type": "code",
   "execution_count": 13,
   "metadata": {
    "collapsed": false
   },
   "outputs": [],
   "source": [
    "df = df.join(new_gender)"
   ]
  },
  {
   "cell_type": "code",
   "execution_count": 14,
   "metadata": {
    "collapsed": false
   },
   "outputs": [
    {
     "data": {
      "text/html": [
       "<div>\n",
       "<table border=\"1\" class=\"dataframe\">\n",
       "  <thead>\n",
       "    <tr style=\"text-align: right;\">\n",
       "      <th></th>\n",
       "      <th>gender</th>\n",
       "      <th>continent</th>\n",
       "      <th>browser</th>\n",
       "      <th>Asia</th>\n",
       "      <th>Europe</th>\n",
       "      <th>North America</th>\n",
       "      <th>Chrome</th>\n",
       "      <th>Firefox</th>\n",
       "      <th>Internet Explorer</th>\n",
       "      <th>bgender</th>\n",
       "    </tr>\n",
       "  </thead>\n",
       "  <tbody>\n",
       "    <tr>\n",
       "      <th>0</th>\n",
       "      <td>male</td>\n",
       "      <td>Europe</td>\n",
       "      <td>Internet Explorer</td>\n",
       "      <td>0</td>\n",
       "      <td>1</td>\n",
       "      <td>0</td>\n",
       "      <td>0</td>\n",
       "      <td>0</td>\n",
       "      <td>1</td>\n",
       "      <td>1</td>\n",
       "    </tr>\n",
       "    <tr>\n",
       "      <th>1</th>\n",
       "      <td>female</td>\n",
       "      <td>Europe</td>\n",
       "      <td>Firefox</td>\n",
       "      <td>0</td>\n",
       "      <td>1</td>\n",
       "      <td>0</td>\n",
       "      <td>0</td>\n",
       "      <td>1</td>\n",
       "      <td>0</td>\n",
       "      <td>0</td>\n",
       "    </tr>\n",
       "    <tr>\n",
       "      <th>2</th>\n",
       "      <td>male</td>\n",
       "      <td>Asia</td>\n",
       "      <td>Internet Explorer</td>\n",
       "      <td>1</td>\n",
       "      <td>0</td>\n",
       "      <td>0</td>\n",
       "      <td>0</td>\n",
       "      <td>0</td>\n",
       "      <td>1</td>\n",
       "      <td>1</td>\n",
       "    </tr>\n",
       "    <tr>\n",
       "      <th>3</th>\n",
       "      <td>male</td>\n",
       "      <td>Asia</td>\n",
       "      <td>Internet Explorer</td>\n",
       "      <td>1</td>\n",
       "      <td>0</td>\n",
       "      <td>0</td>\n",
       "      <td>0</td>\n",
       "      <td>0</td>\n",
       "      <td>1</td>\n",
       "      <td>1</td>\n",
       "    </tr>\n",
       "    <tr>\n",
       "      <th>4</th>\n",
       "      <td>female</td>\n",
       "      <td>North America</td>\n",
       "      <td>Chrome</td>\n",
       "      <td>0</td>\n",
       "      <td>0</td>\n",
       "      <td>1</td>\n",
       "      <td>1</td>\n",
       "      <td>0</td>\n",
       "      <td>0</td>\n",
       "      <td>0</td>\n",
       "    </tr>\n",
       "    <tr>\n",
       "      <th>5</th>\n",
       "      <td>female</td>\n",
       "      <td>North America</td>\n",
       "      <td>Firefox</td>\n",
       "      <td>0</td>\n",
       "      <td>0</td>\n",
       "      <td>1</td>\n",
       "      <td>0</td>\n",
       "      <td>1</td>\n",
       "      <td>0</td>\n",
       "      <td>0</td>\n",
       "    </tr>\n",
       "  </tbody>\n",
       "</table>\n",
       "</div>"
      ],
      "text/plain": [
       "   gender      continent            browser  Asia  Europe  North America  \\\n",
       "0    male         Europe  Internet Explorer     0       1              0   \n",
       "1  female         Europe            Firefox     0       1              0   \n",
       "2    male           Asia  Internet Explorer     1       0              0   \n",
       "3    male           Asia  Internet Explorer     1       0              0   \n",
       "4  female  North America             Chrome     0       0              1   \n",
       "5  female  North America            Firefox     0       0              1   \n",
       "\n",
       "   Chrome  Firefox  Internet Explorer  bgender  \n",
       "0       0        0                  1        1  \n",
       "1       0        1                  0        0  \n",
       "2       0        0                  1        1  \n",
       "3       0        0                  1        1  \n",
       "4       1        0                  0        0  \n",
       "5       0        1                  0        0  "
      ]
     },
     "execution_count": 14,
     "metadata": {},
     "output_type": "execute_result"
    }
   ],
   "source": [
    "df"
   ]
  },
  {
   "cell_type": "markdown",
   "metadata": {},
   "source": [
    "We have successfully turned our categorical features into numerical features. \n",
    "\n",
    "Using pandas subsetting we can extract only the numerical features to send to a machine learning algorithm."
   ]
  },
  {
   "cell_type": "code",
   "execution_count": 15,
   "metadata": {
    "collapsed": false
   },
   "outputs": [
    {
     "data": {
      "text/html": [
       "<div>\n",
       "<table border=\"1\" class=\"dataframe\">\n",
       "  <thead>\n",
       "    <tr style=\"text-align: right;\">\n",
       "      <th></th>\n",
       "      <th>Asia</th>\n",
       "      <th>Europe</th>\n",
       "      <th>North America</th>\n",
       "      <th>Chrome</th>\n",
       "      <th>Firefox</th>\n",
       "      <th>Internet Explorer</th>\n",
       "      <th>bgender</th>\n",
       "    </tr>\n",
       "  </thead>\n",
       "  <tbody>\n",
       "    <tr>\n",
       "      <th>0</th>\n",
       "      <td>0</td>\n",
       "      <td>1</td>\n",
       "      <td>0</td>\n",
       "      <td>0</td>\n",
       "      <td>0</td>\n",
       "      <td>1</td>\n",
       "      <td>1</td>\n",
       "    </tr>\n",
       "    <tr>\n",
       "      <th>1</th>\n",
       "      <td>0</td>\n",
       "      <td>1</td>\n",
       "      <td>0</td>\n",
       "      <td>0</td>\n",
       "      <td>1</td>\n",
       "      <td>0</td>\n",
       "      <td>0</td>\n",
       "    </tr>\n",
       "    <tr>\n",
       "      <th>2</th>\n",
       "      <td>1</td>\n",
       "      <td>0</td>\n",
       "      <td>0</td>\n",
       "      <td>0</td>\n",
       "      <td>0</td>\n",
       "      <td>1</td>\n",
       "      <td>1</td>\n",
       "    </tr>\n",
       "    <tr>\n",
       "      <th>3</th>\n",
       "      <td>1</td>\n",
       "      <td>0</td>\n",
       "      <td>0</td>\n",
       "      <td>0</td>\n",
       "      <td>0</td>\n",
       "      <td>1</td>\n",
       "      <td>1</td>\n",
       "    </tr>\n",
       "    <tr>\n",
       "      <th>4</th>\n",
       "      <td>0</td>\n",
       "      <td>0</td>\n",
       "      <td>1</td>\n",
       "      <td>1</td>\n",
       "      <td>0</td>\n",
       "      <td>0</td>\n",
       "      <td>0</td>\n",
       "    </tr>\n",
       "    <tr>\n",
       "      <th>5</th>\n",
       "      <td>0</td>\n",
       "      <td>0</td>\n",
       "      <td>1</td>\n",
       "      <td>0</td>\n",
       "      <td>1</td>\n",
       "      <td>0</td>\n",
       "      <td>0</td>\n",
       "    </tr>\n",
       "  </tbody>\n",
       "</table>\n",
       "</div>"
      ],
      "text/plain": [
       "   Asia  Europe  North America  Chrome  Firefox  Internet Explorer  bgender\n",
       "0     0       1              0       0        0                  1        1\n",
       "1     0       1              0       0        1                  0        0\n",
       "2     1       0              0       0        0                  1        1\n",
       "3     1       0              0       0        0                  1        1\n",
       "4     0       0              1       1        0                  0        0\n",
       "5     0       0              1       0        1                  0        0"
      ]
     },
     "execution_count": 15,
     "metadata": {},
     "output_type": "execute_result"
    }
   ],
   "source": [
    "to_algo = df[[\"Asia\", \"Europe\", \"North America\", \"Chrome\", \"Firefox\", \"Internet Explorer\", \"bgender\"]]\n",
    "to_algo"
   ]
  },
  {
   "cell_type": "markdown",
   "metadata": {},
   "source": [
    "# Representing Raw Text Numerically\n",
    "\n",
    "To represent raw text numerically, we use something called the **vector space model**. Please watch the lecture \"Representing text as Numbers\" on Canvas to see a detailed explanation of what this is. It is covered fully in the lectures. "
   ]
  },
  {
   "cell_type": "code",
   "execution_count": 16,
   "metadata": {
    "collapsed": true
   },
   "outputs": [],
   "source": [
    "texts = [\n",
    "\"We went to the bank to get some money. Usually, there is a lot of money there. But today, the bank had no money.\",\n",
    "\"At the bank, there are a lot of people who work with money. The store money, count money, and try to make more money from their money.\",\n",
    "\"We like to take walks along the bank, because the view of the water is beautiful. But today, unfortunately, the water had overran the bank and so we couldn't walk.\",\n",
    "\"We drove our boat through the water next to the left bank of the river. There were people standing on the bank waving at us, and some were out in the water swimming.\"\n",
    "]"
   ]
  },
  {
   "cell_type": "markdown",
   "metadata": {},
   "source": [
    "To make a vector space model representation of a set of texts, we use ``CountVectorizer``."
   ]
  },
  {
   "cell_type": "code",
   "execution_count": 17,
   "metadata": {
    "collapsed": true
   },
   "outputs": [],
   "source": [
    "from sklearn.feature_extraction.text import CountVectorizer"
   ]
  },
  {
   "cell_type": "code",
   "execution_count": 18,
   "metadata": {
    "collapsed": true
   },
   "outputs": [],
   "source": [
    "cv = CountVectorizer()"
   ]
  },
  {
   "cell_type": "code",
   "execution_count": 19,
   "metadata": {
    "collapsed": false
   },
   "outputs": [
    {
     "data": {
      "text/plain": [
       "<4x59 sparse matrix of type '<class 'numpy.int64'>'\n",
       "\twith 87 stored elements in Compressed Sparse Row format>"
      ]
     },
     "execution_count": 19,
     "metadata": {},
     "output_type": "execute_result"
    }
   ],
   "source": [
    "vectors = cv.fit_transform(texts)\n",
    "vectors"
   ]
  },
  {
   "cell_type": "markdown",
   "metadata": {},
   "source": [
    "The output is a sparse matrix. This is a valid input to all sklearn methods, including ``.fit``, ``cross_val_scores``, and ``.train_test_split``. For the purposes of this instruction only, I am converting it into an np.array using ``toarray``."
   ]
  },
  {
   "cell_type": "code",
   "execution_count": 20,
   "metadata": {
    "collapsed": true
   },
   "outputs": [],
   "source": [
    "vectors = vectors.toarray()"
   ]
  },
  {
   "cell_type": "code",
   "execution_count": 21,
   "metadata": {
    "collapsed": false
   },
   "outputs": [
    {
     "data": {
      "text/plain": [
       "array([0, 0, 0, 0, 2, 0, 0, 0, 1, 0, 0, 0, 0, 1, 1, 0, 1, 0, 0, 1, 0, 3, 0,\n",
       "       0, 1, 1, 0, 0, 0, 0, 0, 0, 0, 1, 0, 0, 0, 0, 2, 0, 2, 0, 2, 1, 0, 0,\n",
       "       0, 1, 0, 0, 0, 0, 0, 1, 1, 0, 0, 0, 0], dtype=int64)"
      ]
     },
     "execution_count": 21,
     "metadata": {},
     "output_type": "execute_result"
    }
   ],
   "source": [
    "vectors[0, :]"
   ]
  },
  {
   "cell_type": "markdown",
   "metadata": {},
   "source": [
    "Each column of ``vectors`` corresponds to a word in the text corpus. Each row corresponds to a text. This is the row corresponding to the first text. It shows that it had zero instances of word 0. It had zero instances of word 1. It had 2 instances of word 4.\n",
    "\n",
    "To know which column corresponds to which word, the Count Vectorizer object has an attribute called ``.vocabulary_``. "
   ]
  },
  {
   "cell_type": "code",
   "execution_count": 22,
   "metadata": {
    "collapsed": false
   },
   "outputs": [
    {
     "data": {
      "text/plain": [
       "{'along': 0,\n",
       " 'and': 1,\n",
       " 'are': 2,\n",
       " 'at': 3,\n",
       " 'bank': 4,\n",
       " 'beautiful': 5,\n",
       " 'because': 6,\n",
       " 'boat': 7,\n",
       " 'but': 8,\n",
       " 'couldn': 9,\n",
       " 'count': 10,\n",
       " 'drove': 11,\n",
       " 'from': 12,\n",
       " 'get': 13,\n",
       " 'had': 14,\n",
       " 'in': 15,\n",
       " 'is': 16,\n",
       " 'left': 17,\n",
       " 'like': 18,\n",
       " 'lot': 19,\n",
       " 'make': 20,\n",
       " 'money': 21,\n",
       " 'more': 22,\n",
       " 'next': 23,\n",
       " 'no': 24,\n",
       " 'of': 25,\n",
       " 'on': 26,\n",
       " 'our': 27,\n",
       " 'out': 28,\n",
       " 'overran': 29,\n",
       " 'people': 30,\n",
       " 'river': 31,\n",
       " 'so': 32,\n",
       " 'some': 33,\n",
       " 'standing': 34,\n",
       " 'store': 35,\n",
       " 'swimming': 36,\n",
       " 'take': 37,\n",
       " 'the': 38,\n",
       " 'their': 39,\n",
       " 'there': 40,\n",
       " 'through': 41,\n",
       " 'to': 42,\n",
       " 'today': 43,\n",
       " 'try': 44,\n",
       " 'unfortunately': 45,\n",
       " 'us': 46,\n",
       " 'usually': 47,\n",
       " 'view': 48,\n",
       " 'walk': 49,\n",
       " 'walks': 50,\n",
       " 'water': 51,\n",
       " 'waving': 52,\n",
       " 'we': 53,\n",
       " 'went': 54,\n",
       " 'were': 55,\n",
       " 'who': 56,\n",
       " 'with': 57,\n",
       " 'work': 58}"
      ]
     },
     "execution_count": 22,
     "metadata": {},
     "output_type": "execute_result"
    }
   ],
   "source": [
    "cv.vocabulary_"
   ]
  },
  {
   "cell_type": "markdown",
   "metadata": {},
   "source": [
    "# TF-IDF\n",
    "\n",
    "Another way to represent texts numerically is not to *count* instances of a word, but instead to calculate their TF-IDF weight. TF-IDF weighting is a way to put more emphasis on words that are characteristic to a document. For example, a given document may have 150 instances of the word *the* and 20 instances of the word *astrophysics*. According to the count vector method described above, the word *the* is more important than *astrophysics*, because it occurs more. However, the word *the* also appears in *many other documents*, while *astrophysics* does not. So intuitively, *astrophysics* should be a more important word for this document than *the*. TF-IDF will therefore weight the words such that *astrophysics* has a higher weight for the document than *the*.\n",
    "\n",
    "Please see the video lecture on Canvas for a far more detailed explanation of TF-IDF. \n",
    "\n",
    "Once you understand the difference between count vectorizing and TF-IDF vectorizing, the way this is done in sklearn is essentially the same. "
   ]
  },
  {
   "cell_type": "code",
   "execution_count": 23,
   "metadata": {
    "collapsed": false
   },
   "outputs": [
    {
     "data": {
      "text/plain": [
       "array([ 0.        ,  0.        ,  0.        ,  0.        ,  0.24006301,\n",
       "        0.        ,  0.        ,  0.        ,  0.18134668,  0.        ,\n",
       "        0.        ,  0.        ,  0.        ,  0.23001526,  0.18134668,\n",
       "        0.        ,  0.18134668,  0.        ,  0.        ,  0.18134668,\n",
       "        0.        ,  0.54404003,  0.        ,  0.        ,  0.23001526,\n",
       "        0.12003151,  0.        ,  0.        ,  0.        ,  0.        ,\n",
       "        0.        ,  0.        ,  0.        ,  0.18134668,  0.        ,\n",
       "        0.        ,  0.        ,  0.        ,  0.24006301,  0.        ,\n",
       "        0.29363153,  0.        ,  0.24006301,  0.18134668,  0.        ,\n",
       "        0.        ,  0.        ,  0.23001526,  0.        ,  0.        ,\n",
       "        0.        ,  0.        ,  0.        ,  0.14681576,  0.23001526,\n",
       "        0.        ,  0.        ,  0.        ,  0.        ])"
      ]
     },
     "execution_count": 23,
     "metadata": {},
     "output_type": "execute_result"
    }
   ],
   "source": [
    "from sklearn.feature_extraction.text import TfidfVectorizer\n",
    "tv = TfidfVectorizer()\n",
    "vectors = tv.fit_transform(texts)\n",
    "vectors = vectors.toarray()\n",
    "vectors[0,:]"
   ]
  },
  {
   "cell_type": "markdown",
   "metadata": {},
   "source": [
    "Like with Count Vectors, each element in the vector corresponds to a word in the vocabulary. However, instead of indicating *how many times this word appeared in this text*, the vector element represents the *TF-IDF weightinf of that word*. "
   ]
  }
 ],
 "metadata": {
  "anaconda-cloud": {},
  "kernelspec": {
   "display_name": "Python [Root]",
   "language": "python",
   "name": "Python [Root]"
  },
  "language_info": {
   "codemirror_mode": {
    "name": "ipython",
    "version": 3
   },
   "file_extension": ".py",
   "mimetype": "text/x-python",
   "name": "python",
   "nbconvert_exporter": "python",
   "pygments_lexer": "ipython3",
   "version": "3.5.2"
  }
 },
 "nbformat": 4,
 "nbformat_minor": 0
}
