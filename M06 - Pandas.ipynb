{
 "cells": [
  {
   "cell_type": "markdown",
   "metadata": {},
   "source": [
    "Note: I accidentally deleted the original notebook that I created. This version has fewer annotations than you are probably used to seeing. \n",
    "\n",
    "We've been organizing our data so far as lists of lists. Here's an example."
   ]
  },
  {
   "cell_type": "code",
   "execution_count": 1,
   "metadata": {
    "collapsed": true
   },
   "outputs": [],
   "source": [
    "data = [\n",
    "    [\"Oleg\", 25, \"Student\", \"Computer Science\"],\n",
    "    [\"Anaya\", 23, \"Student\", \"Informatics\"],\n",
    "    [\"Xiuying\", 43, \"Professor\", \"Statistics\"],\n",
    "    [\"Robert\", 62, \"Professor\", \"Computer Science\"]\n",
    "]"
   ]
  },
  {
   "cell_type": "markdown",
   "metadata": {},
   "source": [
    "To get data from a list of lists, you simply have to know the index of the relevant row and the index of the relevant column. To find the department of Xiuying:"
   ]
  },
  {
   "cell_type": "code",
   "execution_count": 2,
   "metadata": {
    "collapsed": false
   },
   "outputs": [
    {
     "data": {
      "text/plain": [
       "'Statistics'"
      ]
     },
     "execution_count": 2,
     "metadata": {},
     "output_type": "execute_result"
    }
   ],
   "source": [
    "data[2][3]"
   ]
  },
  {
   "cell_type": "markdown",
   "metadata": {},
   "source": [
    "What if you didn't know which row was Xiuying? You'd have to iterate throw each row and check."
   ]
  },
  {
   "cell_type": "code",
   "execution_count": 3,
   "metadata": {
    "collapsed": false
   },
   "outputs": [
    {
     "name": "stdout",
     "output_type": "stream",
     "text": [
      "Statistics\n"
     ]
    }
   ],
   "source": [
    "for row in data:\n",
    "    name = row[0]\n",
    "    if name == \"Xiuying\":\n",
    "        department = row[3]\n",
    "        print(row[3])"
   ]
  },
  {
   "cell_type": "markdown",
   "metadata": {},
   "source": [
    "Pandas makes it easier to organize and explore our data. Let's import pandas and use the alias ``pd``. "
   ]
  },
  {
   "cell_type": "code",
   "execution_count": 4,
   "metadata": {
    "collapsed": true
   },
   "outputs": [],
   "source": [
    "import pandas as pd"
   ]
  },
  {
   "cell_type": "markdown",
   "metadata": {},
   "source": [
    "Pandas organizes data in a structure known as a data frame. You can convert a list of lists to a data frame by passing it to the pandas method ``DataFrame``."
   ]
  },
  {
   "cell_type": "code",
   "execution_count": 5,
   "metadata": {
    "collapsed": true
   },
   "outputs": [],
   "source": [
    "df = pd.DataFrame(data)"
   ]
  },
  {
   "cell_type": "code",
   "execution_count": 6,
   "metadata": {
    "collapsed": false
   },
   "outputs": [
    {
     "data": {
      "text/html": [
       "<div>\n",
       "<table border=\"1\" class=\"dataframe\">\n",
       "  <thead>\n",
       "    <tr style=\"text-align: right;\">\n",
       "      <th></th>\n",
       "      <th>0</th>\n",
       "      <th>1</th>\n",
       "      <th>2</th>\n",
       "      <th>3</th>\n",
       "    </tr>\n",
       "  </thead>\n",
       "  <tbody>\n",
       "    <tr>\n",
       "      <th>0</th>\n",
       "      <td>Oleg</td>\n",
       "      <td>25</td>\n",
       "      <td>Student</td>\n",
       "      <td>Computer Science</td>\n",
       "    </tr>\n",
       "    <tr>\n",
       "      <th>1</th>\n",
       "      <td>Anaya</td>\n",
       "      <td>23</td>\n",
       "      <td>Student</td>\n",
       "      <td>Informatics</td>\n",
       "    </tr>\n",
       "    <tr>\n",
       "      <th>2</th>\n",
       "      <td>Xiuying</td>\n",
       "      <td>43</td>\n",
       "      <td>Professor</td>\n",
       "      <td>Statistics</td>\n",
       "    </tr>\n",
       "    <tr>\n",
       "      <th>3</th>\n",
       "      <td>Robert</td>\n",
       "      <td>62</td>\n",
       "      <td>Professor</td>\n",
       "      <td>Computer Science</td>\n",
       "    </tr>\n",
       "  </tbody>\n",
       "</table>\n",
       "</div>"
      ],
      "text/plain": [
       "         0   1          2                 3\n",
       "0     Oleg  25    Student  Computer Science\n",
       "1    Anaya  23    Student       Informatics\n",
       "2  Xiuying  43  Professor        Statistics\n",
       "3   Robert  62  Professor  Computer Science"
      ]
     },
     "execution_count": 6,
     "metadata": {},
     "output_type": "execute_result"
    }
   ],
   "source": [
    "df"
   ]
  },
  {
   "cell_type": "markdown",
   "metadata": {},
   "source": [
    "As an added bonus, if you're using jupyter notebook, it automatically formats pandas data frames whenever you print them out.\n",
    "\n",
    "One of the key advantages of pandas is that you can name columns and rows. Name columns by assigning a list of column names to the ``column`` attribute of your data frame."
   ]
  },
  {
   "cell_type": "code",
   "execution_count": 7,
   "metadata": {
    "collapsed": true
   },
   "outputs": [],
   "source": [
    "df.columns = ['name', 'age', 'status', 'department']"
   ]
  },
  {
   "cell_type": "code",
   "execution_count": 8,
   "metadata": {
    "collapsed": false
   },
   "outputs": [
    {
     "data": {
      "text/html": [
       "<div>\n",
       "<table border=\"1\" class=\"dataframe\">\n",
       "  <thead>\n",
       "    <tr style=\"text-align: right;\">\n",
       "      <th></th>\n",
       "      <th>name</th>\n",
       "      <th>age</th>\n",
       "      <th>status</th>\n",
       "      <th>department</th>\n",
       "    </tr>\n",
       "  </thead>\n",
       "  <tbody>\n",
       "    <tr>\n",
       "      <th>0</th>\n",
       "      <td>Oleg</td>\n",
       "      <td>25</td>\n",
       "      <td>Student</td>\n",
       "      <td>Computer Science</td>\n",
       "    </tr>\n",
       "    <tr>\n",
       "      <th>1</th>\n",
       "      <td>Anaya</td>\n",
       "      <td>23</td>\n",
       "      <td>Student</td>\n",
       "      <td>Informatics</td>\n",
       "    </tr>\n",
       "    <tr>\n",
       "      <th>2</th>\n",
       "      <td>Xiuying</td>\n",
       "      <td>43</td>\n",
       "      <td>Professor</td>\n",
       "      <td>Statistics</td>\n",
       "    </tr>\n",
       "    <tr>\n",
       "      <th>3</th>\n",
       "      <td>Robert</td>\n",
       "      <td>62</td>\n",
       "      <td>Professor</td>\n",
       "      <td>Computer Science</td>\n",
       "    </tr>\n",
       "  </tbody>\n",
       "</table>\n",
       "</div>"
      ],
      "text/plain": [
       "      name  age     status        department\n",
       "0     Oleg   25    Student  Computer Science\n",
       "1    Anaya   23    Student       Informatics\n",
       "2  Xiuying   43  Professor        Statistics\n",
       "3   Robert   62  Professor  Computer Science"
      ]
     },
     "execution_count": 8,
     "metadata": {},
     "output_type": "execute_result"
    }
   ],
   "source": [
    "df"
   ]
  },
  {
   "cell_type": "markdown",
   "metadata": {},
   "source": [
    "If you don't provide column names or row names, the default behavior is simply to number them, starting from 0. \n",
    "\n",
    "Let's use Pandas to organize some data that we get from Twitter."
   ]
  },
  {
   "cell_type": "code",
   "execution_count": 9,
   "metadata": {
    "collapsed": true
   },
   "outputs": [],
   "source": [
    "API_KEY = \"\"\n",
    "API_SECRET = \"\""
   ]
  },
  {
   "cell_type": "code",
   "execution_count": 10,
   "metadata": {
    "collapsed": false
   },
   "outputs": [],
   "source": [
    "import tweepy\n",
    "auth = tweepy.AppAuthHandler(API_KEY, API_SECRET)\n",
    "api = tweepy.API(auth, wait_on_rate_limit=True, wait_on_rate_limit_notify=True)"
   ]
  },
  {
   "cell_type": "code",
   "execution_count": 11,
   "metadata": {
    "collapsed": true
   },
   "outputs": [],
   "source": [
    "c = tweepy.Cursor(api.user_timeline, id=\"IUBloomington\")"
   ]
  },
  {
   "cell_type": "code",
   "execution_count": 12,
   "metadata": {
    "collapsed": true
   },
   "outputs": [],
   "source": [
    "tweet_data = []"
   ]
  },
  {
   "cell_type": "code",
   "execution_count": 13,
   "metadata": {
    "collapsed": true
   },
   "outputs": [],
   "source": [
    "for tweet in c.items(500):\n",
    "    tid = tweet.id\n",
    "    hour_created = tweet.created_at.hour\n",
    "    favorite_count = tweet.favorite_count\n",
    "    retweet_count = tweet.retweet_count\n",
    "    source = tweet.source\n",
    "    text = tweet.text\n",
    "    this_tweet = [tid, hour_created, source, text, favorite_count, retweet_count]\n",
    "    tweet_data.append(this_tweet)"
   ]
  },
  {
   "cell_type": "code",
   "execution_count": 14,
   "metadata": {
    "collapsed": false
   },
   "outputs": [
    {
     "data": {
      "text/plain": [
       "[[830950002012913665,\n",
       "  1,\n",
       "  'Twitter Web Client',\n",
       "  'RT @ichchokey: IU IS THIS THE 2016-17 CROSSROADS CUP CHAMPIONS https://t.co/kE16ZrR7xO',\n",
       "  0,\n",
       "  25],\n",
       " [830949954856374272,\n",
       "  1,\n",
       "  'Twitter Web Client',\n",
       "  'RT @Hoosier_Hockey: HOOSIERS WIN THE ICHC CONFERENCE CHAMPIONSHIP 9-3',\n",
       "  0,\n",
       "  15],\n",
       " [830949715327983616,\n",
       "  1,\n",
       "  'Twitter Web Client',\n",
       "  \"RT @IUWSoccer: #IUWS was recognized at today's basketball game for winning the Herbert Cup in the fall! ⚪️🔴🏆 https://t.co/9N90kNi8wD\",\n",
       "  0,\n",
       "  28],\n",
       " [830949542535299074,\n",
       "  1,\n",
       "  'Sprout Social',\n",
       "  '@lizzard723 We hope you know this is going on your permanent record...\\njust kidding. (or are we?)',\n",
       "  0,\n",
       "  0]]"
      ]
     },
     "execution_count": 14,
     "metadata": {},
     "output_type": "execute_result"
    }
   ],
   "source": [
    "tweet_data[:4]"
   ]
  },
  {
   "cell_type": "markdown",
   "metadata": {},
   "source": [
    "Each tweet is represented by a list that contains 6 elements: the id, hour created, source, text, favorite count, and retweet count, in that order. \n",
    "\n",
    "Let's turn it into a Pandas data frame."
   ]
  },
  {
   "cell_type": "code",
   "execution_count": 15,
   "metadata": {
    "collapsed": true
   },
   "outputs": [],
   "source": [
    "df = pd.DataFrame(tweet_data)\n",
    "df.columns = [\"tid\", \"hour_created\", \"source\", \"text\", \"favorite_count\", \"retweet_count\"]"
   ]
  },
  {
   "cell_type": "markdown",
   "metadata": {},
   "source": [
    "The ``head`` method on a data frame is a handy way just to print the first few rows of a data frame (rather than the whole thing)."
   ]
  },
  {
   "cell_type": "code",
   "execution_count": 16,
   "metadata": {
    "collapsed": false
   },
   "outputs": [
    {
     "data": {
      "text/html": [
       "<div>\n",
       "<table border=\"1\" class=\"dataframe\">\n",
       "  <thead>\n",
       "    <tr style=\"text-align: right;\">\n",
       "      <th></th>\n",
       "      <th>tid</th>\n",
       "      <th>hour_created</th>\n",
       "      <th>source</th>\n",
       "      <th>text</th>\n",
       "      <th>favorite_count</th>\n",
       "      <th>retweet_count</th>\n",
       "    </tr>\n",
       "  </thead>\n",
       "  <tbody>\n",
       "    <tr>\n",
       "      <th>0</th>\n",
       "      <td>830950002012913665</td>\n",
       "      <td>1</td>\n",
       "      <td>Twitter Web Client</td>\n",
       "      <td>RT @ichchokey: IU IS THIS THE 2016-17 CROSSROA...</td>\n",
       "      <td>0</td>\n",
       "      <td>25</td>\n",
       "    </tr>\n",
       "    <tr>\n",
       "      <th>1</th>\n",
       "      <td>830949954856374272</td>\n",
       "      <td>1</td>\n",
       "      <td>Twitter Web Client</td>\n",
       "      <td>RT @Hoosier_Hockey: HOOSIERS WIN THE ICHC CONF...</td>\n",
       "      <td>0</td>\n",
       "      <td>15</td>\n",
       "    </tr>\n",
       "    <tr>\n",
       "      <th>2</th>\n",
       "      <td>830949715327983616</td>\n",
       "      <td>1</td>\n",
       "      <td>Twitter Web Client</td>\n",
       "      <td>RT @IUWSoccer: #IUWS was recognized at today's...</td>\n",
       "      <td>0</td>\n",
       "      <td>28</td>\n",
       "    </tr>\n",
       "    <tr>\n",
       "      <th>3</th>\n",
       "      <td>830949542535299074</td>\n",
       "      <td>1</td>\n",
       "      <td>Sprout Social</td>\n",
       "      <td>@lizzard723 We hope you know this is going on ...</td>\n",
       "      <td>0</td>\n",
       "      <td>0</td>\n",
       "    </tr>\n",
       "    <tr>\n",
       "      <th>4</th>\n",
       "      <td>830947783280570368</td>\n",
       "      <td>1</td>\n",
       "      <td>Twitter Web Client</td>\n",
       "      <td>RT @IUJSoM: Good luck to all Jacobs nominees t...</td>\n",
       "      <td>0</td>\n",
       "      <td>5</td>\n",
       "    </tr>\n",
       "  </tbody>\n",
       "</table>\n",
       "</div>"
      ],
      "text/plain": [
       "                  tid  hour_created              source  \\\n",
       "0  830950002012913665             1  Twitter Web Client   \n",
       "1  830949954856374272             1  Twitter Web Client   \n",
       "2  830949715327983616             1  Twitter Web Client   \n",
       "3  830949542535299074             1       Sprout Social   \n",
       "4  830947783280570368             1  Twitter Web Client   \n",
       "\n",
       "                                                text  favorite_count  \\\n",
       "0  RT @ichchokey: IU IS THIS THE 2016-17 CROSSROA...               0   \n",
       "1  RT @Hoosier_Hockey: HOOSIERS WIN THE ICHC CONF...               0   \n",
       "2  RT @IUWSoccer: #IUWS was recognized at today's...               0   \n",
       "3  @lizzard723 We hope you know this is going on ...               0   \n",
       "4  RT @IUJSoM: Good luck to all Jacobs nominees t...               0   \n",
       "\n",
       "   retweet_count  \n",
       "0             25  \n",
       "1             15  \n",
       "2             28  \n",
       "3              0  \n",
       "4              5  "
      ]
     },
     "execution_count": 16,
     "metadata": {},
     "output_type": "execute_result"
    }
   ],
   "source": [
    "df.head()"
   ]
  },
  {
   "cell_type": "markdown",
   "metadata": {},
   "source": [
    "It's easy to name columns. Each column represents an attribute of some sort, so we can simply name the columns that attribute. \n",
    "\n",
    "It's a bit harder to name rows. Sometimes, the number from 0 onward is sufficient. Other times, you may want to use something else that uniquely identifies each row. In this case, we can use the Tweet IDs we obtained as the unique identifier for each row. We can name rows by assigning a list of values to the ``index`` attribute of the data frame. "
   ]
  },
  {
   "cell_type": "code",
   "execution_count": 17,
   "metadata": {
    "collapsed": false
   },
   "outputs": [
    {
     "data": {
      "text/html": [
       "<div>\n",
       "<table border=\"1\" class=\"dataframe\">\n",
       "  <thead>\n",
       "    <tr style=\"text-align: right;\">\n",
       "      <th></th>\n",
       "      <th>tid</th>\n",
       "      <th>hour_created</th>\n",
       "      <th>source</th>\n",
       "      <th>text</th>\n",
       "      <th>favorite_count</th>\n",
       "      <th>retweet_count</th>\n",
       "    </tr>\n",
       "    <tr>\n",
       "      <th>tid</th>\n",
       "      <th></th>\n",
       "      <th></th>\n",
       "      <th></th>\n",
       "      <th></th>\n",
       "      <th></th>\n",
       "      <th></th>\n",
       "    </tr>\n",
       "  </thead>\n",
       "  <tbody>\n",
       "    <tr>\n",
       "      <th>830950002012913665</th>\n",
       "      <td>830950002012913665</td>\n",
       "      <td>1</td>\n",
       "      <td>Twitter Web Client</td>\n",
       "      <td>RT @ichchokey: IU IS THIS THE 2016-17 CROSSROA...</td>\n",
       "      <td>0</td>\n",
       "      <td>25</td>\n",
       "    </tr>\n",
       "    <tr>\n",
       "      <th>830949954856374272</th>\n",
       "      <td>830949954856374272</td>\n",
       "      <td>1</td>\n",
       "      <td>Twitter Web Client</td>\n",
       "      <td>RT @Hoosier_Hockey: HOOSIERS WIN THE ICHC CONF...</td>\n",
       "      <td>0</td>\n",
       "      <td>15</td>\n",
       "    </tr>\n",
       "    <tr>\n",
       "      <th>830949715327983616</th>\n",
       "      <td>830949715327983616</td>\n",
       "      <td>1</td>\n",
       "      <td>Twitter Web Client</td>\n",
       "      <td>RT @IUWSoccer: #IUWS was recognized at today's...</td>\n",
       "      <td>0</td>\n",
       "      <td>28</td>\n",
       "    </tr>\n",
       "    <tr>\n",
       "      <th>830949542535299074</th>\n",
       "      <td>830949542535299074</td>\n",
       "      <td>1</td>\n",
       "      <td>Sprout Social</td>\n",
       "      <td>@lizzard723 We hope you know this is going on ...</td>\n",
       "      <td>0</td>\n",
       "      <td>0</td>\n",
       "    </tr>\n",
       "    <tr>\n",
       "      <th>830947783280570368</th>\n",
       "      <td>830947783280570368</td>\n",
       "      <td>1</td>\n",
       "      <td>Twitter Web Client</td>\n",
       "      <td>RT @IUJSoM: Good luck to all Jacobs nominees t...</td>\n",
       "      <td>0</td>\n",
       "      <td>5</td>\n",
       "    </tr>\n",
       "  </tbody>\n",
       "</table>\n",
       "</div>"
      ],
      "text/plain": [
       "                                   tid  hour_created              source  \\\n",
       "tid                                                                        \n",
       "830950002012913665  830950002012913665             1  Twitter Web Client   \n",
       "830949954856374272  830949954856374272             1  Twitter Web Client   \n",
       "830949715327983616  830949715327983616             1  Twitter Web Client   \n",
       "830949542535299074  830949542535299074             1       Sprout Social   \n",
       "830947783280570368  830947783280570368             1  Twitter Web Client   \n",
       "\n",
       "                                                                 text  \\\n",
       "tid                                                                     \n",
       "830950002012913665  RT @ichchokey: IU IS THIS THE 2016-17 CROSSROA...   \n",
       "830949954856374272  RT @Hoosier_Hockey: HOOSIERS WIN THE ICHC CONF...   \n",
       "830949715327983616  RT @IUWSoccer: #IUWS was recognized at today's...   \n",
       "830949542535299074  @lizzard723 We hope you know this is going on ...   \n",
       "830947783280570368  RT @IUJSoM: Good luck to all Jacobs nominees t...   \n",
       "\n",
       "                    favorite_count  retweet_count  \n",
       "tid                                                \n",
       "830950002012913665               0             25  \n",
       "830949954856374272               0             15  \n",
       "830949715327983616               0             28  \n",
       "830949542535299074               0              0  \n",
       "830947783280570368               0              5  "
      ]
     },
     "execution_count": 17,
     "metadata": {},
     "output_type": "execute_result"
    }
   ],
   "source": [
    "df.index = df['tid']\n",
    "df.head()"
   ]
  },
  {
   "cell_type": "markdown",
   "metadata": {},
   "source": [
    "We simply assigned the ``tid`` column to serve as the row names. Since we've done that, we can simply drop the ``tid`` column since they're preserved in the row names."
   ]
  },
  {
   "cell_type": "code",
   "execution_count": 18,
   "metadata": {
    "collapsed": false
   },
   "outputs": [],
   "source": [
    "del df['tid']"
   ]
  },
  {
   "cell_type": "markdown",
   "metadata": {},
   "source": [
    "# Selecting Data\n",
    "\n",
    "I'm going to make a smaller version of our dataframe to demonstrate selection, just so we're not printing out a bunch of stuff every time. "
   ]
  },
  {
   "cell_type": "code",
   "execution_count": 19,
   "metadata": {
    "collapsed": true
   },
   "outputs": [],
   "source": [
    "sample = df.head()"
   ]
  },
  {
   "cell_type": "code",
   "execution_count": 20,
   "metadata": {
    "collapsed": false
   },
   "outputs": [
    {
     "data": {
      "text/plain": [
       "(5, 5)"
      ]
     },
     "execution_count": 20,
     "metadata": {},
     "output_type": "execute_result"
    }
   ],
   "source": [
    "sample.shape"
   ]
  },
  {
   "cell_type": "markdown",
   "metadata": {},
   "source": [
    "Sample is just the first 5 rows of data. \n",
    "\n",
    "## Selecting Columns\n",
    "\n",
    "Select columns by using bracket notation and inserting the name of the column."
   ]
  },
  {
   "cell_type": "code",
   "execution_count": 21,
   "metadata": {
    "collapsed": false
   },
   "outputs": [
    {
     "data": {
      "text/plain": [
       "tid\n",
       "830950002012913665    Twitter Web Client\n",
       "830949954856374272    Twitter Web Client\n",
       "830949715327983616    Twitter Web Client\n",
       "830949542535299074         Sprout Social\n",
       "830947783280570368    Twitter Web Client\n",
       "Name: source, dtype: object"
      ]
     },
     "execution_count": 21,
     "metadata": {},
     "output_type": "execute_result"
    }
   ],
   "source": [
    "sample['source']"
   ]
  },
  {
   "cell_type": "markdown",
   "metadata": {},
   "source": [
    "## Selecting Multiple Columns\n",
    "\n",
    "Select multiple columns by providing a list of column names in the brackets."
   ]
  },
  {
   "cell_type": "code",
   "execution_count": 22,
   "metadata": {
    "collapsed": false
   },
   "outputs": [
    {
     "data": {
      "text/html": [
       "<div>\n",
       "<table border=\"1\" class=\"dataframe\">\n",
       "  <thead>\n",
       "    <tr style=\"text-align: right;\">\n",
       "      <th></th>\n",
       "      <th>source</th>\n",
       "      <th>retweet_count</th>\n",
       "    </tr>\n",
       "    <tr>\n",
       "      <th>tid</th>\n",
       "      <th></th>\n",
       "      <th></th>\n",
       "    </tr>\n",
       "  </thead>\n",
       "  <tbody>\n",
       "    <tr>\n",
       "      <th>830950002012913665</th>\n",
       "      <td>Twitter Web Client</td>\n",
       "      <td>25</td>\n",
       "    </tr>\n",
       "    <tr>\n",
       "      <th>830949954856374272</th>\n",
       "      <td>Twitter Web Client</td>\n",
       "      <td>15</td>\n",
       "    </tr>\n",
       "    <tr>\n",
       "      <th>830949715327983616</th>\n",
       "      <td>Twitter Web Client</td>\n",
       "      <td>28</td>\n",
       "    </tr>\n",
       "    <tr>\n",
       "      <th>830949542535299074</th>\n",
       "      <td>Sprout Social</td>\n",
       "      <td>0</td>\n",
       "    </tr>\n",
       "    <tr>\n",
       "      <th>830947783280570368</th>\n",
       "      <td>Twitter Web Client</td>\n",
       "      <td>5</td>\n",
       "    </tr>\n",
       "  </tbody>\n",
       "</table>\n",
       "</div>"
      ],
      "text/plain": [
       "                                source  retweet_count\n",
       "tid                                                  \n",
       "830950002012913665  Twitter Web Client             25\n",
       "830949954856374272  Twitter Web Client             15\n",
       "830949715327983616  Twitter Web Client             28\n",
       "830949542535299074       Sprout Social              0\n",
       "830947783280570368  Twitter Web Client              5"
      ]
     },
     "execution_count": 22,
     "metadata": {},
     "output_type": "execute_result"
    }
   ],
   "source": [
    "sample[['source', 'retweet_count']]"
   ]
  },
  {
   "cell_type": "markdown",
   "metadata": {},
   "source": [
    "## Selecting Rows by their Name\n",
    "\n",
    "To select a row using its name, write ``.loc`` after the data frame object, then insert the name of the row in brackets."
   ]
  },
  {
   "cell_type": "code",
   "execution_count": 23,
   "metadata": {
    "collapsed": false
   },
   "outputs": [
    {
     "data": {
      "text/plain": [
       "hour_created                                                      1\n",
       "source                                           Twitter Web Client\n",
       "text              RT @ichchokey: IU IS THIS THE 2016-17 CROSSROA...\n",
       "favorite_count                                                    0\n",
       "retweet_count                                                    25\n",
       "Name: 830950002012913665, dtype: object"
      ]
     },
     "execution_count": 23,
     "metadata": {},
     "output_type": "execute_result"
    }
   ],
   "source": [
    "sample.loc[830950002012913665]"
   ]
  },
  {
   "cell_type": "markdown",
   "metadata": {},
   "source": [
    "You can also select multiple rows by providing a list of row names."
   ]
  },
  {
   "cell_type": "code",
   "execution_count": 24,
   "metadata": {
    "collapsed": false
   },
   "outputs": [
    {
     "data": {
      "text/html": [
       "<div>\n",
       "<table border=\"1\" class=\"dataframe\">\n",
       "  <thead>\n",
       "    <tr style=\"text-align: right;\">\n",
       "      <th></th>\n",
       "      <th>hour_created</th>\n",
       "      <th>source</th>\n",
       "      <th>text</th>\n",
       "      <th>favorite_count</th>\n",
       "      <th>retweet_count</th>\n",
       "    </tr>\n",
       "    <tr>\n",
       "      <th>tid</th>\n",
       "      <th></th>\n",
       "      <th></th>\n",
       "      <th></th>\n",
       "      <th></th>\n",
       "      <th></th>\n",
       "    </tr>\n",
       "  </thead>\n",
       "  <tbody>\n",
       "    <tr>\n",
       "      <th>830950002012913665</th>\n",
       "      <td>1</td>\n",
       "      <td>Twitter Web Client</td>\n",
       "      <td>RT @ichchokey: IU IS THIS THE 2016-17 CROSSROA...</td>\n",
       "      <td>0</td>\n",
       "      <td>25</td>\n",
       "    </tr>\n",
       "    <tr>\n",
       "      <th>830947783280570368</th>\n",
       "      <td>1</td>\n",
       "      <td>Twitter Web Client</td>\n",
       "      <td>RT @IUJSoM: Good luck to all Jacobs nominees t...</td>\n",
       "      <td>0</td>\n",
       "      <td>5</td>\n",
       "    </tr>\n",
       "  </tbody>\n",
       "</table>\n",
       "</div>"
      ],
      "text/plain": [
       "                    hour_created              source  \\\n",
       "tid                                                    \n",
       "830950002012913665             1  Twitter Web Client   \n",
       "830947783280570368             1  Twitter Web Client   \n",
       "\n",
       "                                                                 text  \\\n",
       "tid                                                                     \n",
       "830950002012913665  RT @ichchokey: IU IS THIS THE 2016-17 CROSSROA...   \n",
       "830947783280570368  RT @IUJSoM: Good luck to all Jacobs nominees t...   \n",
       "\n",
       "                    favorite_count  retweet_count  \n",
       "tid                                                \n",
       "830950002012913665               0             25  \n",
       "830947783280570368               0              5  "
      ]
     },
     "execution_count": 24,
     "metadata": {},
     "output_type": "execute_result"
    }
   ],
   "source": [
    "sample.loc[[830950002012913665, 830947783280570368]]"
   ]
  },
  {
   "cell_type": "markdown",
   "metadata": {},
   "source": [
    "## Selecting Rows by their Position\n",
    "\n",
    "You can select rows by their position instead of by row label using ``.iloc``. \n",
    "\n",
    "Here, I use ``iloc`` to get the 3rd row. "
   ]
  },
  {
   "cell_type": "code",
   "execution_count": 25,
   "metadata": {
    "collapsed": false
   },
   "outputs": [
    {
     "data": {
      "text/plain": [
       "hour_created                                                      1\n",
       "source                                           Twitter Web Client\n",
       "text              RT @IUWSoccer: #IUWS was recognized at today's...\n",
       "favorite_count                                                    0\n",
       "retweet_count                                                    28\n",
       "Name: 830949715327983616, dtype: object"
      ]
     },
     "execution_count": 25,
     "metadata": {},
     "output_type": "execute_result"
    }
   ],
   "source": [
    "sample.iloc[2]"
   ]
  },
  {
   "cell_type": "markdown",
   "metadata": {},
   "source": [
    "Here I'm getting the 1st and the 4th row."
   ]
  },
  {
   "cell_type": "code",
   "execution_count": 26,
   "metadata": {
    "collapsed": false
   },
   "outputs": [
    {
     "data": {
      "text/html": [
       "<div>\n",
       "<table border=\"1\" class=\"dataframe\">\n",
       "  <thead>\n",
       "    <tr style=\"text-align: right;\">\n",
       "      <th></th>\n",
       "      <th>hour_created</th>\n",
       "      <th>source</th>\n",
       "      <th>text</th>\n",
       "      <th>favorite_count</th>\n",
       "      <th>retweet_count</th>\n",
       "    </tr>\n",
       "    <tr>\n",
       "      <th>tid</th>\n",
       "      <th></th>\n",
       "      <th></th>\n",
       "      <th></th>\n",
       "      <th></th>\n",
       "      <th></th>\n",
       "    </tr>\n",
       "  </thead>\n",
       "  <tbody>\n",
       "    <tr>\n",
       "      <th>830950002012913665</th>\n",
       "      <td>1</td>\n",
       "      <td>Twitter Web Client</td>\n",
       "      <td>RT @ichchokey: IU IS THIS THE 2016-17 CROSSROA...</td>\n",
       "      <td>0</td>\n",
       "      <td>25</td>\n",
       "    </tr>\n",
       "    <tr>\n",
       "      <th>830949542535299074</th>\n",
       "      <td>1</td>\n",
       "      <td>Sprout Social</td>\n",
       "      <td>@lizzard723 We hope you know this is going on ...</td>\n",
       "      <td>0</td>\n",
       "      <td>0</td>\n",
       "    </tr>\n",
       "  </tbody>\n",
       "</table>\n",
       "</div>"
      ],
      "text/plain": [
       "                    hour_created              source  \\\n",
       "tid                                                    \n",
       "830950002012913665             1  Twitter Web Client   \n",
       "830949542535299074             1       Sprout Social   \n",
       "\n",
       "                                                                 text  \\\n",
       "tid                                                                     \n",
       "830950002012913665  RT @ichchokey: IU IS THIS THE 2016-17 CROSSROA...   \n",
       "830949542535299074  @lizzard723 We hope you know this is going on ...   \n",
       "\n",
       "                    favorite_count  retweet_count  \n",
       "tid                                                \n",
       "830950002012913665               0             25  \n",
       "830949542535299074               0              0  "
      ]
     },
     "execution_count": 26,
     "metadata": {},
     "output_type": "execute_result"
    }
   ],
   "source": [
    "sample.iloc[[0, 3]]"
   ]
  },
  {
   "cell_type": "markdown",
   "metadata": {},
   "source": [
    "# Using ``loc`` to get a specific cell\n",
    "\n",
    "You can use ``loc`` to get the value of a specific named row and column. Separte the rows you want from the columns you want with a column. For example, what's the ``favorite_count`` of tweet 780380150382809088? "
   ]
  },
  {
   "cell_type": "code",
   "execution_count": 27,
   "metadata": {
    "collapsed": false
   },
   "outputs": [
    {
     "data": {
      "text/plain": [
       "0"
      ]
     },
     "execution_count": 27,
     "metadata": {},
     "output_type": "execute_result"
    }
   ],
   "source": [
    "sample.loc[830950002012913665, \"favorite_count\"]"
   ]
  },
  {
   "cell_type": "markdown",
   "metadata": {},
   "source": [
    "You can get multiple column values from multiple tweets in this fashion. Just separate the row names from the column names with a comma.  \n",
    "\n",
    "What's the favorite count AND the retweet count of tweets 780226076995792896 and 780214484094681088?"
   ]
  },
  {
   "cell_type": "code",
   "execution_count": 28,
   "metadata": {
    "collapsed": false
   },
   "outputs": [
    {
     "data": {
      "text/html": [
       "<div>\n",
       "<table border=\"1\" class=\"dataframe\">\n",
       "  <thead>\n",
       "    <tr style=\"text-align: right;\">\n",
       "      <th></th>\n",
       "      <th>favorite_count</th>\n",
       "      <th>retweet_count</th>\n",
       "    </tr>\n",
       "    <tr>\n",
       "      <th>tid</th>\n",
       "      <th></th>\n",
       "      <th></th>\n",
       "    </tr>\n",
       "  </thead>\n",
       "  <tbody>\n",
       "    <tr>\n",
       "      <th>830950002012913665</th>\n",
       "      <td>0</td>\n",
       "      <td>25</td>\n",
       "    </tr>\n",
       "    <tr>\n",
       "      <th>830947783280570368</th>\n",
       "      <td>0</td>\n",
       "      <td>5</td>\n",
       "    </tr>\n",
       "  </tbody>\n",
       "</table>\n",
       "</div>"
      ],
      "text/plain": [
       "                    favorite_count  retweet_count\n",
       "tid                                              \n",
       "830950002012913665               0             25\n",
       "830947783280570368               0              5"
      ]
     },
     "execution_count": 28,
     "metadata": {},
     "output_type": "execute_result"
    }
   ],
   "source": [
    "sample.loc[[830950002012913665, 830947783280570368], [\"favorite_count\", \"retweet_count\"]]"
   ]
  },
  {
   "cell_type": "markdown",
   "metadata": {},
   "source": [
    "# Boolean Indexing\n",
    "\n",
    "I'm going to make a list of ``True``s and ``False``s."
   ]
  },
  {
   "cell_type": "code",
   "execution_count": 29,
   "metadata": {
    "collapsed": true
   },
   "outputs": [],
   "source": [
    "b_index = [False, True, False, False, True]"
   ]
  },
  {
   "cell_type": "markdown",
   "metadata": {},
   "source": [
    "Now, I'm going to pass this list of Booleans to the ``sample`` data frame's bracket notation."
   ]
  },
  {
   "cell_type": "code",
   "execution_count": 30,
   "metadata": {
    "collapsed": false
   },
   "outputs": [
    {
     "data": {
      "text/html": [
       "<div>\n",
       "<table border=\"1\" class=\"dataframe\">\n",
       "  <thead>\n",
       "    <tr style=\"text-align: right;\">\n",
       "      <th></th>\n",
       "      <th>hour_created</th>\n",
       "      <th>source</th>\n",
       "      <th>text</th>\n",
       "      <th>favorite_count</th>\n",
       "      <th>retweet_count</th>\n",
       "    </tr>\n",
       "    <tr>\n",
       "      <th>tid</th>\n",
       "      <th></th>\n",
       "      <th></th>\n",
       "      <th></th>\n",
       "      <th></th>\n",
       "      <th></th>\n",
       "    </tr>\n",
       "  </thead>\n",
       "  <tbody>\n",
       "    <tr>\n",
       "      <th>830949954856374272</th>\n",
       "      <td>1</td>\n",
       "      <td>Twitter Web Client</td>\n",
       "      <td>RT @Hoosier_Hockey: HOOSIERS WIN THE ICHC CONF...</td>\n",
       "      <td>0</td>\n",
       "      <td>15</td>\n",
       "    </tr>\n",
       "    <tr>\n",
       "      <th>830947783280570368</th>\n",
       "      <td>1</td>\n",
       "      <td>Twitter Web Client</td>\n",
       "      <td>RT @IUJSoM: Good luck to all Jacobs nominees t...</td>\n",
       "      <td>0</td>\n",
       "      <td>5</td>\n",
       "    </tr>\n",
       "  </tbody>\n",
       "</table>\n",
       "</div>"
      ],
      "text/plain": [
       "                    hour_created              source  \\\n",
       "tid                                                    \n",
       "830949954856374272             1  Twitter Web Client   \n",
       "830947783280570368             1  Twitter Web Client   \n",
       "\n",
       "                                                                 text  \\\n",
       "tid                                                                     \n",
       "830949954856374272  RT @Hoosier_Hockey: HOOSIERS WIN THE ICHC CONF...   \n",
       "830947783280570368  RT @IUJSoM: Good luck to all Jacobs nominees t...   \n",
       "\n",
       "                    favorite_count  retweet_count  \n",
       "tid                                                \n",
       "830949954856374272               0             15  \n",
       "830947783280570368               0              5  "
      ]
     },
     "execution_count": 30,
     "metadata": {},
     "output_type": "execute_result"
    }
   ],
   "source": [
    "sample[b_index]"
   ]
  },
  {
   "cell_type": "markdown",
   "metadata": {},
   "source": [
    "Notice that there are only two rows in the output. If you past a list of Booleans to a data frame's bracket notation, it will**only return the rows that correspond to a True value**. So in ``b_index``, the 2nd and 5th elements are ``True``, the rest are false. That is way ``sample[b_index]`` returned only the 2nd and 5th row. \n",
    "\n",
    "At first glance, this seems a little contrived and not very useful, but it will help us with something known as Conditional Subsetting.\n",
    "\n",
    "# Conditional Subsetting\n",
    "\n",
    "Conditional subsetting helps us choose *only rows that meet a certain condition*. We can find out if a row meets a certain condition using a Boolean operator. \n",
    "\n",
    "For example: for which rows is the number of retweets greater than 20?"
   ]
  },
  {
   "cell_type": "code",
   "execution_count": 31,
   "metadata": {
    "collapsed": false
   },
   "outputs": [
    {
     "data": {
      "text/plain": [
       "tid\n",
       "830950002012913665     True\n",
       "830949954856374272    False\n",
       "830949715327983616     True\n",
       "830949542535299074    False\n",
       "830947783280570368    False\n",
       "Name: retweet_count, dtype: bool"
      ]
     },
     "execution_count": 31,
     "metadata": {},
     "output_type": "execute_result"
    }
   ],
   "source": [
    "sample[\"retweet_count\"] > 20"
   ]
  },
  {
   "cell_type": "markdown",
   "metadata": {},
   "source": [
    "This condition is true for some, but not nall of the rows.\n",
    "\n",
    "Note that this output is a **list of Booleans**. \n",
    "\n",
    "So we can use this as an input to the bracket notation. "
   ]
  },
  {
   "cell_type": "code",
   "execution_count": 32,
   "metadata": {
    "collapsed": false
   },
   "outputs": [
    {
     "data": {
      "text/html": [
       "<div>\n",
       "<table border=\"1\" class=\"dataframe\">\n",
       "  <thead>\n",
       "    <tr style=\"text-align: right;\">\n",
       "      <th></th>\n",
       "      <th>hour_created</th>\n",
       "      <th>source</th>\n",
       "      <th>text</th>\n",
       "      <th>favorite_count</th>\n",
       "      <th>retweet_count</th>\n",
       "    </tr>\n",
       "    <tr>\n",
       "      <th>tid</th>\n",
       "      <th></th>\n",
       "      <th></th>\n",
       "      <th></th>\n",
       "      <th></th>\n",
       "      <th></th>\n",
       "    </tr>\n",
       "  </thead>\n",
       "  <tbody>\n",
       "    <tr>\n",
       "      <th>830950002012913665</th>\n",
       "      <td>1</td>\n",
       "      <td>Twitter Web Client</td>\n",
       "      <td>RT @ichchokey: IU IS THIS THE 2016-17 CROSSROA...</td>\n",
       "      <td>0</td>\n",
       "      <td>25</td>\n",
       "    </tr>\n",
       "    <tr>\n",
       "      <th>830949715327983616</th>\n",
       "      <td>1</td>\n",
       "      <td>Twitter Web Client</td>\n",
       "      <td>RT @IUWSoccer: #IUWS was recognized at today's...</td>\n",
       "      <td>0</td>\n",
       "      <td>28</td>\n",
       "    </tr>\n",
       "  </tbody>\n",
       "</table>\n",
       "</div>"
      ],
      "text/plain": [
       "                    hour_created              source  \\\n",
       "tid                                                    \n",
       "830950002012913665             1  Twitter Web Client   \n",
       "830949715327983616             1  Twitter Web Client   \n",
       "\n",
       "                                                                 text  \\\n",
       "tid                                                                     \n",
       "830950002012913665  RT @ichchokey: IU IS THIS THE 2016-17 CROSSROA...   \n",
       "830949715327983616  RT @IUWSoccer: #IUWS was recognized at today's...   \n",
       "\n",
       "                    favorite_count  retweet_count  \n",
       "tid                                                \n",
       "830950002012913665               0             25  \n",
       "830949715327983616               0             28  "
      ]
     },
     "execution_count": 32,
     "metadata": {},
     "output_type": "execute_result"
    }
   ],
   "source": [
    "b_index = sample[\"retweet_count\"] > 20\n",
    "conditional_subset = sample[b_index] # b_index is a list of Trues and Falses\n",
    "conditional_subset"
   ]
  },
  {
   "cell_type": "markdown",
   "metadata": {},
   "source": [
    "We can just merge this altogether in a single line of code."
   ]
  },
  {
   "cell_type": "code",
   "execution_count": 33,
   "metadata": {
    "collapsed": true
   },
   "outputs": [],
   "source": [
    "conditional_subset = sample[ sample[\"retweet_count\"] > 20 ]"
   ]
  },
  {
   "cell_type": "markdown",
   "metadata": {},
   "source": [
    "This is extremely helpful if you want to conduct your data mining analysis on a specific subset of the data.\n",
    "\n",
    "Instead of using ``sample`` let's return to the original data in ``df``. Let's say for research reasons you only want to study posts that are really popular. So you want to subset from your original data the rows that have a ``retweet_count`` value greater than 20. "
   ]
  },
  {
   "cell_type": "code",
   "execution_count": 34,
   "metadata": {
    "collapsed": false
   },
   "outputs": [
    {
     "data": {
      "text/plain": [
       "(500, 5)"
      ]
     },
     "execution_count": 34,
     "metadata": {},
     "output_type": "execute_result"
    }
   ],
   "source": [
    "df.shape"
   ]
  },
  {
   "cell_type": "markdown",
   "metadata": {},
   "source": [
    "There are 500 samples in the original data."
   ]
  },
  {
   "cell_type": "code",
   "execution_count": 35,
   "metadata": {
    "collapsed": false
   },
   "outputs": [],
   "source": [
    "popular_tweets = df[df['retweet_count'] > 20]"
   ]
  },
  {
   "cell_type": "code",
   "execution_count": 36,
   "metadata": {
    "collapsed": false
   },
   "outputs": [
    {
     "data": {
      "text/plain": [
       "(58, 5)"
      ]
     },
     "execution_count": 36,
     "metadata": {},
     "output_type": "execute_result"
    }
   ],
   "source": [
    "popular_tweets.shape"
   ]
  },
  {
   "cell_type": "markdown",
   "metadata": {},
   "source": [
    "We can see the number of rows in our new data frame - it's the first elemennt in the above tuple. Each of these subset tweets has a `retweet_count` greater than 20"
   ]
  },
  {
   "cell_type": "code",
   "execution_count": 37,
   "metadata": {
    "collapsed": false
   },
   "outputs": [
    {
     "data": {
      "text/html": [
       "<div>\n",
       "<table border=\"1\" class=\"dataframe\">\n",
       "  <thead>\n",
       "    <tr style=\"text-align: right;\">\n",
       "      <th></th>\n",
       "      <th>hour_created</th>\n",
       "      <th>source</th>\n",
       "      <th>text</th>\n",
       "      <th>favorite_count</th>\n",
       "      <th>retweet_count</th>\n",
       "    </tr>\n",
       "    <tr>\n",
       "      <th>tid</th>\n",
       "      <th></th>\n",
       "      <th></th>\n",
       "      <th></th>\n",
       "      <th></th>\n",
       "      <th></th>\n",
       "    </tr>\n",
       "  </thead>\n",
       "  <tbody>\n",
       "    <tr>\n",
       "      <th>830950002012913665</th>\n",
       "      <td>1</td>\n",
       "      <td>Twitter Web Client</td>\n",
       "      <td>RT @ichchokey: IU IS THIS THE 2016-17 CROSSROA...</td>\n",
       "      <td>0</td>\n",
       "      <td>25</td>\n",
       "    </tr>\n",
       "    <tr>\n",
       "      <th>830949715327983616</th>\n",
       "      <td>1</td>\n",
       "      <td>Twitter Web Client</td>\n",
       "      <td>RT @IUWSoccer: #IUWS was recognized at today's...</td>\n",
       "      <td>0</td>\n",
       "      <td>28</td>\n",
       "    </tr>\n",
       "    <tr>\n",
       "      <th>830861881334169601</th>\n",
       "      <td>19</td>\n",
       "      <td>Twitter for iPhone</td>\n",
       "      <td>RT @IndianaMBB: #GoIU ⚪🔴 https://t.co/XdzlnLIctj</td>\n",
       "      <td>0</td>\n",
       "      <td>50</td>\n",
       "    </tr>\n",
       "    <tr>\n",
       "      <th>830779028948865024</th>\n",
       "      <td>14</td>\n",
       "      <td>Twitter for iPad</td>\n",
       "      <td>RT @IndianaMBB: GAMEDAY!!!\\n📍: Simon Skjodt As...</td>\n",
       "      <td>0</td>\n",
       "      <td>45</td>\n",
       "    </tr>\n",
       "    <tr>\n",
       "      <th>830650319277264896</th>\n",
       "      <td>5</td>\n",
       "      <td>Twitter Web Client</td>\n",
       "      <td>RT @OurIndiana: Tomorrow we welcome @Firecrack...</td>\n",
       "      <td>0</td>\n",
       "      <td>21</td>\n",
       "    </tr>\n",
       "  </tbody>\n",
       "</table>\n",
       "</div>"
      ],
      "text/plain": [
       "                    hour_created              source  \\\n",
       "tid                                                    \n",
       "830950002012913665             1  Twitter Web Client   \n",
       "830949715327983616             1  Twitter Web Client   \n",
       "830861881334169601            19  Twitter for iPhone   \n",
       "830779028948865024            14    Twitter for iPad   \n",
       "830650319277264896             5  Twitter Web Client   \n",
       "\n",
       "                                                                 text  \\\n",
       "tid                                                                     \n",
       "830950002012913665  RT @ichchokey: IU IS THIS THE 2016-17 CROSSROA...   \n",
       "830949715327983616  RT @IUWSoccer: #IUWS was recognized at today's...   \n",
       "830861881334169601   RT @IndianaMBB: #GoIU ⚪🔴 https://t.co/XdzlnLIctj   \n",
       "830779028948865024  RT @IndianaMBB: GAMEDAY!!!\\n📍: Simon Skjodt As...   \n",
       "830650319277264896  RT @OurIndiana: Tomorrow we welcome @Firecrack...   \n",
       "\n",
       "                    favorite_count  retweet_count  \n",
       "tid                                                \n",
       "830950002012913665               0             25  \n",
       "830949715327983616               0             28  \n",
       "830861881334169601               0             50  \n",
       "830779028948865024               0             45  \n",
       "830650319277264896               0             21  "
      ]
     },
     "execution_count": 37,
     "metadata": {},
     "output_type": "execute_result"
    }
   ],
   "source": [
    "popular_tweets.head()"
   ]
  },
  {
   "cell_type": "markdown",
   "metadata": {},
   "source": [
    "You really can subset the data in any way you like using this type of code. \n",
    "\n",
    "Let's say I want all Tweets that were made on iPhone."
   ]
  },
  {
   "cell_type": "code",
   "execution_count": 38,
   "metadata": {
    "collapsed": false
   },
   "outputs": [
    {
     "data": {
      "text/plain": [
       "(49, 5)"
      ]
     },
     "execution_count": 38,
     "metadata": {},
     "output_type": "execute_result"
    }
   ],
   "source": [
    "iphone_tweets = df[df['source'] == \"Twitter for iPhone\"]\n",
    "iphone_tweets.shape"
   ]
  },
  {
   "cell_type": "markdown",
   "metadata": {},
   "source": [
    "We've selected the 105 tweets from the original 500 that were made on iPhone."
   ]
  },
  {
   "cell_type": "code",
   "execution_count": 39,
   "metadata": {
    "collapsed": false
   },
   "outputs": [
    {
     "data": {
      "text/html": [
       "<div>\n",
       "<table border=\"1\" class=\"dataframe\">\n",
       "  <thead>\n",
       "    <tr style=\"text-align: right;\">\n",
       "      <th></th>\n",
       "      <th>hour_created</th>\n",
       "      <th>source</th>\n",
       "      <th>text</th>\n",
       "      <th>favorite_count</th>\n",
       "      <th>retweet_count</th>\n",
       "    </tr>\n",
       "    <tr>\n",
       "      <th>tid</th>\n",
       "      <th></th>\n",
       "      <th></th>\n",
       "      <th></th>\n",
       "      <th></th>\n",
       "      <th></th>\n",
       "    </tr>\n",
       "  </thead>\n",
       "  <tbody>\n",
       "    <tr>\n",
       "      <th>830861881334169601</th>\n",
       "      <td>19</td>\n",
       "      <td>Twitter for iPhone</td>\n",
       "      <td>RT @IndianaMBB: #GoIU ⚪🔴 https://t.co/XdzlnLIctj</td>\n",
       "      <td>0</td>\n",
       "      <td>50</td>\n",
       "    </tr>\n",
       "    <tr>\n",
       "      <th>830861726270750720</th>\n",
       "      <td>19</td>\n",
       "      <td>Twitter for iPhone</td>\n",
       "      <td>RT @OurIndiana: 🏀: vs Michigan\\n🕐: 1p\\n📺: @CBS...</td>\n",
       "      <td>0</td>\n",
       "      <td>12</td>\n",
       "    </tr>\n",
       "    <tr>\n",
       "      <th>830861584754999296</th>\n",
       "      <td>19</td>\n",
       "      <td>Twitter for iPhone</td>\n",
       "      <td>RT @InsideIU: Happy birthday, Abraham Lincoln!...</td>\n",
       "      <td>0</td>\n",
       "      <td>5</td>\n",
       "    </tr>\n",
       "    <tr>\n",
       "      <th>829822221426290690</th>\n",
       "      <td>22</td>\n",
       "      <td>Twitter for iPhone</td>\n",
       "      <td>RT @IUTheatre: Final weekend of Duchess! Final...</td>\n",
       "      <td>0</td>\n",
       "      <td>2</td>\n",
       "    </tr>\n",
       "    <tr>\n",
       "      <th>829685005660086276</th>\n",
       "      <td>13</td>\n",
       "      <td>Twitter for iPhone</td>\n",
       "      <td>RT @IndianaMBB: GAMEDAY!!!\\n📍: Simon Skjodt As...</td>\n",
       "      <td>0</td>\n",
       "      <td>142</td>\n",
       "    </tr>\n",
       "  </tbody>\n",
       "</table>\n",
       "</div>"
      ],
      "text/plain": [
       "                    hour_created              source  \\\n",
       "tid                                                    \n",
       "830861881334169601            19  Twitter for iPhone   \n",
       "830861726270750720            19  Twitter for iPhone   \n",
       "830861584754999296            19  Twitter for iPhone   \n",
       "829822221426290690            22  Twitter for iPhone   \n",
       "829685005660086276            13  Twitter for iPhone   \n",
       "\n",
       "                                                                 text  \\\n",
       "tid                                                                     \n",
       "830861881334169601   RT @IndianaMBB: #GoIU ⚪🔴 https://t.co/XdzlnLIctj   \n",
       "830861726270750720  RT @OurIndiana: 🏀: vs Michigan\\n🕐: 1p\\n📺: @CBS...   \n",
       "830861584754999296  RT @InsideIU: Happy birthday, Abraham Lincoln!...   \n",
       "829822221426290690  RT @IUTheatre: Final weekend of Duchess! Final...   \n",
       "829685005660086276  RT @IndianaMBB: GAMEDAY!!!\\n📍: Simon Skjodt As...   \n",
       "\n",
       "                    favorite_count  retweet_count  \n",
       "tid                                                \n",
       "830861881334169601               0             50  \n",
       "830861726270750720               0             12  \n",
       "830861584754999296               0              5  \n",
       "829822221426290690               0              2  \n",
       "829685005660086276               0            142  "
      ]
     },
     "execution_count": 39,
     "metadata": {},
     "output_type": "execute_result"
    }
   ],
   "source": [
    "iphone_tweets.head()"
   ]
  },
  {
   "cell_type": "markdown",
   "metadata": {},
   "source": [
    "If you have multiple conditions that must all be true, encapsulate them in parentheses and separate them with the ampersand character &.\n",
    "\n",
    "I want all tweets that were made on iPhone AND have a favorite count greater than 20."
   ]
  },
  {
   "cell_type": "code",
   "execution_count": 40,
   "metadata": {
    "collapsed": false
   },
   "outputs": [
    {
     "name": "stdout",
     "output_type": "stream",
     "text": [
      "(13, 5)\n"
     ]
    },
    {
     "data": {
      "text/html": [
       "<div>\n",
       "<table border=\"1\" class=\"dataframe\">\n",
       "  <thead>\n",
       "    <tr style=\"text-align: right;\">\n",
       "      <th></th>\n",
       "      <th>hour_created</th>\n",
       "      <th>source</th>\n",
       "      <th>text</th>\n",
       "      <th>favorite_count</th>\n",
       "      <th>retweet_count</th>\n",
       "    </tr>\n",
       "    <tr>\n",
       "      <th>tid</th>\n",
       "      <th></th>\n",
       "      <th></th>\n",
       "      <th></th>\n",
       "      <th></th>\n",
       "      <th></th>\n",
       "    </tr>\n",
       "  </thead>\n",
       "  <tbody>\n",
       "    <tr>\n",
       "      <th>829035704021823488</th>\n",
       "      <td>18</td>\n",
       "      <td>Twitter for iPhone</td>\n",
       "      <td>Congratulations to IU alumnus and @IndianaMBB ...</td>\n",
       "      <td>174</td>\n",
       "      <td>35</td>\n",
       "    </tr>\n",
       "    <tr>\n",
       "      <th>828364094076047360</th>\n",
       "      <td>22</td>\n",
       "      <td>Twitter for iPhone</td>\n",
       "      <td>Good luck to @HoosierFootball alumnus Tevin Co...</td>\n",
       "      <td>474</td>\n",
       "      <td>208</td>\n",
       "    </tr>\n",
       "    <tr>\n",
       "      <th>827147922898878465</th>\n",
       "      <td>13</td>\n",
       "      <td>Twitter for iPhone</td>\n",
       "      <td>Happy Groundhog Day, Hoosiers! The person who ...</td>\n",
       "      <td>61</td>\n",
       "      <td>13</td>\n",
       "    </tr>\n",
       "    <tr>\n",
       "      <th>826051681452437504</th>\n",
       "      <td>12</td>\n",
       "      <td>Twitter for iPhone</td>\n",
       "      <td>It's cold out there this morning, Hoosiers. Ma...</td>\n",
       "      <td>70</td>\n",
       "      <td>18</td>\n",
       "    </tr>\n",
       "    <tr>\n",
       "      <th>824971709992300544</th>\n",
       "      <td>13</td>\n",
       "      <td>Twitter for iPhone</td>\n",
       "      <td>Current Status: ❄️❄️❄️</td>\n",
       "      <td>142</td>\n",
       "      <td>33</td>\n",
       "    </tr>\n",
       "  </tbody>\n",
       "</table>\n",
       "</div>"
      ],
      "text/plain": [
       "                    hour_created              source  \\\n",
       "tid                                                    \n",
       "829035704021823488            18  Twitter for iPhone   \n",
       "828364094076047360            22  Twitter for iPhone   \n",
       "827147922898878465            13  Twitter for iPhone   \n",
       "826051681452437504            12  Twitter for iPhone   \n",
       "824971709992300544            13  Twitter for iPhone   \n",
       "\n",
       "                                                                 text  \\\n",
       "tid                                                                     \n",
       "829035704021823488  Congratulations to IU alumnus and @IndianaMBB ...   \n",
       "828364094076047360  Good luck to @HoosierFootball alumnus Tevin Co...   \n",
       "827147922898878465  Happy Groundhog Day, Hoosiers! The person who ...   \n",
       "826051681452437504  It's cold out there this morning, Hoosiers. Ma...   \n",
       "824971709992300544                             Current Status: ❄️❄️❄️   \n",
       "\n",
       "                    favorite_count  retweet_count  \n",
       "tid                                                \n",
       "829035704021823488             174             35  \n",
       "828364094076047360             474            208  \n",
       "827147922898878465              61             13  \n",
       "826051681452437504              70             18  \n",
       "824971709992300544             142             33  "
      ]
     },
     "execution_count": 40,
     "metadata": {},
     "output_type": "execute_result"
    }
   ],
   "source": [
    "pop_iphone = df[(df['source'] == \"Twitter for iPhone\") & (df['favorite_count'] > 20)]\n",
    "print(pop_iphone.shape)\n",
    "pop_iphone.head()"
   ]
  },
  {
   "cell_type": "markdown",
   "metadata": {},
   "source": [
    "There are 24 tweets that meet this condition. \n",
    "\n",
    "# Exploring Columns\n",
    "\n",
    "You can subset a column and use a pandas method to explore it a bit. \n",
    "\n",
    "Let's explore favorite_count.\n",
    "\n",
    "What's the average amount of favorites?"
   ]
  },
  {
   "cell_type": "code",
   "execution_count": 41,
   "metadata": {
    "collapsed": false
   },
   "outputs": [
    {
     "data": {
      "text/plain": [
       "11.61"
      ]
     },
     "execution_count": 41,
     "metadata": {},
     "output_type": "execute_result"
    }
   ],
   "source": [
    "favorites = df['favorite_count']\n",
    "favorites.mean()"
   ]
  },
  {
   "cell_type": "markdown",
   "metadata": {},
   "source": [
    "What's the standard deviation of the favorites?"
   ]
  },
  {
   "cell_type": "code",
   "execution_count": 42,
   "metadata": {
    "collapsed": false
   },
   "outputs": [
    {
     "data": {
      "text/plain": [
       "51.81609513877753"
      ]
     },
     "execution_count": 42,
     "metadata": {},
     "output_type": "execute_result"
    }
   ],
   "source": [
    "favorites.std()"
   ]
  },
  {
   "cell_type": "markdown",
   "metadata": {},
   "source": [
    "What is the most favorites a tweet has gotten?"
   ]
  },
  {
   "cell_type": "code",
   "execution_count": 43,
   "metadata": {
    "collapsed": false
   },
   "outputs": [
    {
     "data": {
      "text/plain": [
       "605"
      ]
     },
     "execution_count": 43,
     "metadata": {},
     "output_type": "execute_result"
    }
   ],
   "source": [
    "favorites.max()"
   ]
  },
  {
   "cell_type": "markdown",
   "metadata": {},
   "source": [
    "Get all of these descriptive statistics in one go with the method ``.describe()``."
   ]
  },
  {
   "cell_type": "code",
   "execution_count": 44,
   "metadata": {
    "collapsed": false
   },
   "outputs": [
    {
     "data": {
      "text/plain": [
       "count    500.000000\n",
       "mean      11.610000\n",
       "std       51.816095\n",
       "min        0.000000\n",
       "25%        0.000000\n",
       "50%        0.000000\n",
       "75%        3.000000\n",
       "max      605.000000\n",
       "Name: favorite_count, dtype: float64"
      ]
     },
     "execution_count": 44,
     "metadata": {},
     "output_type": "execute_result"
    }
   ],
   "source": [
    "favorites.describe()"
   ]
  },
  {
   "cell_type": "markdown",
   "metadata": {},
   "source": [
    "# Visualizing \n",
    "\n",
    "Of course, we can use the handy subsetting features to help us with our visualizations. "
   ]
  },
  {
   "cell_type": "code",
   "execution_count": 45,
   "metadata": {
    "collapsed": false
   },
   "outputs": [
    {
     "data": {
      "image/png": "[encoded data removed]",
      "text/plain": [
       "<matplotlib.figure.Figure at 0x26f769df198>"
      ]
     },
     "metadata": {},
     "output_type": "display_data"
    }
   ],
   "source": [
    "%matplotlib inline\n",
    "import matplotlib.pyplot as plt\n",
    "plt.ioff()\n",
    "\n",
    "favorites = df['favorite_count']\n",
    "retweets = df['retweet_count']\n",
    "plt.boxplot([favorites, retweets], labels=[\"Favorite Count\", \"Retweet Count\"])\n",
    "plt.show()"
   ]
  },
  {
   "cell_type": "markdown",
   "metadata": {},
   "source": [
    "Both favorite counts and retweet counts are concentrated at the low values but there are some notable outliers. This makes sense; most tweets will get few favorites and retweets, but on occassion a tweet will get many favorites or retweets.\n",
    "\n",
    "Are favorites and retweets correlated?"
   ]
  },
  {
   "cell_type": "code",
   "execution_count": 46,
   "metadata": {
    "collapsed": false
   },
   "outputs": [
    {
     "data": {
      "image/png": "[encoded data removed]",
      "text/plain": [
       "<matplotlib.figure.Figure at 0x26f769cac88>"
      ]
     },
     "metadata": {},
     "output_type": "display_data"
    }
   ],
   "source": [
    "plt.plot(favorites, retweets, \"ro\")\n",
    "plt.xlabel(\"Favorite Count\")\n",
    "plt.ylabel(\"Retweet Count\")\n",
    "plt.show()"
   ]
  },
  {
   "cell_type": "markdown",
   "metadata": {},
   "source": [
    "Doesn't seem so. There are some tweets that were favorited 0 times but were retweeted hundreds of times. \n",
    "\n",
    "# Grouping an Aggregating\n",
    "\n",
    "Using pandas it is easy to group your data according to a certain label and then extract aggregate statistics. \n",
    "\n",
    "First, you have to make a groupby object and desginate which feature you want to group your rows by."
   ]
  },
  {
   "cell_type": "code",
   "execution_count": 47,
   "metadata": {
    "collapsed": false
   },
   "outputs": [
    {
     "data": {
      "text/plain": [
       "<pandas.core.groupby.DataFrameGroupBy object at 0x0000026F782A2080>"
      ]
     },
     "execution_count": 47,
     "metadata": {},
     "output_type": "execute_result"
    }
   ],
   "source": [
    "source_group = df.groupby(\"source\")\n",
    "source_group"
   ]
  },
  {
   "cell_type": "markdown",
   "metadata": {},
   "source": [
    "Not very helpful, yet. ``source_group`` represents a data structure where all the rows are grouped by the ``source`` they have (e.g. iPhone rows are together, Android rows are together). But to get useful information from a groupby object we also need to indicate the aggregate statistic we want. \n",
    "\n",
    "For example, tell me the total number of samples per source:"
   ]
  },
  {
   "cell_type": "code",
   "execution_count": 48,
   "metadata": {
    "collapsed": false
   },
   "outputs": [
    {
     "data": {
      "text/plain": [
       "source\n",
       "Sprout Social         156\n",
       "Twitter Web Client    278\n",
       "Twitter for iPad       17\n",
       "Twitter for iPhone     49\n",
       "Name: source, dtype: int64"
      ]
     },
     "execution_count": 48,
     "metadata": {},
     "output_type": "execute_result"
    }
   ],
   "source": [
    "source_group['source'].agg(\"count\")"
   ]
  },
  {
   "cell_type": "markdown",
   "metadata": {},
   "source": [
    "The string in the brackets tells pandas which column you want to aggregate, and the thing in the parentheses after ``agg`` tells pandas how you want to aggregate them.\n",
    "\n",
    "When group by source, what is the average favorite count?"
   ]
  },
  {
   "cell_type": "code",
   "execution_count": 49,
   "metadata": {
    "collapsed": false
   },
   "outputs": [
    {
     "data": {
      "text/plain": [
       "source\n",
       "Sprout Social         11.455128\n",
       "Twitter Web Client     9.428058\n",
       "Twitter for iPad       5.764706\n",
       "Twitter for iPhone    26.510204\n",
       "Name: favorite_count, dtype: float64"
      ]
     },
     "execution_count": 49,
     "metadata": {},
     "output_type": "execute_result"
    }
   ],
   "source": [
    "source_group['favorite_count'].agg('mean')"
   ]
  },
  {
   "cell_type": "markdown",
   "metadata": {},
   "source": [
    "When grouped by source, what is the average favorite count *and* the average retweet count?"
   ]
  },
  {
   "cell_type": "code",
   "execution_count": 50,
   "metadata": {
    "collapsed": false
   },
   "outputs": [
    {
     "data": {
      "text/html": [
       "<div>\n",
       "<table border=\"1\" class=\"dataframe\">\n",
       "  <thead>\n",
       "    <tr style=\"text-align: right;\">\n",
       "      <th></th>\n",
       "      <th>favorite_count</th>\n",
       "      <th>retweet_count</th>\n",
       "    </tr>\n",
       "    <tr>\n",
       "      <th>source</th>\n",
       "      <th></th>\n",
       "      <th></th>\n",
       "    </tr>\n",
       "  </thead>\n",
       "  <tbody>\n",
       "    <tr>\n",
       "      <th>Sprout Social</th>\n",
       "      <td>11.455128</td>\n",
       "      <td>8.416667</td>\n",
       "    </tr>\n",
       "    <tr>\n",
       "      <th>Twitter Web Client</th>\n",
       "      <td>9.428058</td>\n",
       "      <td>16.802158</td>\n",
       "    </tr>\n",
       "    <tr>\n",
       "      <th>Twitter for iPad</th>\n",
       "      <td>5.764706</td>\n",
       "      <td>14.294118</td>\n",
       "    </tr>\n",
       "    <tr>\n",
       "      <th>Twitter for iPhone</th>\n",
       "      <td>26.510204</td>\n",
       "      <td>33.163265</td>\n",
       "    </tr>\n",
       "  </tbody>\n",
       "</table>\n",
       "</div>"
      ],
      "text/plain": [
       "                    favorite_count  retweet_count\n",
       "source                                           \n",
       "Sprout Social            11.455128       8.416667\n",
       "Twitter Web Client        9.428058      16.802158\n",
       "Twitter for iPad          5.764706      14.294118\n",
       "Twitter for iPhone       26.510204      33.163265"
      ]
     },
     "execution_count": 50,
     "metadata": {},
     "output_type": "execute_result"
    }
   ],
   "source": [
    "source_group[['favorite_count', 'retweet_count']].agg(\"mean\")"
   ]
  },
  {
   "cell_type": "markdown",
   "metadata": {},
   "source": [
    "# Saving data frames as CSVs\n",
    "\n",
    "Pandas is also useful because you can save the data you have organized as a ``.csv`` comma-separated value file. You can then explore your data in a spreadsheet program like excel.\n",
    "\n",
    "Use the method ``to_csv`` and provide to it the name of the file you'd like to save."
   ]
  },
  {
   "cell_type": "code",
   "execution_count": 51,
   "metadata": {
    "collapsed": true
   },
   "outputs": [],
   "source": [
    "df.to_csv(\"IUB500Tweets.csv\")"
   ]
  },
  {
   "cell_type": "markdown",
   "metadata": {},
   "source": [
    "Of course, once you've saved your data, you can easily load it back into python using ``read_csv``. Provide the file name, the position of the index column, and if you're using Windows you may need to specify encoding. "
   ]
  },
  {
   "cell_type": "code",
   "execution_count": 52,
   "metadata": {
    "collapsed": true
   },
   "outputs": [],
   "source": [
    "new_df = pd.read_csv(\"IUB500Tweets.csv\", index_col=0, encoding=\"latin1\")"
   ]
  },
  {
   "cell_type": "code",
   "execution_count": 53,
   "metadata": {
    "collapsed": false
   },
   "outputs": [
    {
     "data": {
      "text/html": [
       "<div>\n",
       "<table border=\"1\" class=\"dataframe\">\n",
       "  <thead>\n",
       "    <tr style=\"text-align: right;\">\n",
       "      <th></th>\n",
       "      <th>hour_created</th>\n",
       "      <th>source</th>\n",
       "      <th>text</th>\n",
       "      <th>favorite_count</th>\n",
       "      <th>retweet_count</th>\n",
       "    </tr>\n",
       "    <tr>\n",
       "      <th>tid</th>\n",
       "      <th></th>\n",
       "      <th></th>\n",
       "      <th></th>\n",
       "      <th></th>\n",
       "      <th></th>\n",
       "    </tr>\n",
       "  </thead>\n",
       "  <tbody>\n",
       "    <tr>\n",
       "      <th>830950002012913665</th>\n",
       "      <td>1</td>\n",
       "      <td>Twitter Web Client</td>\n",
       "      <td>RT @ichchokey: IU IS THIS THE 2016-17 CROSSROA...</td>\n",
       "      <td>0</td>\n",
       "      <td>25</td>\n",
       "    </tr>\n",
       "    <tr>\n",
       "      <th>830949954856374272</th>\n",
       "      <td>1</td>\n",
       "      <td>Twitter Web Client</td>\n",
       "      <td>RT @Hoosier_Hockey: HOOSIERS WIN THE ICHC CONF...</td>\n",
       "      <td>0</td>\n",
       "      <td>15</td>\n",
       "    </tr>\n",
       "    <tr>\n",
       "      <th>830949715327983616</th>\n",
       "      <td>1</td>\n",
       "      <td>Twitter Web Client</td>\n",
       "      <td>RT @IUWSoccer: #IUWS was recognized at today's...</td>\n",
       "      <td>0</td>\n",
       "      <td>28</td>\n",
       "    </tr>\n",
       "    <tr>\n",
       "      <th>830949542535299074</th>\n",
       "      <td>1</td>\n",
       "      <td>Sprout Social</td>\n",
       "      <td>@lizzard723 We hope you know this is going on ...</td>\n",
       "      <td>0</td>\n",
       "      <td>0</td>\n",
       "    </tr>\n",
       "    <tr>\n",
       "      <th>830947783280570368</th>\n",
       "      <td>1</td>\n",
       "      <td>Twitter Web Client</td>\n",
       "      <td>RT @IUJSoM: Good luck to all Jacobs nominees t...</td>\n",
       "      <td>0</td>\n",
       "      <td>5</td>\n",
       "    </tr>\n",
       "  </tbody>\n",
       "</table>\n",
       "</div>"
      ],
      "text/plain": [
       "                    hour_created              source  \\\n",
       "tid                                                    \n",
       "830950002012913665             1  Twitter Web Client   \n",
       "830949954856374272             1  Twitter Web Client   \n",
       "830949715327983616             1  Twitter Web Client   \n",
       "830949542535299074             1       Sprout Social   \n",
       "830947783280570368             1  Twitter Web Client   \n",
       "\n",
       "                                                                 text  \\\n",
       "tid                                                                     \n",
       "830950002012913665  RT @ichchokey: IU IS THIS THE 2016-17 CROSSROA...   \n",
       "830949954856374272  RT @Hoosier_Hockey: HOOSIERS WIN THE ICHC CONF...   \n",
       "830949715327983616  RT @IUWSoccer: #IUWS was recognized at today's...   \n",
       "830949542535299074  @lizzard723 We hope you know this is going on ...   \n",
       "830947783280570368  RT @IUJSoM: Good luck to all Jacobs nominees t...   \n",
       "\n",
       "                    favorite_count  retweet_count  \n",
       "tid                                                \n",
       "830950002012913665               0             25  \n",
       "830949954856374272               0             15  \n",
       "830949715327983616               0             28  \n",
       "830949542535299074               0              0  \n",
       "830947783280570368               0              5  "
      ]
     },
     "execution_count": 53,
     "metadata": {},
     "output_type": "execute_result"
    }
   ],
   "source": [
    "new_df.head()"
   ]
  },
  {
   "cell_type": "markdown",
   "metadata": {},
   "source": [
    "# Pandas Data Frames works just fine with Scikit-Learn\n",
    "\n",
    "If you organized your data in a data frame, you can pass it straight into a scikit-learn algorith without any problems."
   ]
  },
  {
   "cell_type": "code",
   "execution_count": 54,
   "metadata": {
    "collapsed": false
   },
   "outputs": [
    {
     "data": {
      "text/html": [
       "<div>\n",
       "<table border=\"1\" class=\"dataframe\">\n",
       "  <thead>\n",
       "    <tr style=\"text-align: right;\">\n",
       "      <th></th>\n",
       "      <th>sepal_length</th>\n",
       "      <th>sepal_width</th>\n",
       "      <th>petal_length</th>\n",
       "      <th>petal_width</th>\n",
       "      <th>species</th>\n",
       "    </tr>\n",
       "  </thead>\n",
       "  <tbody>\n",
       "    <tr>\n",
       "      <th>0</th>\n",
       "      <td>5.1</td>\n",
       "      <td>3.5</td>\n",
       "      <td>1.4</td>\n",
       "      <td>0.2</td>\n",
       "      <td>0.0</td>\n",
       "    </tr>\n",
       "    <tr>\n",
       "      <th>1</th>\n",
       "      <td>4.9</td>\n",
       "      <td>3.0</td>\n",
       "      <td>1.4</td>\n",
       "      <td>0.2</td>\n",
       "      <td>0.0</td>\n",
       "    </tr>\n",
       "    <tr>\n",
       "      <th>2</th>\n",
       "      <td>4.7</td>\n",
       "      <td>3.2</td>\n",
       "      <td>1.3</td>\n",
       "      <td>0.2</td>\n",
       "      <td>0.0</td>\n",
       "    </tr>\n",
       "    <tr>\n",
       "      <th>3</th>\n",
       "      <td>4.6</td>\n",
       "      <td>3.1</td>\n",
       "      <td>1.5</td>\n",
       "      <td>0.2</td>\n",
       "      <td>0.0</td>\n",
       "    </tr>\n",
       "    <tr>\n",
       "      <th>4</th>\n",
       "      <td>5.0</td>\n",
       "      <td>3.6</td>\n",
       "      <td>1.4</td>\n",
       "      <td>0.2</td>\n",
       "      <td>0.0</td>\n",
       "    </tr>\n",
       "  </tbody>\n",
       "</table>\n",
       "</div>"
      ],
      "text/plain": [
       "   sepal_length  sepal_width  petal_length  petal_width  species\n",
       "0           5.1          3.5           1.4          0.2      0.0\n",
       "1           4.9          3.0           1.4          0.2      0.0\n",
       "2           4.7          3.2           1.3          0.2      0.0\n",
       "3           4.6          3.1           1.5          0.2      0.0\n",
       "4           5.0          3.6           1.4          0.2      0.0"
      ]
     },
     "execution_count": 54,
     "metadata": {},
     "output_type": "execute_result"
    }
   ],
   "source": [
    "import numpy as np\n",
    "from sklearn.datasets import load_iris\n",
    "iris = load_iris()\n",
    "alldata = np.hstack((iris.data, iris.target.reshape(-1, 1)))\n",
    "df = pd.DataFrame(alldata, columns=[\"sepal_length\", \"sepal_width\", \"petal_length\", \"petal_width\", \"species\"])\n",
    "df.head()"
   ]
  },
  {
   "cell_type": "markdown",
   "metadata": {},
   "source": [
    "Here in ``df`` I have the Iris data, but in data frame format. We can subset as we please and throw the results into any sklearn model. I'll use an SVM."
   ]
  },
  {
   "cell_type": "code",
   "execution_count": 55,
   "metadata": {
    "collapsed": false
   },
   "outputs": [],
   "source": [
    "from sklearn.svm import SVC\n",
    "from sklearn.model_selection import train_test_split\n",
    "from sklearn.metrics import accuracy_score"
   ]
  },
  {
   "cell_type": "code",
   "execution_count": 56,
   "metadata": {
    "collapsed": true
   },
   "outputs": [],
   "source": [
    "# Using pandas subsetting, we extract the training features\n",
    "X = df[['sepal_length', 'sepal_width', 'petal_length', 'petal_width']]\n",
    "y = df['species']"
   ]
  },
  {
   "cell_type": "code",
   "execution_count": 57,
   "metadata": {
    "collapsed": false
   },
   "outputs": [
    {
     "data": {
      "text/plain": [
       "0.95999999999999996"
      ]
     },
     "execution_count": 57,
     "metadata": {},
     "output_type": "execute_result"
    }
   ],
   "source": [
    "# Continue as usual\n",
    "\n",
    "X_train, X_test, y_train, y_test = train_test_split(X, y, test_size=0.33)\n",
    "\n",
    "clf = SVC()\n",
    "clf.fit(X_train, y_train)\n",
    "y_pred = clf.predict(X_test)\n",
    "accuracy_score(y_test, y_pred)"
   ]
  }
 ],
 "metadata": {
  "anaconda-cloud": {},
  "kernelspec": {
   "display_name": "Python [Root]",
   "language": "python",
   "name": "Python [Root]"
  },
  "language_info": {
   "codemirror_mode": {
    "name": "ipython",
    "version": 3
   },
   "file_extension": ".py",
   "mimetype": "text/x-python",
   "name": "python",
   "nbconvert_exporter": "python",
   "pygments_lexer": "ipython3",
   "version": "3.5.2"
  }
 },
 "nbformat": 4,
 "nbformat_minor": 0
}
