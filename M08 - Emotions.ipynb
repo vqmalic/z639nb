{
 "cells": [
  {
   "cell_type": "markdown",
   "metadata": {},
   "source": [
    "Let's use the same set of 5000 tweets we collected for last week's lecture on sentiment. There are 2500 tweets from the Clinton twitter account, and 2500 tweets from the Trump account."
   ]
  },
  {
   "cell_type": "code",
   "execution_count": 1,
   "metadata": {
    "collapsed": false
   },
   "outputs": [],
   "source": [
    "import pandas as pd\n",
    "df = pd.read_csv(\"sentimentanalysis.csv\", index_col=0, encoding=\"latin1\")"
   ]
  },
  {
   "cell_type": "code",
   "execution_count": 2,
   "metadata": {
    "collapsed": false
   },
   "outputs": [
    {
     "data": {
      "text/html": [
       "<div>\n",
       "<table border=\"1\" class=\"dataframe\">\n",
       "  <thead>\n",
       "    <tr style=\"text-align: right;\">\n",
       "      <th></th>\n",
       "      <th>user</th>\n",
       "      <th>text</th>\n",
       "      <th>source</th>\n",
       "      <th>fav</th>\n",
       "      <th>rt</th>\n",
       "    </tr>\n",
       "  </thead>\n",
       "  <tbody>\n",
       "    <tr>\n",
       "      <th>0</th>\n",
       "      <td>realDonaldTrump</td>\n",
       "      <td>Remember, don't believe \"sources said\" by the ...</td>\n",
       "      <td>Twitter for Android</td>\n",
       "      <td>8572</td>\n",
       "      <td>3616</td>\n",
       "    </tr>\n",
       "    <tr>\n",
       "      <th>1</th>\n",
       "      <td>realDonaldTrump</td>\n",
       "      <td>Did Crooked Hillary help disgusting (check out...</td>\n",
       "      <td>Twitter for Android</td>\n",
       "      <td>12930</td>\n",
       "      <td>5628</td>\n",
       "    </tr>\n",
       "    <tr>\n",
       "      <th>2</th>\n",
       "      <td>realDonaldTrump</td>\n",
       "      <td>Using Alicia M in the debate as a paragon of v...</td>\n",
       "      <td>Twitter for Android</td>\n",
       "      <td>12738</td>\n",
       "      <td>5209</td>\n",
       "    </tr>\n",
       "    <tr>\n",
       "      <th>3</th>\n",
       "      <td>realDonaldTrump</td>\n",
       "      <td>Wow, Crooked Hillary was duped and used by my ...</td>\n",
       "      <td>Twitter for Android</td>\n",
       "      <td>13210</td>\n",
       "      <td>5205</td>\n",
       "    </tr>\n",
       "    <tr>\n",
       "      <th>4</th>\n",
       "      <td>realDonaldTrump</td>\n",
       "      <td>Anytime you see a story about me or my campaig...</td>\n",
       "      <td>Twitter for Android</td>\n",
       "      <td>21316</td>\n",
       "      <td>9147</td>\n",
       "    </tr>\n",
       "  </tbody>\n",
       "</table>\n",
       "</div>"
      ],
      "text/plain": [
       "              user                                               text  \\\n",
       "0  realDonaldTrump  Remember, don't believe \"sources said\" by the ...   \n",
       "1  realDonaldTrump  Did Crooked Hillary help disgusting (check out...   \n",
       "2  realDonaldTrump  Using Alicia M in the debate as a paragon of v...   \n",
       "3  realDonaldTrump  Wow, Crooked Hillary was duped and used by my ...   \n",
       "4  realDonaldTrump  Anytime you see a story about me or my campaig...   \n",
       "\n",
       "                source    fav    rt  \n",
       "0  Twitter for Android   8572  3616  \n",
       "1  Twitter for Android  12930  5628  \n",
       "2  Twitter for Android  12738  5209  \n",
       "3  Twitter for Android  13210  5205  \n",
       "4  Twitter for Android  21316  9147  "
      ]
     },
     "execution_count": 2,
     "metadata": {},
     "output_type": "execute_result"
    }
   ],
   "source": [
    "df.head()"
   ]
  },
  {
   "cell_type": "markdown",
   "metadata": {},
   "source": [
    "We will use the NRC emotion lexicon as a pre-existing knowledge base to assist us in identifying words in tweets that have an association with one of the 8 Ekman emotions. I've downloaded the text file and have included it on Canvas.\n",
    "\n",
    "We'll use ``read_csv`` to read the lexicon into our environment as a data frame. There are some things of note here, though: first, column values in this ``.txt`` file are separated by tabs. We have to pass a named argument called ``sep`` to indicate to Pandas that the conventional comma is **not** the separater. In Python, a tab is represented as ``\\t``, so the argument looks like ``sep=\"\\t\"``. Secondly, there is a lot of information about the dataset that is embedded *in* the text file. I opened the text file in an editor and noted that the first 46 rows are metadata about the set. We don't want to read this into our dataframe, of course. Therefore, I pass another named argument, ``skiprows=45``, which tells Pandas to skip the first 46 rows: the value is 45 because, as always, Python starts counting from 0."
   ]
  },
  {
   "cell_type": "code",
   "execution_count": 3,
   "metadata": {
    "collapsed": false
   },
   "outputs": [],
   "source": [
    "nrc = pd.read_csv(\"NRC-emotion-lexicon-wordlevel-alphabetized-v0.92.txt\", sep=\"\\t\", names=[\"word\", \"emotion\", \"association\"], skiprows=45)"
   ]
  },
  {
   "cell_type": "markdown",
   "metadata": {},
   "source": [
    "Let's take a look at how the NRC is formatted. "
   ]
  },
  {
   "cell_type": "code",
   "execution_count": 4,
   "metadata": {
    "collapsed": false
   },
   "outputs": [
    {
     "data": {
      "text/html": [
       "<div>\n",
       "<table border=\"1\" class=\"dataframe\">\n",
       "  <thead>\n",
       "    <tr style=\"text-align: right;\">\n",
       "      <th></th>\n",
       "      <th>word</th>\n",
       "      <th>emotion</th>\n",
       "      <th>association</th>\n",
       "    </tr>\n",
       "  </thead>\n",
       "  <tbody>\n",
       "    <tr>\n",
       "      <th>0</th>\n",
       "      <td>aback</td>\n",
       "      <td>anger</td>\n",
       "      <td>0</td>\n",
       "    </tr>\n",
       "    <tr>\n",
       "      <th>1</th>\n",
       "      <td>aback</td>\n",
       "      <td>anticipation</td>\n",
       "      <td>0</td>\n",
       "    </tr>\n",
       "    <tr>\n",
       "      <th>2</th>\n",
       "      <td>aback</td>\n",
       "      <td>disgust</td>\n",
       "      <td>0</td>\n",
       "    </tr>\n",
       "    <tr>\n",
       "      <th>3</th>\n",
       "      <td>aback</td>\n",
       "      <td>fear</td>\n",
       "      <td>0</td>\n",
       "    </tr>\n",
       "    <tr>\n",
       "      <th>4</th>\n",
       "      <td>aback</td>\n",
       "      <td>joy</td>\n",
       "      <td>0</td>\n",
       "    </tr>\n",
       "    <tr>\n",
       "      <th>5</th>\n",
       "      <td>aback</td>\n",
       "      <td>negative</td>\n",
       "      <td>0</td>\n",
       "    </tr>\n",
       "    <tr>\n",
       "      <th>6</th>\n",
       "      <td>aback</td>\n",
       "      <td>positive</td>\n",
       "      <td>0</td>\n",
       "    </tr>\n",
       "    <tr>\n",
       "      <th>7</th>\n",
       "      <td>aback</td>\n",
       "      <td>sadness</td>\n",
       "      <td>0</td>\n",
       "    </tr>\n",
       "    <tr>\n",
       "      <th>8</th>\n",
       "      <td>aback</td>\n",
       "      <td>surprise</td>\n",
       "      <td>0</td>\n",
       "    </tr>\n",
       "    <tr>\n",
       "      <th>9</th>\n",
       "      <td>aback</td>\n",
       "      <td>trust</td>\n",
       "      <td>0</td>\n",
       "    </tr>\n",
       "    <tr>\n",
       "      <th>10</th>\n",
       "      <td>abacus</td>\n",
       "      <td>anger</td>\n",
       "      <td>0</td>\n",
       "    </tr>\n",
       "    <tr>\n",
       "      <th>11</th>\n",
       "      <td>abacus</td>\n",
       "      <td>anticipation</td>\n",
       "      <td>0</td>\n",
       "    </tr>\n",
       "    <tr>\n",
       "      <th>12</th>\n",
       "      <td>abacus</td>\n",
       "      <td>disgust</td>\n",
       "      <td>0</td>\n",
       "    </tr>\n",
       "    <tr>\n",
       "      <th>13</th>\n",
       "      <td>abacus</td>\n",
       "      <td>fear</td>\n",
       "      <td>0</td>\n",
       "    </tr>\n",
       "    <tr>\n",
       "      <th>14</th>\n",
       "      <td>abacus</td>\n",
       "      <td>joy</td>\n",
       "      <td>0</td>\n",
       "    </tr>\n",
       "    <tr>\n",
       "      <th>15</th>\n",
       "      <td>abacus</td>\n",
       "      <td>negative</td>\n",
       "      <td>0</td>\n",
       "    </tr>\n",
       "    <tr>\n",
       "      <th>16</th>\n",
       "      <td>abacus</td>\n",
       "      <td>positive</td>\n",
       "      <td>0</td>\n",
       "    </tr>\n",
       "    <tr>\n",
       "      <th>17</th>\n",
       "      <td>abacus</td>\n",
       "      <td>sadness</td>\n",
       "      <td>0</td>\n",
       "    </tr>\n",
       "    <tr>\n",
       "      <th>18</th>\n",
       "      <td>abacus</td>\n",
       "      <td>surprise</td>\n",
       "      <td>0</td>\n",
       "    </tr>\n",
       "    <tr>\n",
       "      <th>19</th>\n",
       "      <td>abacus</td>\n",
       "      <td>trust</td>\n",
       "      <td>1</td>\n",
       "    </tr>\n",
       "    <tr>\n",
       "      <th>20</th>\n",
       "      <td>abandon</td>\n",
       "      <td>anger</td>\n",
       "      <td>0</td>\n",
       "    </tr>\n",
       "    <tr>\n",
       "      <th>21</th>\n",
       "      <td>abandon</td>\n",
       "      <td>anticipation</td>\n",
       "      <td>0</td>\n",
       "    </tr>\n",
       "    <tr>\n",
       "      <th>22</th>\n",
       "      <td>abandon</td>\n",
       "      <td>disgust</td>\n",
       "      <td>0</td>\n",
       "    </tr>\n",
       "    <tr>\n",
       "      <th>23</th>\n",
       "      <td>abandon</td>\n",
       "      <td>fear</td>\n",
       "      <td>1</td>\n",
       "    </tr>\n",
       "    <tr>\n",
       "      <th>24</th>\n",
       "      <td>abandon</td>\n",
       "      <td>joy</td>\n",
       "      <td>0</td>\n",
       "    </tr>\n",
       "  </tbody>\n",
       "</table>\n",
       "</div>"
      ],
      "text/plain": [
       "       word       emotion  association\n",
       "0     aback         anger            0\n",
       "1     aback  anticipation            0\n",
       "2     aback       disgust            0\n",
       "3     aback          fear            0\n",
       "4     aback           joy            0\n",
       "5     aback      negative            0\n",
       "6     aback      positive            0\n",
       "7     aback       sadness            0\n",
       "8     aback      surprise            0\n",
       "9     aback         trust            0\n",
       "10   abacus         anger            0\n",
       "11   abacus  anticipation            0\n",
       "12   abacus       disgust            0\n",
       "13   abacus          fear            0\n",
       "14   abacus           joy            0\n",
       "15   abacus      negative            0\n",
       "16   abacus      positive            0\n",
       "17   abacus       sadness            0\n",
       "18   abacus      surprise            0\n",
       "19   abacus         trust            1\n",
       "20  abandon         anger            0\n",
       "21  abandon  anticipation            0\n",
       "22  abandon       disgust            0\n",
       "23  abandon          fear            1\n",
       "24  abandon           joy            0"
      ]
     },
     "execution_count": 4,
     "metadata": {},
     "output_type": "execute_result"
    }
   ],
   "source": [
    "nrc.head(25)"
   ]
  },
  {
   "cell_type": "markdown",
   "metadata": {},
   "source": [
    "The NRC data is formatted a bit strangely. Each word in the NRC, like \"aback\" and \"abacus\" has a row with *all 8* Ekman emotions *and* the values \"positive\" and \"negative\", which correspond to the sentiment polarity of the word. Then, in the thrid column, a value of ``1`` indicates there *is* a relationship between that word and that emotion/sentiment, and a value of 0 means there is *not* a relationship. \n",
    "\n",
    "The researchers may have had a reason for formatting the data this way, but for our purposes we only need to know when there *is* a word-emotion relationship. So I'll filter the data, so we only have rows where the value in the 3rd column is 1. "
   ]
  },
  {
   "cell_type": "code",
   "execution_count": 5,
   "metadata": {
    "collapsed": false
   },
   "outputs": [],
   "source": [
    "nrc = nrc[nrc[\"association\"] == 1]"
   ]
  },
  {
   "cell_type": "markdown",
   "metadata": {},
   "source": [
    "Furthermore, the sentiment markers of positive and negative may be of interest to you, but since we covered sentiment polarity last week, I'm going to remove all the rows where the value of the second column is ``positive`` and ``negative``, leaving only the emotions."
   ]
  },
  {
   "cell_type": "code",
   "execution_count": 6,
   "metadata": {
    "collapsed": false
   },
   "outputs": [
    {
     "data": {
      "text/html": [
       "<div>\n",
       "<table border=\"1\" class=\"dataframe\">\n",
       "  <thead>\n",
       "    <tr style=\"text-align: right;\">\n",
       "      <th></th>\n",
       "      <th>word</th>\n",
       "      <th>emotion</th>\n",
       "      <th>association</th>\n",
       "    </tr>\n",
       "  </thead>\n",
       "  <tbody>\n",
       "    <tr>\n",
       "      <th>19</th>\n",
       "      <td>abacus</td>\n",
       "      <td>trust</td>\n",
       "      <td>1</td>\n",
       "    </tr>\n",
       "    <tr>\n",
       "      <th>23</th>\n",
       "      <td>abandon</td>\n",
       "      <td>fear</td>\n",
       "      <td>1</td>\n",
       "    </tr>\n",
       "    <tr>\n",
       "      <th>27</th>\n",
       "      <td>abandon</td>\n",
       "      <td>sadness</td>\n",
       "      <td>1</td>\n",
       "    </tr>\n",
       "    <tr>\n",
       "      <th>30</th>\n",
       "      <td>abandoned</td>\n",
       "      <td>anger</td>\n",
       "      <td>1</td>\n",
       "    </tr>\n",
       "    <tr>\n",
       "      <th>33</th>\n",
       "      <td>abandoned</td>\n",
       "      <td>fear</td>\n",
       "      <td>1</td>\n",
       "    </tr>\n",
       "    <tr>\n",
       "      <th>37</th>\n",
       "      <td>abandoned</td>\n",
       "      <td>sadness</td>\n",
       "      <td>1</td>\n",
       "    </tr>\n",
       "    <tr>\n",
       "      <th>40</th>\n",
       "      <td>abandonment</td>\n",
       "      <td>anger</td>\n",
       "      <td>1</td>\n",
       "    </tr>\n",
       "    <tr>\n",
       "      <th>43</th>\n",
       "      <td>abandonment</td>\n",
       "      <td>fear</td>\n",
       "      <td>1</td>\n",
       "    </tr>\n",
       "    <tr>\n",
       "      <th>47</th>\n",
       "      <td>abandonment</td>\n",
       "      <td>sadness</td>\n",
       "      <td>1</td>\n",
       "    </tr>\n",
       "    <tr>\n",
       "      <th>48</th>\n",
       "      <td>abandonment</td>\n",
       "      <td>surprise</td>\n",
       "      <td>1</td>\n",
       "    </tr>\n",
       "    <tr>\n",
       "      <th>89</th>\n",
       "      <td>abbot</td>\n",
       "      <td>trust</td>\n",
       "      <td>1</td>\n",
       "    </tr>\n",
       "    <tr>\n",
       "      <th>133</th>\n",
       "      <td>abduction</td>\n",
       "      <td>fear</td>\n",
       "      <td>1</td>\n",
       "    </tr>\n",
       "    <tr>\n",
       "      <th>137</th>\n",
       "      <td>abduction</td>\n",
       "      <td>sadness</td>\n",
       "      <td>1</td>\n",
       "    </tr>\n",
       "    <tr>\n",
       "      <th>138</th>\n",
       "      <td>abduction</td>\n",
       "      <td>surprise</td>\n",
       "      <td>1</td>\n",
       "    </tr>\n",
       "    <tr>\n",
       "      <th>152</th>\n",
       "      <td>aberration</td>\n",
       "      <td>disgust</td>\n",
       "      <td>1</td>\n",
       "    </tr>\n",
       "    <tr>\n",
       "      <th>170</th>\n",
       "      <td>abhor</td>\n",
       "      <td>anger</td>\n",
       "      <td>1</td>\n",
       "    </tr>\n",
       "    <tr>\n",
       "      <th>172</th>\n",
       "      <td>abhor</td>\n",
       "      <td>disgust</td>\n",
       "      <td>1</td>\n",
       "    </tr>\n",
       "    <tr>\n",
       "      <th>173</th>\n",
       "      <td>abhor</td>\n",
       "      <td>fear</td>\n",
       "      <td>1</td>\n",
       "    </tr>\n",
       "    <tr>\n",
       "      <th>180</th>\n",
       "      <td>abhorrent</td>\n",
       "      <td>anger</td>\n",
       "      <td>1</td>\n",
       "    </tr>\n",
       "    <tr>\n",
       "      <th>182</th>\n",
       "      <td>abhorrent</td>\n",
       "      <td>disgust</td>\n",
       "      <td>1</td>\n",
       "    </tr>\n",
       "    <tr>\n",
       "      <th>183</th>\n",
       "      <td>abhorrent</td>\n",
       "      <td>fear</td>\n",
       "      <td>1</td>\n",
       "    </tr>\n",
       "    <tr>\n",
       "      <th>212</th>\n",
       "      <td>abject</td>\n",
       "      <td>disgust</td>\n",
       "      <td>1</td>\n",
       "    </tr>\n",
       "    <tr>\n",
       "      <th>242</th>\n",
       "      <td>abnormal</td>\n",
       "      <td>disgust</td>\n",
       "      <td>1</td>\n",
       "    </tr>\n",
       "    <tr>\n",
       "      <th>270</th>\n",
       "      <td>abolish</td>\n",
       "      <td>anger</td>\n",
       "      <td>1</td>\n",
       "    </tr>\n",
       "    <tr>\n",
       "      <th>292</th>\n",
       "      <td>abominable</td>\n",
       "      <td>disgust</td>\n",
       "      <td>1</td>\n",
       "    </tr>\n",
       "  </tbody>\n",
       "</table>\n",
       "</div>"
      ],
      "text/plain": [
       "            word   emotion  association\n",
       "19        abacus     trust            1\n",
       "23       abandon      fear            1\n",
       "27       abandon   sadness            1\n",
       "30     abandoned     anger            1\n",
       "33     abandoned      fear            1\n",
       "37     abandoned   sadness            1\n",
       "40   abandonment     anger            1\n",
       "43   abandonment      fear            1\n",
       "47   abandonment   sadness            1\n",
       "48   abandonment  surprise            1\n",
       "89         abbot     trust            1\n",
       "133    abduction      fear            1\n",
       "137    abduction   sadness            1\n",
       "138    abduction  surprise            1\n",
       "152   aberration   disgust            1\n",
       "170        abhor     anger            1\n",
       "172        abhor   disgust            1\n",
       "173        abhor      fear            1\n",
       "180    abhorrent     anger            1\n",
       "182    abhorrent   disgust            1\n",
       "183    abhorrent      fear            1\n",
       "212       abject   disgust            1\n",
       "242     abnormal   disgust            1\n",
       "270      abolish     anger            1\n",
       "292   abominable   disgust            1"
      ]
     },
     "execution_count": 6,
     "metadata": {},
     "output_type": "execute_result"
    }
   ],
   "source": [
    "nrc = nrc[nrc['emotion'].isin(['positive', 'negative']) == False]\n",
    "nrc.head(25)"
   ]
  },
  {
   "cell_type": "markdown",
   "metadata": {},
   "source": [
    "We will now go through the tweets and count how many words representing each emotion is in the tweet. \n",
    "\n",
    "To demonstrate, let's first do this with a single tweet."
   ]
  },
  {
   "cell_type": "code",
   "execution_count": 7,
   "metadata": {
    "collapsed": false
   },
   "outputs": [
    {
     "name": "stdout",
     "output_type": "stream",
     "text": [
      "RT @AndraDayMusic: I was honored to be a part of history at the DNC. Hillary Clinton is an inspiration for women everywhere.\r\n",
      "https://t.co/E",
      "\n"
     ]
    }
   ],
   "source": [
    "tweet = df.iloc[3442, :]\n",
    "print(tweet.text)"
   ]
  },
  {
   "cell_type": "markdown",
   "metadata": {},
   "source": [
    "Unfortunately for the us, we don't have a Python equivalent of the AFINN module to do the heavy lifting for us, so we'll have to perform the counting ourselves, using Python. This will be a good exercise, though. \n",
    "\n",
    "Note, first of all, that our tweet is a string. We need to split this long string into separate words, since we're interested in obtaining counts of words. To do this, we'll use NLTK. Specifically, NLTK has a special tokenier called ``TweetTokenizer`` that does the usual task of splitting strings into words, but is specially trained to handle Twitter-specific words, like mentions and hashtags. Normally, tokenizers are trained to split symbols from words, so that \"#election\" because \"#\" and \"election\", but ``TweetTokenizer`` knows not to do this. "
   ]
  },
  {
   "cell_type": "code",
   "execution_count": 8,
   "metadata": {
    "collapsed": true
   },
   "outputs": [],
   "source": [
    "from nltk.tokenize import TweetTokenizer"
   ]
  },
  {
   "cell_type": "markdown",
   "metadata": {},
   "source": [
    "Use the factory method ``TweetTokenizer`` to make an instance of the tokenizer. We'll call it ``tt``."
   ]
  },
  {
   "cell_type": "code",
   "execution_count": 9,
   "metadata": {
    "collapsed": true
   },
   "outputs": [],
   "source": [
    "tt = TweetTokenizer()"
   ]
  },
  {
   "cell_type": "code",
   "execution_count": 10,
   "metadata": {
    "collapsed": false
   },
   "outputs": [
    {
     "name": "stdout",
     "output_type": "stream",
     "text": [
      "['RT', '@AndraDayMusic', ':', 'I', 'was', 'honored', 'to', 'be', 'a', 'part', 'of', 'history', 'at', 'the', 'DNC', '.', 'Hillary', 'Clinton', 'is', 'an', 'inspiration', 'for', 'women', 'everywhere', '.', 'https://t.co/E']\n"
     ]
    }
   ],
   "source": [
    "tokenized = tt.tokenize(tweet.text)\n",
    "print(tokenized)"
   ]
  },
  {
   "cell_type": "markdown",
   "metadata": {},
   "source": [
    "The words in the NRC are lower-case. If the word ``Abhor``, with a capital ``A``, is in the text, it won't be found in the NRC: Python thinks ``Abhor`` and ``abhor`` are different words.\n",
    "\n",
    "In anticipation of this, let's lowercase every word in the tokenized tweet."
   ]
  },
  {
   "cell_type": "code",
   "execution_count": 11,
   "metadata": {
    "collapsed": false
   },
   "outputs": [
    {
     "name": "stdout",
     "output_type": "stream",
     "text": [
      "['rt', '@andradaymusic', ':', 'i', 'was', 'honored', 'to', 'be', 'a', 'part', 'of', 'history', 'at', 'the', 'dnc', '.', 'hillary', 'clinton', 'is', 'an', 'inspiration', 'for', 'women', 'everywhere', '.', 'https://t.co/e']\n"
     ]
    }
   ],
   "source": [
    "tokenized = [x.lower() for x in tokenized]\n",
    "print(tokenized)"
   ]
  },
  {
   "cell_type": "markdown",
   "metadata": {},
   "source": [
    "Now we're ready to go through all the tokens and count how many times emotion words appear. \n",
    "\n",
    "First, I need to make an inventory of the emotions available to us. "
   ]
  },
  {
   "cell_type": "code",
   "execution_count": 12,
   "metadata": {
    "collapsed": false
   },
   "outputs": [
    {
     "name": "stdout",
     "output_type": "stream",
     "text": [
      "['fear', 'anticipation', 'trust', 'surprise', 'anger', 'sadness', 'joy', 'disgust']\n"
     ]
    }
   ],
   "source": [
    "emotions = list(set(nrc['emotion']))\n",
    "print(emotions)"
   ]
  },
  {
   "cell_type": "markdown",
   "metadata": {},
   "source": [
    "The list ``emotions`` is in an arbitrary order, but we'll use this ordering to create a **count vector** for each tweet. That is, we'll represent each tweet as a vector of length 9, where the first element is the count of how many trust words occurred in it, and the second element is a count of how many anticipation words occurred in it, and so on. \n",
    "\n",
    "To help us do this as we iterate through the tweets, I'm going to make a dictionary. The first will tell me **given an index number, what is its corresponding emotion** and the second will tell me **given an emotion, what is its corresponding index number**. "
   ]
  },
  {
   "cell_type": "code",
   "execution_count": 13,
   "metadata": {
    "collapsed": true
   },
   "outputs": [],
   "source": [
    "index2emotion = {}\n",
    "emotion2index = {}\n",
    "\n",
    "for i in range(len(emotions)):\n",
    "    index2emotion[i] = emotions[i]\n",
    "    emotion2index[emotions[i]] = i"
   ]
  },
  {
   "cell_type": "markdown",
   "metadata": {},
   "source": [
    "With these two dictionaries, if I have an index, I can get an emotion, and if I have an emotion, I can get its index."
   ]
  },
  {
   "cell_type": "code",
   "execution_count": 14,
   "metadata": {
    "collapsed": false
   },
   "outputs": [
    {
     "name": "stdout",
     "output_type": "stream",
     "text": [
      "['fear', 'anticipation', 'trust', 'surprise', 'anger', 'sadness', 'joy', 'disgust']\n"
     ]
    }
   ],
   "source": [
    "print(emotions)"
   ]
  },
  {
   "cell_type": "code",
   "execution_count": 15,
   "metadata": {
    "collapsed": false
   },
   "outputs": [
    {
     "data": {
      "text/plain": [
       "0"
      ]
     },
     "execution_count": 15,
     "metadata": {},
     "output_type": "execute_result"
    }
   ],
   "source": [
    "# What is the position index of the emotion \"fear\"?\n",
    "emotion2index['fear']"
   ]
  },
  {
   "cell_type": "code",
   "execution_count": 16,
   "metadata": {
    "collapsed": false
   },
   "outputs": [
    {
     "data": {
      "text/plain": [
       "'joy'"
      ]
     },
     "execution_count": 16,
     "metadata": {},
     "output_type": "execute_result"
    }
   ],
   "source": [
    "# What emotion is associated with position index 6?\n",
    "index2emotion[6]"
   ]
  },
  {
   "cell_type": "markdown",
   "metadata": {},
   "source": [
    "Now, let's initialize a count vector for the single tweet we're working with. We're going to initialize all values to 0."
   ]
  },
  {
   "cell_type": "code",
   "execution_count": 17,
   "metadata": {
    "collapsed": false
   },
   "outputs": [
    {
     "name": "stdout",
     "output_type": "stream",
     "text": [
      "[0, 0, 0, 0, 0, 0, 0, 0]\n"
     ]
    }
   ],
   "source": [
    "cv = [0] * len(emotions)\n",
    "print(cv)"
   ]
  },
  {
   "cell_type": "markdown",
   "metadata": {},
   "source": [
    "\n",
    "ow, we will iterate through each word in the tweet, and find what emotions are associated with it in the ``nrc`` data frame. "
   ]
  },
  {
   "cell_type": "code",
   "execution_count": 18,
   "metadata": {
    "collapsed": true
   },
   "outputs": [],
   "source": [
    "for token in tokenized:\n",
    "    # Subset NRC to contain ONLY the rows associated with *this* word\n",
    "    sub = nrc[nrc['word'] == token]\n",
    "    # Isolate the column emotion from sub; these are the emotions associated with this word\n",
    "    token_emotions = sub['emotion']\n",
    "    for e in token_emotions:\n",
    "        # e represents one of the emotions associated with this token\n",
    "        # What is the position index associated with this emotion?\n",
    "        position_index = emotion2index[e]\n",
    "        # Increment the variable cv at *this* position index by 1\n",
    "        cv[position_index] += 1"
   ]
  },
  {
   "cell_type": "markdown",
   "metadata": {},
   "source": [
    "Now that we've run this code, let's take a look at ``cv``. "
   ]
  },
  {
   "cell_type": "code",
   "execution_count": 19,
   "metadata": {
    "collapsed": false
   },
   "outputs": [
    {
     "data": {
      "text/plain": [
       "[0, 1, 0, 0, 0, 0, 1, 0]"
      ]
     },
     "execution_count": 19,
     "metadata": {},
     "output_type": "execute_result"
    }
   ],
   "source": [
    "cv"
   ]
  },
  {
   "cell_type": "markdown",
   "metadata": {},
   "source": [
    "Notice that all the values are 0 except for index 1 element and the index 5. This means that this tweet contained 1 instance of a word associated with:"
   ]
  },
  {
   "cell_type": "code",
   "execution_count": 20,
   "metadata": {
    "collapsed": false
   },
   "outputs": [
    {
     "data": {
      "text/plain": [
       "'anticipation'"
      ]
     },
     "execution_count": 20,
     "metadata": {},
     "output_type": "execute_result"
    }
   ],
   "source": [
    "index2emotion[1]"
   ]
  },
  {
   "cell_type": "markdown",
   "metadata": {},
   "source": [
    "and 1 instance of a word associated with:"
   ]
  },
  {
   "cell_type": "code",
   "execution_count": 21,
   "metadata": {
    "collapsed": false
   },
   "outputs": [
    {
     "data": {
      "text/plain": [
       "'sadness'"
      ]
     },
     "execution_count": 21,
     "metadata": {},
     "output_type": "execute_result"
    }
   ],
   "source": [
    "index2emotion[5]"
   ]
  },
  {
   "cell_type": "markdown",
   "metadata": {},
   "source": [
    "Let's take everything we've done above and package it into a function, since we'll be performing these steps for every tweet."
   ]
  },
  {
   "cell_type": "code",
   "execution_count": 22,
   "metadata": {
    "collapsed": true
   },
   "outputs": [],
   "source": [
    "# Repeating this code, this has to be run for the function to work\n",
    "emotions = list(set(nrc['emotion']))\n",
    "index2emotion = {}\n",
    "emotion2index = {}\n",
    "for i in range(len(emotions)):\n",
    "    index2emotion[i] = emotions[i]\n",
    "    emotion2index[emotions[i]] = i\n",
    "    \n",
    "# Here is the function\n",
    "# Assumes that a TweetTokenizer called tt has been made\n",
    "# and that the NRC lexicon has been imported as nrc\n",
    "def makeEmoVector(tweettext):\n",
    "    cv = [0] * len(emotions)\n",
    "    tokenized = tt.tokenize(tweettext)\n",
    "    tokenized = [x.lower() for x in tokenized]\n",
    "    for token in tokenized:\n",
    "        sub = nrc[nrc['word'] == token]\n",
    "        token_emotions = sub['emotion']\n",
    "        for e in token_emotions:\n",
    "            position_index = emotion2index[e]\n",
    "            cv[position_index] += 1\n",
    "    return cv"
   ]
  },
  {
   "cell_type": "markdown",
   "metadata": {},
   "source": [
    "Now we can take an arbitrary tweet and represent it as an emotion vector. Using this function, let's go ahead and create an emotion vector for every tweet. "
   ]
  },
  {
   "cell_type": "code",
   "execution_count": 23,
   "metadata": {
    "collapsed": false
   },
   "outputs": [],
   "source": [
    "emotion_vectors = []\n",
    "for text in df['text']:\n",
    "    emotion_vector = makeEmoVector(text)\n",
    "    emotion_vectors.append(emotion_vector)"
   ]
  },
  {
   "cell_type": "markdown",
   "metadata": {},
   "source": [
    "And now, let's make the emotion vectors in to a data fram.e"
   ]
  },
  {
   "cell_type": "code",
   "execution_count": 24,
   "metadata": {
    "collapsed": false
   },
   "outputs": [
    {
     "data": {
      "text/html": [
       "<div>\n",
       "<table border=\"1\" class=\"dataframe\">\n",
       "  <thead>\n",
       "    <tr style=\"text-align: right;\">\n",
       "      <th></th>\n",
       "      <th>fear</th>\n",
       "      <th>anticipation</th>\n",
       "      <th>trust</th>\n",
       "      <th>surprise</th>\n",
       "      <th>anger</th>\n",
       "      <th>sadness</th>\n",
       "      <th>joy</th>\n",
       "      <th>disgust</th>\n",
       "    </tr>\n",
       "  </thead>\n",
       "  <tbody>\n",
       "    <tr>\n",
       "      <th>0</th>\n",
       "      <td>0</td>\n",
       "      <td>0</td>\n",
       "      <td>0</td>\n",
       "      <td>0</td>\n",
       "      <td>1</td>\n",
       "      <td>1</td>\n",
       "      <td>0</td>\n",
       "      <td>1</td>\n",
       "    </tr>\n",
       "    <tr>\n",
       "      <th>1</th>\n",
       "      <td>1</td>\n",
       "      <td>1</td>\n",
       "      <td>1</td>\n",
       "      <td>0</td>\n",
       "      <td>1</td>\n",
       "      <td>0</td>\n",
       "      <td>1</td>\n",
       "      <td>1</td>\n",
       "    </tr>\n",
       "    <tr>\n",
       "      <th>2</th>\n",
       "      <td>1</td>\n",
       "      <td>1</td>\n",
       "      <td>2</td>\n",
       "      <td>0</td>\n",
       "      <td>1</td>\n",
       "      <td>1</td>\n",
       "      <td>1</td>\n",
       "      <td>1</td>\n",
       "    </tr>\n",
       "    <tr>\n",
       "      <th>3</th>\n",
       "      <td>1</td>\n",
       "      <td>1</td>\n",
       "      <td>1</td>\n",
       "      <td>1</td>\n",
       "      <td>1</td>\n",
       "      <td>1</td>\n",
       "      <td>1</td>\n",
       "      <td>1</td>\n",
       "    </tr>\n",
       "    <tr>\n",
       "      <th>4</th>\n",
       "      <td>0</td>\n",
       "      <td>0</td>\n",
       "      <td>0</td>\n",
       "      <td>0</td>\n",
       "      <td>0</td>\n",
       "      <td>0</td>\n",
       "      <td>0</td>\n",
       "      <td>0</td>\n",
       "    </tr>\n",
       "  </tbody>\n",
       "</table>\n",
       "</div>"
      ],
      "text/plain": [
       "   fear  anticipation  trust  surprise  anger  sadness  joy  disgust\n",
       "0     0             0      0         0      1        1    0        1\n",
       "1     1             1      1         0      1        0    1        1\n",
       "2     1             1      2         0      1        1    1        1\n",
       "3     1             1      1         1      1        1    1        1\n",
       "4     0             0      0         0      0        0    0        0"
      ]
     },
     "execution_count": 24,
     "metadata": {},
     "output_type": "execute_result"
    }
   ],
   "source": [
    "ev = pd.DataFrame(emotion_vectors, index=df.index, columns=emotions)\n",
    "ev.head()"
   ]
  },
  {
   "cell_type": "markdown",
   "metadata": {},
   "source": [
    "Finally, let's merge this data frame with the data frame of original tweets. "
   ]
  },
  {
   "cell_type": "code",
   "execution_count": 25,
   "metadata": {
    "collapsed": false
   },
   "outputs": [
    {
     "data": {
      "text/html": [
       "<div>\n",
       "<table border=\"1\" class=\"dataframe\">\n",
       "  <thead>\n",
       "    <tr style=\"text-align: right;\">\n",
       "      <th></th>\n",
       "      <th>user</th>\n",
       "      <th>text</th>\n",
       "      <th>source</th>\n",
       "      <th>fav</th>\n",
       "      <th>rt</th>\n",
       "      <th>fear</th>\n",
       "      <th>anticipation</th>\n",
       "      <th>trust</th>\n",
       "      <th>surprise</th>\n",
       "      <th>anger</th>\n",
       "      <th>sadness</th>\n",
       "      <th>joy</th>\n",
       "      <th>disgust</th>\n",
       "    </tr>\n",
       "  </thead>\n",
       "  <tbody>\n",
       "    <tr>\n",
       "      <th>0</th>\n",
       "      <td>realDonaldTrump</td>\n",
       "      <td>Remember, don't believe \"sources said\" by the ...</td>\n",
       "      <td>Twitter for Android</td>\n",
       "      <td>8572</td>\n",
       "      <td>3616</td>\n",
       "      <td>0</td>\n",
       "      <td>0</td>\n",
       "      <td>0</td>\n",
       "      <td>0</td>\n",
       "      <td>1</td>\n",
       "      <td>1</td>\n",
       "      <td>0</td>\n",
       "      <td>1</td>\n",
       "    </tr>\n",
       "    <tr>\n",
       "      <th>1</th>\n",
       "      <td>realDonaldTrump</td>\n",
       "      <td>Did Crooked Hillary help disgusting (check out...</td>\n",
       "      <td>Twitter for Android</td>\n",
       "      <td>12930</td>\n",
       "      <td>5628</td>\n",
       "      <td>1</td>\n",
       "      <td>1</td>\n",
       "      <td>1</td>\n",
       "      <td>0</td>\n",
       "      <td>1</td>\n",
       "      <td>0</td>\n",
       "      <td>1</td>\n",
       "      <td>1</td>\n",
       "    </tr>\n",
       "    <tr>\n",
       "      <th>2</th>\n",
       "      <td>realDonaldTrump</td>\n",
       "      <td>Using Alicia M in the debate as a paragon of v...</td>\n",
       "      <td>Twitter for Android</td>\n",
       "      <td>12738</td>\n",
       "      <td>5209</td>\n",
       "      <td>1</td>\n",
       "      <td>1</td>\n",
       "      <td>2</td>\n",
       "      <td>0</td>\n",
       "      <td>1</td>\n",
       "      <td>1</td>\n",
       "      <td>1</td>\n",
       "      <td>1</td>\n",
       "    </tr>\n",
       "    <tr>\n",
       "      <th>3</th>\n",
       "      <td>realDonaldTrump</td>\n",
       "      <td>Wow, Crooked Hillary was duped and used by my ...</td>\n",
       "      <td>Twitter for Android</td>\n",
       "      <td>13210</td>\n",
       "      <td>5205</td>\n",
       "      <td>1</td>\n",
       "      <td>1</td>\n",
       "      <td>1</td>\n",
       "      <td>1</td>\n",
       "      <td>1</td>\n",
       "      <td>1</td>\n",
       "      <td>1</td>\n",
       "      <td>1</td>\n",
       "    </tr>\n",
       "    <tr>\n",
       "      <th>4</th>\n",
       "      <td>realDonaldTrump</td>\n",
       "      <td>Anytime you see a story about me or my campaig...</td>\n",
       "      <td>Twitter for Android</td>\n",
       "      <td>21316</td>\n",
       "      <td>9147</td>\n",
       "      <td>0</td>\n",
       "      <td>0</td>\n",
       "      <td>0</td>\n",
       "      <td>0</td>\n",
       "      <td>0</td>\n",
       "      <td>0</td>\n",
       "      <td>0</td>\n",
       "      <td>0</td>\n",
       "    </tr>\n",
       "  </tbody>\n",
       "</table>\n",
       "</div>"
      ],
      "text/plain": [
       "              user                                               text  \\\n",
       "0  realDonaldTrump  Remember, don't believe \"sources said\" by the ...   \n",
       "1  realDonaldTrump  Did Crooked Hillary help disgusting (check out...   \n",
       "2  realDonaldTrump  Using Alicia M in the debate as a paragon of v...   \n",
       "3  realDonaldTrump  Wow, Crooked Hillary was duped and used by my ...   \n",
       "4  realDonaldTrump  Anytime you see a story about me or my campaig...   \n",
       "\n",
       "                source    fav    rt  fear  anticipation  trust  surprise  \\\n",
       "0  Twitter for Android   8572  3616     0             0      0         0   \n",
       "1  Twitter for Android  12930  5628     1             1      1         0   \n",
       "2  Twitter for Android  12738  5209     1             1      2         0   \n",
       "3  Twitter for Android  13210  5205     1             1      1         1   \n",
       "4  Twitter for Android  21316  9147     0             0      0         0   \n",
       "\n",
       "   anger  sadness  joy  disgust  \n",
       "0      1        1    0        1  \n",
       "1      1        0    1        1  \n",
       "2      1        1    1        1  \n",
       "3      1        1    1        1  \n",
       "4      0        0    0        0  "
      ]
     },
     "execution_count": 25,
     "metadata": {},
     "output_type": "execute_result"
    }
   ],
   "source": [
    "df = df.join(ev)\n",
    "df.head()"
   ]
  },
  {
   "cell_type": "markdown",
   "metadata": {},
   "source": [
    "Note that *at the level of a tweet*, this method will probably produce some visible inaccurate judgements. We're assigning emotions to tweets based solely on the presence of absence of words, and there are bound to be some errors. Nevertheless, such \"noise\", ideally, can be washed out by viewing things in aggregate. Let's use Pandas, for example, to see how the emotions show up across *all* of the tweets by each of the candidates."
   ]
  },
  {
   "cell_type": "code",
   "execution_count": 26,
   "metadata": {
    "collapsed": true
   },
   "outputs": [],
   "source": [
    "cand_group = df.groupby(\"user\")"
   ]
  },
  {
   "cell_type": "code",
   "execution_count": 27,
   "metadata": {
    "collapsed": false
   },
   "outputs": [
    {
     "data": {
      "text/html": [
       "<div>\n",
       "<table border=\"1\" class=\"dataframe\">\n",
       "  <thead>\n",
       "    <tr style=\"text-align: right;\">\n",
       "      <th></th>\n",
       "      <th>fear</th>\n",
       "      <th>anticipation</th>\n",
       "      <th>trust</th>\n",
       "      <th>surprise</th>\n",
       "      <th>anger</th>\n",
       "      <th>sadness</th>\n",
       "      <th>joy</th>\n",
       "      <th>disgust</th>\n",
       "    </tr>\n",
       "    <tr>\n",
       "      <th>user</th>\n",
       "      <th></th>\n",
       "      <th></th>\n",
       "      <th></th>\n",
       "      <th></th>\n",
       "      <th></th>\n",
       "      <th></th>\n",
       "      <th></th>\n",
       "      <th></th>\n",
       "    </tr>\n",
       "  </thead>\n",
       "  <tbody>\n",
       "    <tr>\n",
       "      <th>HillaryClinton</th>\n",
       "      <td>939</td>\n",
       "      <td>1236</td>\n",
       "      <td>1865</td>\n",
       "      <td>1077</td>\n",
       "      <td>852</td>\n",
       "      <td>810</td>\n",
       "      <td>966</td>\n",
       "      <td>352</td>\n",
       "    </tr>\n",
       "    <tr>\n",
       "      <th>realDonaldTrump</th>\n",
       "      <td>810</td>\n",
       "      <td>970</td>\n",
       "      <td>1467</td>\n",
       "      <td>727</td>\n",
       "      <td>897</td>\n",
       "      <td>862</td>\n",
       "      <td>818</td>\n",
       "      <td>545</td>\n",
       "    </tr>\n",
       "  </tbody>\n",
       "</table>\n",
       "</div>"
      ],
      "text/plain": [
       "                 fear  anticipation  trust  surprise  anger  sadness  joy  \\\n",
       "user                                                                        \n",
       "HillaryClinton    939          1236   1865      1077    852      810  966   \n",
       "realDonaldTrump   810           970   1467       727    897      862  818   \n",
       "\n",
       "                 disgust  \n",
       "user                      \n",
       "HillaryClinton       352  \n",
       "realDonaldTrump      545  "
      ]
     },
     "execution_count": 27,
     "metadata": {},
     "output_type": "execute_result"
    }
   ],
   "source": [
    "emo_counts = cand_group[emotions].agg(\"sum\")\n",
    "emo_counts"
   ]
  },
  {
   "cell_type": "markdown",
   "metadata": {},
   "source": [
    "We can perform an initialize comparison of the emotions here, but it would be better if we normalized these counts. It's true that Tweets have built-in word limitations, but it's still entirely possible that across these 5000 tweets, the two candidates used different amounts of words. Let's get the total number of words tweeted by each candidate."
   ]
  },
  {
   "cell_type": "code",
   "execution_count": 28,
   "metadata": {
    "collapsed": false
   },
   "outputs": [
    {
     "name": "stdout",
     "output_type": "stream",
     "text": [
      "55583\n"
     ]
    }
   ],
   "source": [
    "clintoncount = 0\n",
    "clintonsub = df[df['user'] == \"HillaryClinton\"]\n",
    "for text in clintonsub['text']:\n",
    "    clintoncount += len(tt.tokenize(text))\n",
    "print(clintoncount)"
   ]
  },
  {
   "cell_type": "code",
   "execution_count": 29,
   "metadata": {
    "collapsed": false
   },
   "outputs": [
    {
     "name": "stdout",
     "output_type": "stream",
     "text": [
      "51413\n"
     ]
    }
   ],
   "source": [
    "trumpcount = 0\n",
    "trumpsub = df[df['user'] == \"realDonaldTrump\"]\n",
    "for text in trumpsub['text']:\n",
    "    trumpcount += len(tt.tokenize(text))\n",
    "print(trumpcount)"
   ]
  },
  {
   "cell_type": "markdown",
   "metadata": {},
   "source": [
    "Using a Pandas function called ``divide``, I'll divide each row in the emotion sums table by the total number of words."
   ]
  },
  {
   "cell_type": "code",
   "execution_count": 30,
   "metadata": {
    "collapsed": false
   },
   "outputs": [
    {
     "data": {
      "text/html": [
       "<div>\n",
       "<table border=\"1\" class=\"dataframe\">\n",
       "  <thead>\n",
       "    <tr style=\"text-align: right;\">\n",
       "      <th></th>\n",
       "      <th>fear</th>\n",
       "      <th>anticipation</th>\n",
       "      <th>trust</th>\n",
       "      <th>surprise</th>\n",
       "      <th>anger</th>\n",
       "      <th>sadness</th>\n",
       "      <th>joy</th>\n",
       "      <th>disgust</th>\n",
       "    </tr>\n",
       "    <tr>\n",
       "      <th>user</th>\n",
       "      <th></th>\n",
       "      <th></th>\n",
       "      <th></th>\n",
       "      <th></th>\n",
       "      <th></th>\n",
       "      <th></th>\n",
       "      <th></th>\n",
       "      <th></th>\n",
       "    </tr>\n",
       "  </thead>\n",
       "  <tbody>\n",
       "    <tr>\n",
       "      <th>HillaryClinton</th>\n",
       "      <td>0.016894</td>\n",
       "      <td>0.022237</td>\n",
       "      <td>0.033553</td>\n",
       "      <td>0.019376</td>\n",
       "      <td>0.015328</td>\n",
       "      <td>0.014573</td>\n",
       "      <td>0.017379</td>\n",
       "      <td>0.006333</td>\n",
       "    </tr>\n",
       "    <tr>\n",
       "      <th>realDonaldTrump</th>\n",
       "      <td>0.015755</td>\n",
       "      <td>0.018867</td>\n",
       "      <td>0.028534</td>\n",
       "      <td>0.014140</td>\n",
       "      <td>0.017447</td>\n",
       "      <td>0.016766</td>\n",
       "      <td>0.015910</td>\n",
       "      <td>0.010600</td>\n",
       "    </tr>\n",
       "  </tbody>\n",
       "</table>\n",
       "</div>"
      ],
      "text/plain": [
       "                     fear  anticipation     trust  surprise     anger  \\\n",
       "user                                                                    \n",
       "HillaryClinton   0.016894      0.022237  0.033553  0.019376  0.015328   \n",
       "realDonaldTrump  0.015755      0.018867  0.028534  0.014140  0.017447   \n",
       "\n",
       "                  sadness       joy   disgust  \n",
       "user                                           \n",
       "HillaryClinton   0.014573  0.017379  0.006333  \n",
       "realDonaldTrump  0.016766  0.015910  0.010600  "
      ]
     },
     "execution_count": 30,
     "metadata": {},
     "output_type": "execute_result"
    }
   ],
   "source": [
    "emo_counts_normalized = emo_counts.divide([clintoncount, trumpcount], axis=\"rows\")\n",
    "emo_counts_normalized"
   ]
  },
  {
   "cell_type": "markdown",
   "metadata": {},
   "source": [
    "This table will be a little easier to understnad if we visualize it. \n",
    "\n",
    "In passing: we learned how to use ``matplotlib`` to create visualizations, and this is a useful skill, but one of the neat things about Pandas is that as long as you import matplotlib [you can use functions written into Pandas for the visualization of data frames](http://pandas.pydata.org/pandas-docs/stable/visualization.html). I'm going to do that here to speed things up.  In order to display the bar chart I want, I need to flip the data frame so that the emotions are the rows and the candidates are the columns, so I accomplish this by calling the Pandas function ``transpose()``. "
   ]
  },
  {
   "cell_type": "code",
   "execution_count": 31,
   "metadata": {
    "collapsed": false
   },
   "outputs": [
    {
     "data": {
      "text/plain": [
       "<matplotlib.axes._subplots.AxesSubplot at 0x27ce30629e8>"
      ]
     },
     "execution_count": 31,
     "metadata": {},
     "output_type": "execute_result"
    },
    {
     "data": {
      "image/png": "[encoded data removed]",
      "text/plain": [
       "<matplotlib.figure.Figure at 0x27ce304cef0>"
      ]
     },
     "metadata": {},
     "output_type": "display_data"
    }
   ],
   "source": [
    "%matplotlib inline\n",
    "import matplotlib\n",
    "matplotlib.style.use('ggplot')\n",
    "import matplotlib.pyplot as plt\n",
    "emo_counts_normalized.transpose().plot.bar()"
   ]
  },
  {
   "cell_type": "markdown",
   "metadata": {},
   "source": [
    "Clinton seems to use words associated with trust, anticipation, and surprise more, while Trump has a lead in words expressing disgust. For the others the values are a bit more even. \n",
    "\n",
    "We can also explore differences in tweet source in Trump's tweets, doing something similar to the study we explored in the first lecture."
   ]
  },
  {
   "cell_type": "code",
   "execution_count": 32,
   "metadata": {
    "collapsed": false
   },
   "outputs": [
    {
     "data": {
      "text/html": [
       "<div>\n",
       "<table border=\"1\" class=\"dataframe\">\n",
       "  <thead>\n",
       "    <tr style=\"text-align: right;\">\n",
       "      <th></th>\n",
       "      <th>fear</th>\n",
       "      <th>anticipation</th>\n",
       "      <th>trust</th>\n",
       "      <th>surprise</th>\n",
       "      <th>anger</th>\n",
       "      <th>sadness</th>\n",
       "      <th>joy</th>\n",
       "      <th>disgust</th>\n",
       "    </tr>\n",
       "    <tr>\n",
       "      <th>source</th>\n",
       "      <th></th>\n",
       "      <th></th>\n",
       "      <th></th>\n",
       "      <th></th>\n",
       "      <th></th>\n",
       "      <th></th>\n",
       "      <th></th>\n",
       "      <th></th>\n",
       "    </tr>\n",
       "  </thead>\n",
       "  <tbody>\n",
       "    <tr>\n",
       "      <th>Twitter for Android</th>\n",
       "      <td>504</td>\n",
       "      <td>562</td>\n",
       "      <td>828</td>\n",
       "      <td>453</td>\n",
       "      <td>570</td>\n",
       "      <td>539</td>\n",
       "      <td>479</td>\n",
       "      <td>366</td>\n",
       "    </tr>\n",
       "    <tr>\n",
       "      <th>Twitter for iPhone</th>\n",
       "      <td>231</td>\n",
       "      <td>346</td>\n",
       "      <td>530</td>\n",
       "      <td>222</td>\n",
       "      <td>251</td>\n",
       "      <td>247</td>\n",
       "      <td>292</td>\n",
       "      <td>139</td>\n",
       "    </tr>\n",
       "  </tbody>\n",
       "</table>\n",
       "</div>"
      ],
      "text/plain": [
       "                     fear  anticipation  trust  surprise  anger  sadness  joy  \\\n",
       "source                                                                          \n",
       "Twitter for Android   504           562    828       453    570      539  479   \n",
       "Twitter for iPhone    231           346    530       222    251      247  292   \n",
       "\n",
       "                     disgust  \n",
       "source                        \n",
       "Twitter for Android      366  \n",
       "Twitter for iPhone       139  "
      ]
     },
     "execution_count": 32,
     "metadata": {},
     "output_type": "execute_result"
    }
   ],
   "source": [
    "trump = df[df['user'] == \"realDonaldTrump\"]\n",
    "trump = trump[trump['source'].isin([\"Twitter for Android\", \"Twitter for iPhone\"])]\n",
    "source_group = trump.groupby(\"source\")\n",
    "emo_aggs = source_group[emotions].agg(\"sum\")\n",
    "emo_aggs"
   ]
  },
  {
   "cell_type": "code",
   "execution_count": 33,
   "metadata": {
    "collapsed": false
   },
   "outputs": [
    {
     "name": "stdout",
     "output_type": "stream",
     "text": [
      "Android word_count: 28878\n",
      "iPhone word count: 18601\n"
     ]
    }
   ],
   "source": [
    "android_count = 0\n",
    "\n",
    "for text in trump[trump['source'] == \"Twitter for Android\"]['text']:\n",
    "    android_count += len(tt.tokenize(text))\n",
    "    \n",
    "iphone_count = 0\n",
    "\n",
    "for text in trump[trump['source'] == \"Twitter for iPhone\"]['text']:\n",
    "    iphone_count += len(tt.tokenize(text))\n",
    "    \n",
    "print(\"Android word_count: \" + str(android_count))\n",
    "print(\"iPhone word count: \" + str(iphone_count))"
   ]
  },
  {
   "cell_type": "code",
   "execution_count": 34,
   "metadata": {
    "collapsed": false
   },
   "outputs": [
    {
     "data": {
      "text/plain": [
       "<matplotlib.axes._subplots.AxesSubplot at 0x27ce173f7b8>"
      ]
     },
     "execution_count": 34,
     "metadata": {},
     "output_type": "execute_result"
    },
    {
     "data": {
      "image/png": "[encoded data removed]",
      "text/plain": [
       "<matplotlib.figure.Figure at 0x27ce3819b70>"
      ]
     },
     "metadata": {},
     "output_type": "display_data"
    }
   ],
   "source": [
    "emo_aggs_normalized = emo_aggs.divide([android_count, iphone_count], axis=\"rows\")\n",
    "emo_aggs_normalized.transpose().plot.bar()"
   ]
  },
  {
   "cell_type": "markdown",
   "metadata": {},
   "source": [
    "Just like in David Robinson's analysis, we can also come to the conlusion that the Android user writes significantly more angry tweets than the iPhone user. This also seems to be the case for anger, disgust, sadness, and fear, as well. "
   ]
  }
 ],
 "metadata": {
  "anaconda-cloud": {},
  "kernelspec": {
   "display_name": "Python [Root]",
   "language": "python",
   "name": "Python [Root]"
  },
  "language_info": {
   "codemirror_mode": {
    "name": "ipython",
    "version": 3
   },
   "file_extension": ".py",
   "mimetype": "text/x-python",
   "name": "python",
   "nbconvert_exporter": "python",
   "pygments_lexer": "ipython3",
   "version": "3.5.2"
  }
 },
 "nbformat": 4,
 "nbformat_minor": 0
}
