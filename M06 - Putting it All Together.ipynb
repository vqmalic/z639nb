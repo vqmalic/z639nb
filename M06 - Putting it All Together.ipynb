{
 "cells": [
  {
   "cell_type": "markdown",
   "metadata": {},
   "source": [
    "This is a demonstration of the KDD process from start to finish - but in miniature. Please use this notebook to familiarize yourself with how all the steps fit together, **but note that you will be expected to do more in-depth research for your final project**.\n",
    "\n",
    "The basic idea here is to determine the extent to which Tweets from Android and Tweets from iPhone can be distinguished from each other. Our hypothesis, motivated by our first-week exploration of Robinson's analysis, is that there are two distinct writers on the Twitter account. If our hypothesis is true, we should be able to tell their writing apart.\n",
    "\n",
    "I'm using Tweepy to get the 1000 most recent Tweets from Donald Trump's Twitter account. As I iterate, I am collecting only the Tweet text and Tweet source. "
   ]
  },
  {
   "cell_type": "code",
   "execution_count": 1,
   "metadata": {
    "collapsed": true
   },
   "outputs": [],
   "source": [
    "API_KEY = \"\"\n",
    "API_SECRET = \"\"\n",
    "import tweepy\n",
    "auth = tweepy.AppAuthHandler(API_KEY, API_SECRET)\n",
    "api = tweepy.API(auth, wait_on_rate_limit=True, wait_on_rate_limit_notify=True)\n",
    "\n",
    "c = tweepy.Cursor(api.user_timeline, id=\"realDonaldTrump\")\n",
    "\n",
    "tweet_data = []\n",
    "\n",
    "for tweet in c.items(1000):\n",
    "    tweet_data.append([tweet.text, tweet.source])"
   ]
  },
  {
   "cell_type": "code",
   "execution_count": 2,
   "metadata": {
    "collapsed": false
   },
   "outputs": [
    {
     "data": {
      "text/plain": [
       "[['Just leaving Florida. Big crowds of enthusiastic supporters lining the road that the FAKE NEWS media refuses to mention. Very dishonest!',\n",
       "  'Twitter for Android'],\n",
       " ['Congratulations Stephen Miller- on representing me this morning on the various Sunday morning shows. Great job!',\n",
       "  'Twitter for iPhone']]"
      ]
     },
     "execution_count": 2,
     "metadata": {},
     "output_type": "execute_result"
    }
   ],
   "source": [
    "tweet_data[:2]"
   ]
  },
  {
   "cell_type": "markdown",
   "metadata": {},
   "source": [
    "I'm going to convert the data into a Pandas data frame for ease of data manipulation. "
   ]
  },
  {
   "cell_type": "code",
   "execution_count": 3,
   "metadata": {
    "collapsed": false
   },
   "outputs": [
    {
     "data": {
      "text/html": [
       "<div>\n",
       "<table border=\"1\" class=\"dataframe\">\n",
       "  <thead>\n",
       "    <tr style=\"text-align: right;\">\n",
       "      <th></th>\n",
       "      <th>text</th>\n",
       "      <th>source</th>\n",
       "    </tr>\n",
       "  </thead>\n",
       "  <tbody>\n",
       "    <tr>\n",
       "      <th>0</th>\n",
       "      <td>Just leaving Florida. Big crowds of enthusiast...</td>\n",
       "      <td>Twitter for Android</td>\n",
       "    </tr>\n",
       "    <tr>\n",
       "      <th>1</th>\n",
       "      <td>Congratulations Stephen Miller- on representin...</td>\n",
       "      <td>Twitter for iPhone</td>\n",
       "    </tr>\n",
       "    <tr>\n",
       "      <th>2</th>\n",
       "      <td>I know Mark Cuban well. He backed me big-time ...</td>\n",
       "      <td>Twitter for Android</td>\n",
       "    </tr>\n",
       "    <tr>\n",
       "      <th>3</th>\n",
       "      <td>After two days of very productive talks, Prime...</td>\n",
       "      <td>Twitter for Android</td>\n",
       "    </tr>\n",
       "    <tr>\n",
       "      <th>4</th>\n",
       "      <td>While on FAKE NEWS @CNN, Bernie Sanders was cu...</td>\n",
       "      <td>Twitter for Android</td>\n",
       "    </tr>\n",
       "  </tbody>\n",
       "</table>\n",
       "</div>"
      ],
      "text/plain": [
       "                                                text               source\n",
       "0  Just leaving Florida. Big crowds of enthusiast...  Twitter for Android\n",
       "1  Congratulations Stephen Miller- on representin...   Twitter for iPhone\n",
       "2  I know Mark Cuban well. He backed me big-time ...  Twitter for Android\n",
       "3  After two days of very productive talks, Prime...  Twitter for Android\n",
       "4  While on FAKE NEWS @CNN, Bernie Sanders was cu...  Twitter for Android"
      ]
     },
     "execution_count": 3,
     "metadata": {},
     "output_type": "execute_result"
    }
   ],
   "source": [
    "import pandas as pd\n",
    "\n",
    "df = pd.DataFrame(tweet_data, columns=[\"text\", \"source\"])\n",
    "df.head()"
   ]
  },
  {
   "cell_type": "markdown",
   "metadata": {},
   "source": [
    "I'll now use the ``groupby`` feature to get some aggregate statistics about the Tweet source."
   ]
  },
  {
   "cell_type": "code",
   "execution_count": 4,
   "metadata": {
    "collapsed": true
   },
   "outputs": [],
   "source": [
    "source_group = df.groupby(\"source\")"
   ]
  },
  {
   "cell_type": "code",
   "execution_count": 5,
   "metadata": {
    "collapsed": false
   },
   "outputs": [
    {
     "data": {
      "text/plain": [
       "source\n",
       "Periscope                1\n",
       "Twitter Ads              1\n",
       "Twitter Web Client      75\n",
       "Twitter for Android    437\n",
       "Twitter for iPad         3\n",
       "Twitter for iPhone     483\n",
       "Name: source, dtype: int64"
      ]
     },
     "execution_count": 5,
     "metadata": {},
     "output_type": "execute_result"
    }
   ],
   "source": [
    "source_group[\"source\"].agg(\"count\")"
   ]
  },
  {
   "cell_type": "markdown",
   "metadata": {},
   "source": [
    "I only want to use Tweets from iPhone and Android so I need to filter them out."
   ]
  },
  {
   "cell_type": "code",
   "execution_count": 6,
   "metadata": {
    "collapsed": false
   },
   "outputs": [],
   "source": [
    "df = df[df['source'].isin([\"Twitter for Android\", \"Twitter for iPhone\"])]"
   ]
  },
  {
   "cell_type": "code",
   "execution_count": 7,
   "metadata": {
    "collapsed": false
   },
   "outputs": [
    {
     "data": {
      "text/plain": [
       "(920, 2)"
      ]
     },
     "execution_count": 7,
     "metadata": {},
     "output_type": "execute_result"
    }
   ],
   "source": [
    "df.shape"
   ]
  },
  {
   "cell_type": "code",
   "execution_count": 8,
   "metadata": {
    "collapsed": false
   },
   "outputs": [
    {
     "data": {
      "text/html": [
       "<div>\n",
       "<table border=\"1\" class=\"dataframe\">\n",
       "  <thead>\n",
       "    <tr style=\"text-align: right;\">\n",
       "      <th></th>\n",
       "      <th>text</th>\n",
       "      <th>source</th>\n",
       "    </tr>\n",
       "  </thead>\n",
       "  <tbody>\n",
       "    <tr>\n",
       "      <th>0</th>\n",
       "      <td>Just leaving Florida. Big crowds of enthusiast...</td>\n",
       "      <td>Twitter for Android</td>\n",
       "    </tr>\n",
       "    <tr>\n",
       "      <th>1</th>\n",
       "      <td>Congratulations Stephen Miller- on representin...</td>\n",
       "      <td>Twitter for iPhone</td>\n",
       "    </tr>\n",
       "    <tr>\n",
       "      <th>2</th>\n",
       "      <td>I know Mark Cuban well. He backed me big-time ...</td>\n",
       "      <td>Twitter for Android</td>\n",
       "    </tr>\n",
       "    <tr>\n",
       "      <th>3</th>\n",
       "      <td>After two days of very productive talks, Prime...</td>\n",
       "      <td>Twitter for Android</td>\n",
       "    </tr>\n",
       "    <tr>\n",
       "      <th>4</th>\n",
       "      <td>While on FAKE NEWS @CNN, Bernie Sanders was cu...</td>\n",
       "      <td>Twitter for Android</td>\n",
       "    </tr>\n",
       "  </tbody>\n",
       "</table>\n",
       "</div>"
      ],
      "text/plain": [
       "                                                text               source\n",
       "0  Just leaving Florida. Big crowds of enthusiast...  Twitter for Android\n",
       "1  Congratulations Stephen Miller- on representin...   Twitter for iPhone\n",
       "2  I know Mark Cuban well. He backed me big-time ...  Twitter for Android\n",
       "3  After two days of very productive talks, Prime...  Twitter for Android\n",
       "4  While on FAKE NEWS @CNN, Bernie Sanders was cu...  Twitter for Android"
      ]
     },
     "execution_count": 8,
     "metadata": {},
     "output_type": "execute_result"
    }
   ],
   "source": [
    "df.head()"
   ]
  },
  {
   "cell_type": "markdown",
   "metadata": {},
   "source": [
    "Everything that's not iPhone or Android has been removed. Of the original 1000 datapoints, 925 remain.\n",
    "\n",
    "I would like to use an SVM, and represent each Tweet using the vector space model, weighted by TF-IDF. As discussed in the previous lecture, sklearn does the heavy lifting for us."
   ]
  },
  {
   "cell_type": "code",
   "execution_count": 9,
   "metadata": {
    "collapsed": false
   },
   "outputs": [],
   "source": [
    "from sklearn.feature_extraction.text import TfidfVectorizer"
   ]
  },
  {
   "cell_type": "code",
   "execution_count": 10,
   "metadata": {
    "collapsed": true
   },
   "outputs": [],
   "source": [
    "tv = TfidfVectorizer()"
   ]
  },
  {
   "cell_type": "code",
   "execution_count": 11,
   "metadata": {
    "collapsed": true
   },
   "outputs": [],
   "source": [
    "X = tv.fit_transform(df['text'])"
   ]
  },
  {
   "cell_type": "code",
   "execution_count": 12,
   "metadata": {
    "collapsed": false
   },
   "outputs": [
    {
     "data": {
      "text/plain": [
       "(920, 3439)"
      ]
     },
     "execution_count": 12,
     "metadata": {},
     "output_type": "execute_result"
    }
   ],
   "source": [
    "X.shape"
   ]
  },
  {
   "cell_type": "markdown",
   "metadata": {},
   "source": [
    "There are 3439 unique words in this dataset. Each Tweet is now represented by a vector with 3439 elements in it. Each element represents the TF-IDF weight of its corresponding word.\n",
    "\n",
    "X is a sparse vector, but is a valid input for any sklearn function. Let's make a train-test split."
   ]
  },
  {
   "cell_type": "code",
   "execution_count": 20,
   "metadata": {
    "collapsed": false
   },
   "outputs": [],
   "source": [
    "y = df['source']\n",
    "from sklearn.model_selection import train_test_split\n",
    "\n",
    "X_train, X_test, y_train, y_test = train_test_split(X, y, test_size=0.2, random_state=3057)"
   ]
  },
  {
   "cell_type": "code",
   "execution_count": 21,
   "metadata": {
    "collapsed": false
   },
   "outputs": [
    {
     "data": {
      "text/plain": [
       "(736, 3439)"
      ]
     },
     "execution_count": 21,
     "metadata": {},
     "output_type": "execute_result"
    }
   ],
   "source": [
    "X_train.shape"
   ]
  },
  {
   "cell_type": "code",
   "execution_count": 22,
   "metadata": {
    "collapsed": false
   },
   "outputs": [
    {
     "data": {
      "text/plain": [
       "(184, 3439)"
      ]
     },
     "execution_count": 22,
     "metadata": {},
     "output_type": "execute_result"
    }
   ],
   "source": [
    "X_test.shape"
   ]
  },
  {
   "cell_type": "markdown",
   "metadata": {},
   "source": [
    "We've conducted our split. There are 736 training examples and 184 test examples.\n",
    "\n",
    "Let's train and evaluate our model. We've done this before many times, so the procedure should be quite familiar at this point. "
   ]
  },
  {
   "cell_type": "code",
   "execution_count": 16,
   "metadata": {
    "collapsed": false
   },
   "outputs": [
    {
     "name": "stdout",
     "output_type": "stream",
     "text": [
      "0.91847826087\n"
     ]
    }
   ],
   "source": [
    "from sklearn.svm import SVC\n",
    "clf = SVC(kernel=\"linear\")\n",
    "clf.fit(X_train, y_train)\n",
    "y_pred = clf.predict(X_test)\n",
    "\n",
    "from sklearn.metrics import accuracy_score, confusion_matrix\n",
    "\n",
    "print(accuracy_score(y_test, y_pred))"
   ]
  },
  {
   "cell_type": "markdown",
   "metadata": {},
   "source": [
    "91% is quite good. A random baseline would attain an accuracy of 50%. "
   ]
  },
  {
   "cell_type": "code",
   "execution_count": 17,
   "metadata": {
    "collapsed": false
   },
   "outputs": [
    {
     "name": "stdout",
     "output_type": "stream",
     "text": [
      "Counter({'Twitter for iPhone': 97, 'Twitter for Android': 87})\n"
     ]
    }
   ],
   "source": [
    "from collections import Counter\n",
    "print(Counter(y_test))"
   ]
  },
  {
   "cell_type": "code",
   "execution_count": 18,
   "metadata": {
    "collapsed": false
   },
   "outputs": [
    {
     "data": {
      "text/plain": [
       "0.5297297297297298"
      ]
     },
     "execution_count": 18,
     "metadata": {},
     "output_type": "execute_result"
    }
   ],
   "source": [
    "97/(97+87)"
   ]
  },
  {
   "cell_type": "markdown",
   "metadata": {},
   "source": [
    "A dummy classifier that guess the majority label (iPhone) would get an accuracy of 52%. We can be quite confident that the Android and iPhone Tweets are written by different people, as the nature of the Tweets are different enough such that an algorithm can divide them with 82% accuracy."
   ]
  },
  {
   "cell_type": "code",
   "execution_count": 19,
   "metadata": {
    "collapsed": false
   },
   "outputs": [
    {
     "data": {
      "text/plain": [
       "array([[84,  3],\n",
       "       [12, 85]])"
      ]
     },
     "execution_count": 19,
     "metadata": {},
     "output_type": "execute_result"
    }
   ],
   "source": [
    "confusion_matrix(y_test, y_pred)"
   ]
  },
  {
   "cell_type": "markdown",
   "metadata": {},
   "source": [
    "Of the Android tweets, 84 were classified correctly and 3 incorrectly.\n",
    "\n",
    "Of the iPhone tweets, 85 were classified correctly and 12 incorrectly.\n",
    "\n",
    "# Important Note\n",
    "\n",
    "This shows you the KDD process from start to finish: from idea, to data collection, to data transformation, to training a model, to evaluating and interpreting the model. Hopefully, this will give you a good blueprint for how to move forward with your final project.\n",
    "\n",
    "However, your final project **must be more extensive** than this example here. If you submitted a project based on doing only what I've done above, I will have to deduct points. \n",
    "\n",
    "1. Your final project should be more grounded by relevant background research. There should be a context to what you're attempting to do and you should position your research with respect to other research. \n",
    "2. In this scenario, I only took Tweet text into account. You should endeavour, to the extent possible, to include more features for a more powerful model.\n",
    "3. You should probably try more than one model. I've used only a linear SVM here. If your data is appropriate, you should also try other models to see if you can attain better accuracies. I could have also used Naive Bayes and Logistic Regression in this scenario. \n",
    "4. You should work on optimizing hyperparameters. Here, for example, there is a hyperparameter C that I didn't touch. \n",
    "5. You should try to interpret and explain what your results mean. If you get a model that works well, explain why you believe this is the case and what it means for your domain of interest. If you are unable to get a model that works well, you should try to find out why things didn't work out."
   ]
  }
 ],
 "metadata": {
  "anaconda-cloud": {},
  "kernelspec": {
   "display_name": "Python [Root]",
   "language": "python",
   "name": "Python [Root]"
  },
  "language_info": {
   "codemirror_mode": {
    "name": "ipython",
    "version": 3
   },
   "file_extension": ".py",
   "mimetype": "text/x-python",
   "name": "python",
   "nbconvert_exporter": "python",
   "pygments_lexer": "ipython3",
   "version": "3.5.2"
  }
 },
 "nbformat": 4,
 "nbformat_minor": 0
}
