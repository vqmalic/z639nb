{
 "cells": [
  {
   "cell_type": "markdown",
   "metadata": {},
   "source": [
    "NetworkX is a tool for representing and manipulating graphs in Python. It is included with Anaconda."
   ]
  },
  {
   "cell_type": "code",
   "execution_count": 1,
   "metadata": {
    "collapsed": true
   },
   "outputs": [],
   "source": [
    "import networkx as nx"
   ]
  },
  {
   "cell_type": "markdown",
   "metadata": {},
   "source": [
    "Make an instance of a Graph using the method ``.Graph``."
   ]
  },
  {
   "cell_type": "code",
   "execution_count": 2,
   "metadata": {
    "collapsed": true
   },
   "outputs": [],
   "source": [
    "G = nx.Graph()"
   ]
  },
  {
   "cell_type": "markdown",
   "metadata": {},
   "source": [
    "Add a single node to the graph using the method ``add_node``."
   ]
  },
  {
   "cell_type": "code",
   "execution_count": 3,
   "metadata": {
    "collapsed": true
   },
   "outputs": [],
   "source": [
    "G.add_node(\"Jacie\")"
   ]
  },
  {
   "cell_type": "markdown",
   "metadata": {},
   "source": [
    "Add multiple nodes by passing an iterable (like a list) to ``add_nodes_from``. "
   ]
  },
  {
   "cell_type": "code",
   "execution_count": 4,
   "metadata": {
    "collapsed": true
   },
   "outputs": [],
   "source": [
    "G.add_nodes_from([\"John\", \"Juan\", \"Jack\", \"Julia\", \"Jade\", \"Jeff\"])"
   ]
  },
  {
   "cell_type": "markdown",
   "metadata": {},
   "source": [
    "Add an edge to the graph using ``add_edge``. "
   ]
  },
  {
   "cell_type": "code",
   "execution_count": 5,
   "metadata": {
    "collapsed": true
   },
   "outputs": [],
   "source": [
    "G.add_edge(\"Jacie\", \"John\")"
   ]
  },
  {
   "cell_type": "markdown",
   "metadata": {},
   "source": [
    "There is now an edge between the nodes \"Jacie\" and \"John\".\n",
    "\n",
    "Add multiple edges with ``add_edges_from``. The argument has to be a list of edges, each edge must contain the two endpoints of the edge."
   ]
  },
  {
   "cell_type": "code",
   "execution_count": 6,
   "metadata": {},
   "outputs": [],
   "source": [
    "G.add_edges_from([(\"Jacie\", \"Juan\"), (\"John\", \"Juan\"), (\"Juan\", \"Julia\"), (\"Juan\", \"Jade\"), (\"Jack\", \"Julia\"), (\"Julia\", \"Jeff\"), (\"Jade\", \"Jeff\")])"
   ]
  },
  {
   "cell_type": "markdown",
   "metadata": {},
   "source": [
    "Once we've made our graph, we can explore graph properties and obtain lists of nodes and edges."
   ]
  },
  {
   "cell_type": "code",
   "execution_count": 7,
   "metadata": {},
   "outputs": [
    {
     "data": {
      "text/plain": [
       "7"
      ]
     },
     "execution_count": 7,
     "metadata": {},
     "output_type": "execute_result"
    }
   ],
   "source": [
    "G.number_of_nodes()"
   ]
  },
  {
   "cell_type": "code",
   "execution_count": 8,
   "metadata": {},
   "outputs": [
    {
     "data": {
      "text/plain": [
       "8"
      ]
     },
     "execution_count": 8,
     "metadata": {},
     "output_type": "execute_result"
    }
   ],
   "source": [
    "G.number_of_edges()"
   ]
  },
  {
   "cell_type": "markdown",
   "metadata": {},
   "source": [
    "To get a list of the nodes in the graph, use ``nodes()``. This is helpful if you want to iterate through the nodes and do something with them."
   ]
  },
  {
   "cell_type": "code",
   "execution_count": 9,
   "metadata": {},
   "outputs": [
    {
     "data": {
      "text/plain": [
       "['Juan', 'Julia', 'John', 'Jack', 'Jacie', 'Jeff', 'Jade']"
      ]
     },
     "execution_count": 9,
     "metadata": {},
     "output_type": "execute_result"
    }
   ],
   "source": [
    "G.nodes()"
   ]
  },
  {
   "cell_type": "markdown",
   "metadata": {},
   "source": [
    "And edges using ``edges``:"
   ]
  },
  {
   "cell_type": "code",
   "execution_count": 10,
   "metadata": {},
   "outputs": [
    {
     "data": {
      "text/plain": [
       "[('Juan', 'Jade'),\n",
       " ('Juan', 'Julia'),\n",
       " ('Juan', 'John'),\n",
       " ('Juan', 'Jacie'),\n",
       " ('Julia', 'Jeff'),\n",
       " ('Julia', 'Jack'),\n",
       " ('John', 'Jacie'),\n",
       " ('Jeff', 'Jade')]"
      ]
     },
     "execution_count": 10,
     "metadata": {},
     "output_type": "execute_result"
    }
   ],
   "source": [
    "G.edges()"
   ]
  },
  {
   "cell_type": "markdown",
   "metadata": {},
   "source": [
    "Find out which nodes are connected to a specific node using ``neighors``. It takes the target node as an argument."
   ]
  },
  {
   "cell_type": "code",
   "execution_count": 11,
   "metadata": {},
   "outputs": [
    {
     "data": {
      "text/plain": [
       "['Jade', 'Julia', 'John', 'Jacie']"
      ]
     },
     "execution_count": 11,
     "metadata": {},
     "output_type": "execute_result"
    }
   ],
   "source": [
    "G.neighbors(\"Juan\")"
   ]
  },
  {
   "cell_type": "markdown",
   "metadata": {},
   "source": [
    "# Graph, Node, and Edge Attributes\n",
    "\n",
    "Basic graphs contain information about relationships between entities only. However, the nodes, the edges, and the graph itself can have attributes with values, and NetworkX is capable of storing them.\n",
    "\n",
    "The graph itself can be assigned attributes. This is useful if you are working with multiple graphs and need a means to distinguish them. Perhaps you are making a graph every week and tracing the development of the graph. To add or update a graph-level attribute, access its ``.graph`` attribute and use subscript notation to indicate the name of the attribute."
   ]
  },
  {
   "cell_type": "code",
   "execution_count": 12,
   "metadata": {
    "collapsed": true
   },
   "outputs": [],
   "source": [
    "G.graph[\"week_number\"] = 1\n",
    "G.graph[\"graph_id\"] = 12345\n",
    "G.graph[\"manager\"] = \"Willard\""
   ]
  },
  {
   "cell_type": "markdown",
   "metadata": {},
   "source": [
    "Access the graph's ``.graph`` attribute without the bracket notation will show you all of the attributes. "
   ]
  },
  {
   "cell_type": "code",
   "execution_count": 13,
   "metadata": {},
   "outputs": [
    {
     "data": {
      "text/plain": [
       "{'graph_id': 12345, 'manager': 'Willard', 'week_number': 1}"
      ]
     },
     "execution_count": 13,
     "metadata": {},
     "output_type": "execute_result"
    }
   ],
   "source": [
    "G.graph"
   ]
  },
  {
   "cell_type": "markdown",
   "metadata": {},
   "source": [
    "To manipulate a node attribute, access the graph's ``node`` attribute, use bracket notation to target a node, then use bracket notation again to specify the attribute."
   ]
  },
  {
   "cell_type": "code",
   "execution_count": 14,
   "metadata": {},
   "outputs": [
    {
     "data": {
      "text/plain": [
       "{}"
      ]
     },
     "execution_count": 14,
     "metadata": {},
     "output_type": "execute_result"
    }
   ],
   "source": [
    "# Right now the node \"Juan\" has no attributes\n",
    "G.node[\"Juan\"]"
   ]
  },
  {
   "cell_type": "code",
   "execution_count": 15,
   "metadata": {
    "collapsed": true
   },
   "outputs": [],
   "source": [
    "# I set the \"age\" attribute of \"Juan\" to 29\n",
    "G.node[\"Juan\"][\"age\"] = 29"
   ]
  },
  {
   "cell_type": "markdown",
   "metadata": {},
   "source": [
    "Later I can easily access the node's value."
   ]
  },
  {
   "cell_type": "code",
   "execution_count": 16,
   "metadata": {},
   "outputs": [
    {
     "data": {
      "text/plain": [
       "29"
      ]
     },
     "execution_count": 16,
     "metadata": {},
     "output_type": "execute_result"
    }
   ],
   "source": [
    "G.node[\"Juan\"][\"age\"]"
   ]
  },
  {
   "cell_type": "markdown",
   "metadata": {},
   "source": [
    "You can add multiple new nodes that share the same attribute value by passing the attribute as a named argument to ``add_nodes_from``."
   ]
  },
  {
   "cell_type": "code",
   "execution_count": 17,
   "metadata": {
    "collapsed": true
   },
   "outputs": [],
   "source": [
    "# all these new nodes will have a \"course\" attribute set to \"Z639\"\n",
    "\n",
    "G.add_nodes_from([\"Herakles\", \"Rut\", \"Teodosio\",  \"Priscila\", \"Kornelia\"], course=\"Z639\")"
   ]
  },
  {
   "cell_type": "code",
   "execution_count": 18,
   "metadata": {},
   "outputs": [
    {
     "name": "stdout",
     "output_type": "stream",
     "text": [
      "Z639\n",
      "Z639\n"
     ]
    }
   ],
   "source": [
    "print(G.node[\"Teodosio\"][\"course\"])\n",
    "print(G.node[\"Priscila\"][\"course\"])"
   ]
  },
  {
   "cell_type": "markdown",
   "metadata": {},
   "source": [
    "Edges can have attributes, too. Access and modify them using the graph's ``edge`` property. You need to subscript **3** times, once to indicate the origin node, second to indicate the target node, and the third to indicate the attribute. "
   ]
  },
  {
   "cell_type": "code",
   "execution_count": 19,
   "metadata": {
    "collapsed": true
   },
   "outputs": [],
   "source": [
    "G.edge[\"Jacie\"][\"John\"][\"weight\"] = 2.5"
   ]
  },
  {
   "cell_type": "code",
   "execution_count": 20,
   "metadata": {},
   "outputs": [
    {
     "data": {
      "text/plain": [
       "{'weight': 2.5}"
      ]
     },
     "execution_count": 20,
     "metadata": {},
     "output_type": "execute_result"
    }
   ],
   "source": [
    "G.edge[\"Jacie\"][\"John\"]"
   ]
  },
  {
   "cell_type": "code",
   "execution_count": 21,
   "metadata": {
    "collapsed": true
   },
   "outputs": [],
   "source": [
    "# All these edges will have a weight of 5\n",
    "\n",
    "G.add_edges_from([(\"Teodosio\", \"Herakles\"), (\"Teodosio\", \"Kornelia\")], weight=5.0)"
   ]
  },
  {
   "cell_type": "code",
   "execution_count": 22,
   "metadata": {},
   "outputs": [
    {
     "data": {
      "text/plain": [
       "5.0"
      ]
     },
     "execution_count": 22,
     "metadata": {},
     "output_type": "execute_result"
    }
   ],
   "source": [
    "G.edge[\"Kornelia\"][\"Teodosio\"][\"weight\"]"
   ]
  },
  {
   "cell_type": "markdown",
   "metadata": {},
   "source": [
    "# Adding Edges for Nodes not in the Graph\n",
    "\n",
    "NetworkX is pretty forgiving during the creation of graphs. If you use it to add an edge betwee two nodes that aren't already in the graph, then it'll automatically create those nodes."
   ]
  },
  {
   "cell_type": "code",
   "execution_count": 23,
   "metadata": {
    "collapsed": true
   },
   "outputs": [],
   "source": [
    "G.add_edge(\"Larry\", \"Mary\") # These nodes aren't in the graph"
   ]
  },
  {
   "cell_type": "code",
   "execution_count": 24,
   "metadata": {},
   "outputs": [
    {
     "data": {
      "text/plain": [
       "['Juan',\n",
       " 'Julia',\n",
       " 'Kornelia',\n",
       " 'Jack',\n",
       " 'Rut',\n",
       " 'Mary',\n",
       " 'Priscila',\n",
       " 'Herakles',\n",
       " 'John',\n",
       " 'Jacie',\n",
       " 'Jeff',\n",
       " 'Larry',\n",
       " 'Jade',\n",
       " 'Teodosio']"
      ]
     },
     "execution_count": 24,
     "metadata": {},
     "output_type": "execute_result"
    }
   ],
   "source": [
    "G.nodes()"
   ]
  },
  {
   "cell_type": "markdown",
   "metadata": {},
   "source": [
    "We added an edge for two non-existent nodes and NetworkX went ahead and created them. This is useful when first making your graph, programmatically: rather than tediously making nodes and then creating the edge between them, just make the edges and the node creation happens automatically."
   ]
  },
  {
   "cell_type": "markdown",
   "metadata": {},
   "source": [
    "# Directed Graph\n",
    "\n",
    "The graph we made above is undirected, meaning that the edges bear no direction. This is how we would model, for example, a Facebook network, since all relationships *must* be reciprocal: if A is friends with B, then B is friends with A. \n",
    "\n",
    "Notice that since the graph ``G`` is undirected, when I add a weight to the edge from A to B, that weight is also added to the edge B to A, because **they are the same edge**. "
   ]
  },
  {
   "cell_type": "code",
   "execution_count": 25,
   "metadata": {},
   "outputs": [
    {
     "name": "stdout",
     "output_type": "stream",
     "text": [
      "5.0\n"
     ]
    }
   ],
   "source": [
    "# Make weight of edge from Mary to Larry 5.0\n",
    "G.edge['Mary']['Larry']['weight'] = 5.0\n",
    "# What is the weight of the edge from Larry to Mary?\n",
    "print(G.edge['Larry']['Mary']['weight'])"
   ]
  },
  {
   "cell_type": "markdown",
   "metadata": {},
   "source": [
    "Also note that Mary is among Larry's neighbors and Larry is among Mary's neighbors."
   ]
  },
  {
   "cell_type": "code",
   "execution_count": 26,
   "metadata": {},
   "outputs": [
    {
     "data": {
      "text/plain": [
       "['Larry']"
      ]
     },
     "execution_count": 26,
     "metadata": {},
     "output_type": "execute_result"
    }
   ],
   "source": [
    "# Mary's neighbors.\n",
    "G.neighbors(\"Mary\")"
   ]
  },
  {
   "cell_type": "code",
   "execution_count": 27,
   "metadata": {},
   "outputs": [
    {
     "data": {
      "text/plain": [
       "['Mary']"
      ]
     },
     "execution_count": 27,
     "metadata": {},
     "output_type": "execute_result"
    }
   ],
   "source": [
    "# Larry's neighbors\n",
    "G.neighbors(\"Larry\")"
   ]
  },
  {
   "cell_type": "markdown",
   "metadata": {},
   "source": [
    "When we make a **directed graph** using NetworkX, if there is a link from A to B, this does **not mean** there is **necessarily** a link from B to A. \n",
    "\n",
    "To make a directed graph in Network X, us the factory function ``DiGraph`` instead of ``Graph``. "
   ]
  },
  {
   "cell_type": "code",
   "execution_count": 28,
   "metadata": {
    "collapsed": true
   },
   "outputs": [],
   "source": [
    "DG = nx.DiGraph()"
   ]
  },
  {
   "cell_type": "code",
   "execution_count": 29,
   "metadata": {},
   "outputs": [
    {
     "data": {
      "text/plain": [
       "['Juan',\n",
       " 'Julia',\n",
       " 'Kornelia',\n",
       " 'Jack',\n",
       " 'Rut',\n",
       " 'Mary',\n",
       " 'Priscila',\n",
       " 'Herakles',\n",
       " 'John',\n",
       " 'Jacie',\n",
       " 'Jeff',\n",
       " 'Teodosio',\n",
       " 'Jade',\n",
       " 'Larry']"
      ]
     },
     "execution_count": 29,
     "metadata": {},
     "output_type": "execute_result"
    }
   ],
   "source": [
    "# Use the same nodes from the undirected graph\n",
    "DG.add_nodes_from(G.nodes())\n",
    "DG.nodes()"
   ]
  },
  {
   "cell_type": "code",
   "execution_count": 30,
   "metadata": {
    "collapsed": true
   },
   "outputs": [],
   "source": [
    "# Add a DIRECTED EDGE from Larry to Mary\n",
    "DG.add_edge(\"Larry\", \"Mary\")"
   ]
  },
  {
   "cell_type": "markdown",
   "metadata": {},
   "source": [
    "We have an edge from Larry to Mary. This means Mary is a neighbor of Larry, but Larry is NOT a neighbor of Mary."
   ]
  },
  {
   "cell_type": "code",
   "execution_count": 31,
   "metadata": {},
   "outputs": [
    {
     "data": {
      "text/plain": [
       "['Mary']"
      ]
     },
     "execution_count": 31,
     "metadata": {},
     "output_type": "execute_result"
    }
   ],
   "source": [
    "DG.neighbors(\"Larry\")"
   ]
  },
  {
   "cell_type": "code",
   "execution_count": 32,
   "metadata": {},
   "outputs": [
    {
     "data": {
      "text/plain": [
       "[]"
      ]
     },
     "execution_count": 32,
     "metadata": {},
     "output_type": "execute_result"
    }
   ],
   "source": [
    "DG.neighbors(\"Mary\")"
   ]
  },
  {
   "cell_type": "markdown",
   "metadata": {},
   "source": [
    "If you're ever in a situation where you need to know which nodes have an edge pointing *to* a certain node, use the method ``predecessors``. "
   ]
  },
  {
   "cell_type": "code",
   "execution_count": 33,
   "metadata": {},
   "outputs": [
    {
     "data": {
      "text/plain": [
       "['Larry']"
      ]
     },
     "execution_count": 33,
     "metadata": {},
     "output_type": "execute_result"
    }
   ],
   "source": [
    "DG.predecessors(\"Mary\")"
   ]
  },
  {
   "cell_type": "markdown",
   "metadata": {},
   "source": [
    "One scenario in which we'd use a directed graph is if we were making a Twitter follower network. Unlike with Facebook, if A follows B, this does NOT mean that B follows A. If the directed graph ``DG`` above were a follower network, this means that Larry follows Mary but Mary does not follow Larry. \n",
    "\n",
    "A directed graph means that if there is a link from A to B, it does not **necessarily mean** that there is a link from B to A. But this does not mean that a link from B to A is forbidden! Again, the Twitter analogy helps here. just because Larry follows Mary, it doesn't mean that Mary has to follow Larry. But she can. In this case, the relationship is reciprocal, but unlike in an undirected graph there are actually two edges between A and B: one that goes from A to B, and another, separate edge that goes from B to A."
   ]
  },
  {
   "cell_type": "code",
   "execution_count": 34,
   "metadata": {
    "collapsed": true
   },
   "outputs": [],
   "source": [
    "DG.add_edge(\"Mary\", \"Larry\")"
   ]
  },
  {
   "cell_type": "markdown",
   "metadata": {},
   "source": [
    "Note that since in a digraph we're actually dealing with two separate edges pointing in the opposite direction, modifying the attributes of one does not modify the attributes of the other. "
   ]
  },
  {
   "cell_type": "code",
   "execution_count": 35,
   "metadata": {
    "collapsed": true
   },
   "outputs": [],
   "source": [
    "# Adding weight to the edge from Mary to Larry\n",
    "DG.edge[\"Mary\"][\"Larry\"][\"weight\"] = 5"
   ]
  },
  {
   "cell_type": "code",
   "execution_count": 36,
   "metadata": {},
   "outputs": [
    {
     "data": {
      "text/plain": [
       "{'weight': 5}"
      ]
     },
     "execution_count": 36,
     "metadata": {},
     "output_type": "execute_result"
    }
   ],
   "source": [
    "# We can see the weight we just added\n",
    "DG.edge[\"Mary\"][\"Larry\"]"
   ]
  },
  {
   "cell_type": "code",
   "execution_count": 37,
   "metadata": {},
   "outputs": [
    {
     "data": {
      "text/plain": [
       "{}"
      ]
     },
     "execution_count": 37,
     "metadata": {},
     "output_type": "execute_result"
    }
   ],
   "source": [
    "# BUT in the reciprocal edge from Larry to Mary, there is no weight.\n",
    "# They are different edges.\n",
    "DG.edge[\"Larry\"][\"Mary\"]"
   ]
  },
  {
   "cell_type": "markdown",
   "metadata": {},
   "source": [
    "# Building a Network from Twitter\n",
    "\n",
    "In the following code, I'm going to build an **ego network**. They're called such because they are seeded with an **ego**, a single individual from whom the network will be grown. \n",
    "\n",
    "I'm going to use my on Twitter handle to do this, for the simple reason that I'm not a very active Twitter user so the number of people who follow me is very small.\n",
    "\n",
    "Starting with my account, I'll get all the accounts who follow me. I'll create an empty list and add a tuple for each relationship in the form (follower's screen name, \"vqmalic\").\n",
    "\n",
    "Then, I'll get **all my follower's followers**, and add those relationships to the edge list.\n",
    "\n",
    "Note that this type of breadth-first search will grow exponentially very fast, particularly if someone who follows me has a huge amount of followers. Therefore, instead of using the ``Cursor`` object I'm going to use normal API calls which will only get the first 25 followers per user. For a project, you'd probably have to use the Cursor and this process would take a considerable amount of time. "
   ]
  },
  {
   "cell_type": "code",
   "execution_count": 38,
   "metadata": {},
   "outputs": [],
   "source": [
    "API_KEY = \"\"\n",
    "API_SECRET = \"\"\n",
    "import tweepy\n",
    "auth = tweepy.AppAuthHandler(API_KEY, API_SECRET)\n",
    "api = tweepy.API(auth, wait_on_rate_limit=True, wait_on_rate_limit_notify=True)"
   ]
  },
  {
   "cell_type": "code",
   "execution_count": 43,
   "metadata": {},
   "outputs": [
    {
     "name": "stdout",
     "output_type": "stream",
     "text": [
      "Rate limit reached. Sleeping for: 309\n",
      "Not authorized, skipping.\n"
     ]
    }
   ],
   "source": [
    "edges = []\n",
    "\n",
    "ego = api.get_user(\"vqmalic\")\n",
    "\n",
    "for follower in ego.followers():\n",
    "    follower_sn = follower.screen_name\n",
    "    edges.append((follower_sn, \"vqmalic\"))\n",
    "    try:\n",
    "        for follower2 in follower.followers():\n",
    "            follower2_sn = follower2.screen_name\n",
    "            edges.append((follower2_sn, follower_sn))\n",
    "    except:\n",
    "        print(\"Not authorized, skipping.\")"
   ]
  },
  {
   "cell_type": "code",
   "execution_count": 45,
   "metadata": {},
   "outputs": [],
   "source": [
    "G = nx.Graph()\n",
    "G.add_edges_from(edges)"
   ]
  },
  {
   "cell_type": "code",
   "execution_count": 47,
   "metadata": {},
   "outputs": [
    {
     "data": {
      "text/plain": [
       "359"
      ]
     },
     "execution_count": 47,
     "metadata": {},
     "output_type": "execute_result"
    }
   ],
   "source": [
    "G.number_of_nodes()"
   ]
  },
  {
   "cell_type": "code",
   "execution_count": 48,
   "metadata": {},
   "outputs": [
    {
     "data": {
      "text/plain": [
       "365"
      ]
     },
     "execution_count": 48,
     "metadata": {},
     "output_type": "execute_result"
    }
   ],
   "source": [
    "G.number_of_edges()"
   ]
  },
  {
   "cell_type": "code",
   "execution_count": 53,
   "metadata": {},
   "outputs": [
    {
     "data": {
      "image/png": "[encoded data removed]",
      "text/plain": [
       "<matplotlib.figure.Figure at 0x22a55a72400>"
      ]
     },
     "metadata": {},
     "output_type": "display_data"
    }
   ],
   "source": [
    "%matplotlib inline\n",
    "import matplotlib.pyplot as plt\n",
    "nx.draw(G)\n",
    "plt.show()"
   ]
  }
 ],
 "metadata": {
  "anaconda-cloud": {},
  "kernelspec": {
   "display_name": "Python 3",
   "language": "python",
   "name": "python3"
  },
  "language_info": {
   "codemirror_mode": {
    "name": "ipython",
    "version": 3
   },
   "file_extension": ".py",
   "mimetype": "text/x-python",
   "name": "python",
   "nbconvert_exporter": "python",
   "pygments_lexer": "ipython3",
   "version": "3.6.1"
  }
 },
 "nbformat": 4,
 "nbformat_minor": 1
}
