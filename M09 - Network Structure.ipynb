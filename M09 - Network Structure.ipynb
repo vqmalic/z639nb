{
 "cells": [
  {
   "cell_type": "markdown",
   "metadata": {
    "collapsed": true
   },
   "source": [
    "When we have assembled a network from our Social Media data, we're looking at a single snapshot of a set of entities and the relationships between them. A common question of interest to network researchers is *why* the network looks the way it looks. Take, for example, a network of Facebook friends. Why do we have *this particular arrangement* of friends and friendships? Why do some users have many friends, and why do others have few friends? Why do some users have high eigenvector centrality or betweenness centrality? What caused certain people to be central and others to be peripheral?\n",
    "\n",
    "In other words: what processes formed the graph we are currently looking at?\n",
    "\n",
    "We take the traditional scientific approach to resolving this question: we form a hypothesis and we see how will it fits with what we have observed.\n",
    "\n",
    "Our hypothesis concerns how links between nodes come into being. Let's take for example, a hypothesis that **all friendships are formed randomly with a certain probability between two nodes**. Random Person A and Random Person B are nodes, but they are not facebook friends. They have a 32\\% chance of becoming Facebook friends. If this probability is met, they become friends, otherwise, they don't. \n",
    "\n",
    "Obviously your intuition might kick in, and you might from your own Facebook experience observe that no, that is indeed *not* how people become Facebook friends in the real world. And you're probably right. But it doesn't hurt to *test* this hypothesis and see how will it stands up. \n",
    "\n",
    "The idea behind **Network Models** is that you generate a random graph according to a set of rules. This set of rules is our network model - in the example above, our model is **relationships are formed randomly with a set probability**. Then, you compare the random graph to your real-world graph. The more similar they are, the more likely that your model estimates the *true process* that created the real-world model. If they're dissimilar, you can discard your hypothesis and seek another.\n",
    "\n",
    "Before we generate random graphs, let's discuss a number of *graph-wide metrics* that will aid us in our comparison. \n",
    "\n",
    "# Degree Distribution\n",
    "\n",
    "When we look at the degree distribution of a graph, we're trying to figure out *how many nodes* in a graph have *a certain degree*. How many nodes have a low degree? How many have a high degree? How many have a *very* high degree?\n",
    "\n",
    "Let's take a look at a subset I made of the Twitter dataset from the Social Computing Data Repository at ASU. This dataset contains 11,316,811 nodes and 85,331,846 edges, so it is purely staggering in its size, something far beyond what most of us can handle on our home computers. I therefore took a random subset of it that has 28,537 nodes and 3,004,415 edges. This file will be available on Canvas.\n",
    "\n",
    "Note that this *should* be a directed network, as it's a network of who follows who on Twitter, but I saved it and am loading it as an undirected network to simplify things for this demo."
   ]
  },
  {
   "cell_type": "code",
   "execution_count": 1,
   "metadata": {
    "collapsed": true
   },
   "outputs": [],
   "source": [
    "import numpy as np\n",
    "np.random.seed(3057) # Set random seed since we'll be doing random stuff later.\n",
    "\n",
    "import networkx as nx\n",
    "G = nx.read_graphml(\"twitgraph.graphml\")"
   ]
  },
  {
   "cell_type": "code",
   "execution_count": 2,
   "metadata": {
    "collapsed": false
   },
   "outputs": [
    {
     "data": {
      "text/plain": [
       "28537"
      ]
     },
     "execution_count": 2,
     "metadata": {},
     "output_type": "execute_result"
    }
   ],
   "source": [
    "G.number_of_nodes()"
   ]
  },
  {
   "cell_type": "code",
   "execution_count": 3,
   "metadata": {
    "collapsed": false
   },
   "outputs": [
    {
     "data": {
      "text/plain": [
       "3004415"
      ]
     },
     "execution_count": 3,
     "metadata": {},
     "output_type": "execute_result"
    }
   ],
   "source": [
    "G.number_of_edges()"
   ]
  },
  {
   "cell_type": "markdown",
   "metadata": {},
   "source": [
    "You'll recall that you can get the degree of a node by using the graph method ``degree`` and passing it the name of a node. This Twitter network has be anonymized, so the names of the nodes are integers (but the integers are strings in the Graph). Using this techinque, we can see that the degree of node ``'5729987'`` is 78."
   ]
  },
  {
   "cell_type": "code",
   "execution_count": 4,
   "metadata": {
    "collapsed": false
   },
   "outputs": [
    {
     "data": {
      "text/plain": [
       "78"
      ]
     },
     "execution_count": 4,
     "metadata": {},
     "output_type": "execute_result"
    }
   ],
   "source": [
    "some_node = '5729987'\n",
    "G.degree(some_node)"
   ]
  },
  {
   "cell_type": "markdown",
   "metadata": {},
   "source": [
    "We can actually pass multiple nodes to ``degree`` by passing it a list of node names. We get a dictionary with the node names as keys and their corresponding degree as values. "
   ]
  },
  {
   "cell_type": "code",
   "execution_count": 5,
   "metadata": {
    "collapsed": false
   },
   "outputs": [
    {
     "data": {
      "text/plain": [
       "{'1958438': 2, '5729987': 78}"
      ]
     },
     "execution_count": 5,
     "metadata": {},
     "output_type": "execute_result"
    }
   ],
   "source": [
    "G.degree(['5729987', '1958438'])"
   ]
  },
  {
   "cell_type": "markdown",
   "metadata": {},
   "source": [
    "So let's simply pass degree a list of all the nodes:"
   ]
  },
  {
   "cell_type": "code",
   "execution_count": 6,
   "metadata": {
    "collapsed": true
   },
   "outputs": [],
   "source": [
    "all_nodes = G.nodes()\n",
    "all_degrees = G.degree(all_nodes)"
   ]
  },
  {
   "cell_type": "markdown",
   "metadata": {},
   "source": [
    "The variable ``all_degrees`` is a dictionary, with the keys as node names and the values as their degrees. We're interested only in the degrees right now so let's pull out just the values. We can use the ``.values()`` method on the dictionary to do that, but we also have to take the additional step of converting it into a list."
   ]
  },
  {
   "cell_type": "code",
   "execution_count": 7,
   "metadata": {
    "collapsed": true
   },
   "outputs": [],
   "source": [
    "all_degrees = list(all_degrees.values())"
   ]
  },
  {
   "cell_type": "code",
   "execution_count": 8,
   "metadata": {
    "collapsed": false
   },
   "outputs": [
    {
     "data": {
      "text/plain": [
       "[6,\n",
       " 14,\n",
       " 660,\n",
       " 42,\n",
       " 248,\n",
       " 134,\n",
       " 4,\n",
       " 317,\n",
       " 6,\n",
       " 4,\n",
       " 105,\n",
       " 1151,\n",
       " 284,\n",
       " 3,\n",
       " 1,\n",
       " 8,\n",
       " 289,\n",
       " 136,\n",
       " 13,\n",
       " 656,\n",
       " 330,\n",
       " 8,\n",
       " 567,\n",
       " 594,\n",
       " 840]"
      ]
     },
     "execution_count": 8,
     "metadata": {},
     "output_type": "execute_result"
    }
   ],
   "source": [
    "all_degrees[:25]"
   ]
  },
  {
   "cell_type": "markdown",
   "metadata": {},
   "source": [
    "Let's try to get a sense of what kind of degrees we have. The minimum is not too surprising:"
   ]
  },
  {
   "cell_type": "code",
   "execution_count": 9,
   "metadata": {
    "collapsed": false
   },
   "outputs": [
    {
     "data": {
      "text/plain": [
       "1"
      ]
     },
     "execution_count": 9,
     "metadata": {},
     "output_type": "execute_result"
    }
   ],
   "source": [
    "import numpy as np\n",
    "np.min(all_degrees)"
   ]
  },
  {
   "cell_type": "markdown",
   "metadata": {},
   "source": [
    "The minimum degree a node can have is 1 (otherwise it wouldn't be a part of the graph at all). Here's the max: "
   ]
  },
  {
   "cell_type": "code",
   "execution_count": 10,
   "metadata": {
    "collapsed": false
   },
   "outputs": [
    {
     "data": {
      "text/plain": [
       "12240"
      ]
     },
     "execution_count": 10,
     "metadata": {},
     "output_type": "execute_result"
    }
   ],
   "source": [
    "np.max(all_degrees)"
   ]
  },
  {
   "cell_type": "markdown",
   "metadata": {},
   "source": [
    "There's someone in this network with an impressive 12,240 followers."
   ]
  },
  {
   "cell_type": "code",
   "execution_count": 11,
   "metadata": {
    "collapsed": false
   },
   "outputs": [
    {
     "data": {
      "text/plain": [
       "51.0"
      ]
     },
     "execution_count": 11,
     "metadata": {},
     "output_type": "execute_result"
    }
   ],
   "source": [
    "np.median(all_degrees)"
   ]
  },
  {
   "cell_type": "markdown",
   "metadata": {},
   "source": [
    "The median degree is 51. Note this is much, much closer to the minimum than the maximum, so we're probably dealing with a very skewed distribution. \n",
    "\n",
    "Let's visualize this distribution. Here's how will do it:\n",
    "\n",
    "The **x-axis** will represent a degree, starting with 1 and incrementing by 1: 1, 2, 3, and s on until 12,240.\n",
    "\n",
    "The **y-axis** will plot the *number of nodes that have that corresponding degree on the x-axis*. How many nodes have a degree of 1? How many nodes have a degree of 2? And so on.\n",
    "\n",
    "NetworkX provides us with a function called ``degree_histogram`` that will do this counting for us. It returns a list where the element at index 0 is a count of how many nodes have a degree of 0, the element of index 1 indicates how many nodes have a degree of 1, and so on. "
   ]
  },
  {
   "cell_type": "code",
   "execution_count": 12,
   "metadata": {
    "collapsed": true
   },
   "outputs": [],
   "source": [
    "dh = nx.degree_histogram(G)"
   ]
  },
  {
   "cell_type": "code",
   "execution_count": 13,
   "metadata": {
    "collapsed": false
   },
   "outputs": [
    {
     "data": {
      "text/plain": [
       "[0, 3327, 1454, 968, 713]"
      ]
     },
     "execution_count": 13,
     "metadata": {},
     "output_type": "execute_result"
    }
   ],
   "source": [
    "dh[:5]"
   ]
  },
  {
   "cell_type": "markdown",
   "metadata": {},
   "source": [
    "There are 0 nodes that have a degree of 0 (which makes sense), 3327 nodes with a degree of 1, 1454 nodes with a degree of 2, and so on. Let's plot this."
   ]
  },
  {
   "cell_type": "code",
   "execution_count": 14,
   "metadata": {
    "collapsed": false
   },
   "outputs": [
    {
     "data": {
      "text/plain": [
       "[<matplotlib.lines.Line2D at 0x17f0aacf9b0>]"
      ]
     },
     "execution_count": 14,
     "metadata": {},
     "output_type": "execute_result"
    },
    {
     "data": {
      "image/png": "[encoded data removed]",
      "text/plain": [
       "<matplotlib.figure.Figure at 0x17f0aacfa20>"
      ]
     },
     "metadata": {},
     "output_type": "display_data"
    }
   ],
   "source": [
    "%matplotlib inline\n",
    "import matplotlib.pyplot as plt\n",
    "plt.xlim(-500, max(all_degrees))\n",
    "plt.plot(dh, \"ro\")"
   ]
  },
  {
   "cell_type": "markdown",
   "metadata": {},
   "source": [
    "Let's take a close look at this visualization. There are a lot of nodes with a degree of 1. Then, there are fewer nodes with a degree of 2. And fewer with a degree of 3. As we increase the degree, the number of nodes with degree decrease *so quickly* that in the visualization above the dots look like they form a \"L\" shape, that at first goes straight down, and then cuts to the left near the bottom of the *y-axis*.\n",
    "\n",
    "This is not entirely helpful, as it basically tells us \"a lot of nodes have a low degree, a few nodes have high degrees.\"\n",
    "\n",
    "One way we can clarify the visualization is to **take the logarithm of both axes**. In general, if we suspect that we're dealing with a multiplicative process, if we take the logarithm of the values we can turn it into an additive process. We have suspicions that there is some sort of multiplicative process going on here because the number of nodes with a degree of 2 seems to be a bit more than half of the number of nodes with a degree of 1. The number of nodes with a degree of 2 seems a bit more than half of the number of nodes with degree 1. As we increase the degree, we seem to get a count that is a *fixed proportion* of the previous count. \n",
    "\n",
    "Let's plot the same data, but on logarithmic axes."
   ]
  },
  {
   "cell_type": "code",
   "execution_count": 15,
   "metadata": {
    "collapsed": false
   },
   "outputs": [
    {
     "data": {
      "text/plain": [
       "[<matplotlib.lines.Line2D at 0x17f0a6c5da0>]"
      ]
     },
     "execution_count": 15,
     "metadata": {},
     "output_type": "execute_result"
    },
    {
     "data": {
      "image/png": "[encoded data removed]",
      "text/plain": [
       "<matplotlib.figure.Figure at 0x17f0a6f4470>"
      ]
     },
     "metadata": {},
     "output_type": "display_data"
    }
   ],
   "source": [
    "plt.xscale(\"log\")\n",
    "plt.yscale(\"log\")\n",
    "plt.plot(dh, \"ro\")"
   ]
  },
  {
   "cell_type": "markdown",
   "metadata": {},
   "source": [
    "We can see that when we plot the degree distribution on log-log axes, we have *something* approximating a line. \n",
    "\n",
    "In statistics, when we see a line on a log-log plot, this constitutes *some* evidence that the phenomena we are observe follows a [*power law distribution*](https://en.wikipedia.org/wiki/Power_law), where \n",
    "\n",
    "$$\n",
    "p_k = C \\cdot \\frac{1}{k^{\\alpha}}\n",
    "$$"
   ]
  },
  {
   "cell_type": "markdown",
   "metadata": {},
   "source": [
    "The number of nodes with degree $k$ is proportional to some constant $C$ times one over $k$ raised to the $\\alpha$. This formula, if true, explains the rapid dropoff: as we increase the degree $k$, the number of nodes with degree $k$ drops off rapidly as $k$ is exponentiated by some number $\\alpha$.\n",
    "\n",
    "The power law distribution seems to be displayed in a large number of real world social networks, but I feel obligated to mention here that nowadays, generall speaking, \"finding the powerlaw\" has become somewhat of a trend and there are a number of statisticians, notably Cosma Shalizi, who are doing deeper reserach into the issue and are discovering that in our zeal and excitement we are finding power laws where there aren't any. [Here's a link summarizing Shalizi's criticisms](http://bactra.org/weblog/491.html). For now, the important takeaway is that degree distributions in real-world networks are heavily right-skewed. \n",
    "\n",
    "# Clustering Coefficient\n",
    "\n",
    "The clustering coefficient for a given node tells us how dense the connections surrounding that node are. It's a good measure of how connected a certain part of the graph is. \n",
    "\n",
    "Let's take a look at the following network:"
   ]
  },
  {
   "cell_type": "code",
   "execution_count": 16,
   "metadata": {
    "collapsed": false
   },
   "outputs": [
    {
     "data": {
      "image/png": "[encoded data removed]",
      "text/plain": [
       "<matplotlib.figure.Figure at 0x17f09585ac8>"
      ]
     },
     "metadata": {},
     "output_type": "display_data"
    }
   ],
   "source": [
    "sample = nx.generators.star_graph(5)\n",
    "\n",
    "pos = nx.spring_layout(sample, iterations=100)\n",
    "nx.draw_networkx_nodes(sample, pos, node_size = 300)\n",
    "nx.draw_networkx_edges(sample, pos)\n",
    "nx.draw_networkx_labels(sample, pos, font_size=10)\n",
    "plt.axis(\"off\")\n",
    "plt.show()"
   ]
  },
  {
   "cell_type": "markdown",
   "metadata": {},
   "source": [
    "Here, we have a hub node, 0, and 5 other nodes that are connected to node 0 but *no other nodes*. Imagine this as a social network. 0 might be a boss, who commands the other 5 nodes, but there are no other connections: the 5 employees don't know or contact eahch other, they are isolated. \n",
    "\n",
    "This above configuration, which known as a **star graph**, is highly unusual in real-world social networks. \n",
    "\n",
    "Let's explore why. A star graph is composed of multiple open triangles. An open triangle is a configuration of 3 nodes that looks like this:"
   ]
  },
  {
   "cell_type": "code",
   "execution_count": 17,
   "metadata": {
    "collapsed": false
   },
   "outputs": [
    {
     "data": {
      "image/png": "[encoded data removed]",
      "text/plain": [
       "<matplotlib.figure.Figure at 0x17f0a702278>"
      ]
     },
     "metadata": {},
     "output_type": "display_data"
    }
   ],
   "source": [
    "sample = nx.generators.star_graph(2)\n",
    "\n",
    "pos = nx.spring_layout(sample, iterations=100)\n",
    "nx.draw_networkx_nodes(sample, pos, node_size = 300)\n",
    "nx.draw_networkx_edges(sample, pos)\n",
    "nx.draw_networkx_labels(sample, pos, font_size=10)\n",
    "plt.axis(\"off\")\n",
    "plt.show()"
   ]
  },
  {
   "cell_type": "markdown",
   "metadata": {},
   "source": [
    "0 knows 1, 0 knows 2, but 1 and 2 don't know each other. In real world sitautions, we would expect that at least *some* of those open triangles would become *closed*. Think about a network of Facebook friends. If Etta knows Janek, and Etta also knows Sofia, there's some probability that Etta will introduce Janek to Sofia and *close the triangle*."
   ]
  },
  {
   "cell_type": "code",
   "execution_count": 18,
   "metadata": {
    "collapsed": false
   },
   "outputs": [
    {
     "data": {
      "image/png": "[encoded data removed]",
      "text/plain": [
       "<matplotlib.figure.Figure at 0x17f095208d0>"
      ]
     },
     "metadata": {},
     "output_type": "display_data"
    }
   ],
   "source": [
    "sample = nx.generators.complete_graph(3)\n",
    "\n",
    "pos = nx.spring_layout(sample, iterations=100)\n",
    "nx.draw_networkx_nodes(sample, pos, node_size = 300)\n",
    "nx.draw_networkx_edges(sample, pos)\n",
    "nx.draw_networkx_labels(sample, pos, font_size=10)\n",
    "plt.axis(\"off\")\n",
    "plt.show()"
   ]
  },
  {
   "cell_type": "markdown",
   "metadata": {},
   "source": [
    "The clustering coefficient for a *given node* is the number of *closed triangles* divided by the number of *possible closed triangles*. \n",
    "\n",
    "We can find the clustering coefficient of a target node with the networkx function ``clustering``. \n",
    "\n",
    "In a star structure, the clustering coefficient of the hub node is 0, as there are no possible triangles:"
   ]
  },
  {
   "cell_type": "code",
   "execution_count": 19,
   "metadata": {
    "collapsed": false
   },
   "outputs": [
    {
     "data": {
      "text/plain": [
       "0.0"
      ]
     },
     "execution_count": 19,
     "metadata": {},
     "output_type": "execute_result"
    }
   ],
   "source": [
    "from networkx.algorithms import clustering\n",
    "sample = nx.generators.star_graph(2)\n",
    "clustering(sample, 0)"
   ]
  },
  {
   "cell_type": "markdown",
   "metadata": {},
   "source": [
    "Let's artificially close one of the triangles in the star network."
   ]
  },
  {
   "cell_type": "code",
   "execution_count": 20,
   "metadata": {
    "collapsed": false
   },
   "outputs": [
    {
     "data": {
      "image/png": "[encoded data removed]",
      "text/plain": [
       "<matplotlib.figure.Figure at 0x17f09494b70>"
      ]
     },
     "metadata": {},
     "output_type": "display_data"
    }
   ],
   "source": [
    "sample = nx.generators.star_graph(5)\n",
    "sample.add_edge(1, 2)\n",
    "pos = nx.spring_layout(sample, iterations=100)\n",
    "nx.draw_networkx_nodes(sample, pos, node_size = 300)\n",
    "nx.draw_networkx_edges(sample, pos)\n",
    "nx.draw_networkx_labels(sample, pos, font_size=10)\n",
    "plt.axis(\"off\")\n",
    "plt.show()"
   ]
  },
  {
   "cell_type": "markdown",
   "metadata": {},
   "source": [
    "What's the clustering coefficient of node 0?"
   ]
  },
  {
   "cell_type": "code",
   "execution_count": 21,
   "metadata": {
    "collapsed": false
   },
   "outputs": [
    {
     "data": {
      "text/plain": [
       "0.1"
      ]
     },
     "execution_count": 21,
     "metadata": {},
     "output_type": "execute_result"
    }
   ],
   "source": [
    "clustering(sample, 0)"
   ]
  },
  {
   "cell_type": "markdown",
   "metadata": {},
   "source": [
    "It's 0.1, because there is one existing triangle out of 10 potential triangles that could be formed among 0's neighbors. \n",
    "\n",
    "Now let's look at a graph where *everyone* knows *everyone else*."
   ]
  },
  {
   "cell_type": "code",
   "execution_count": 22,
   "metadata": {
    "collapsed": false
   },
   "outputs": [
    {
     "data": {
      "image/png": "[encoded data removed]",
      "text/plain": [
       "<matplotlib.figure.Figure at 0x17f09494780>"
      ]
     },
     "metadata": {},
     "output_type": "display_data"
    }
   ],
   "source": [
    "sample = nx.generators.complete_graph(6)\n",
    "pos = nx.spring_layout(sample, iterations=100)\n",
    "nx.draw_networkx_nodes(sample, pos, node_size = 300)\n",
    "nx.draw_networkx_edges(sample, pos)\n",
    "nx.draw_networkx_labels(sample, pos, font_size=10)\n",
    "plt.axis(\"off\")\n",
    "plt.show()"
   ]
  },
  {
   "cell_type": "code",
   "execution_count": 23,
   "metadata": {
    "collapsed": false
   },
   "outputs": [
    {
     "data": {
      "text/plain": [
       "1.0"
      ]
     },
     "execution_count": 23,
     "metadata": {},
     "output_type": "execute_result"
    }
   ],
   "source": [
    "clustering(sample, 0)"
   ]
  },
  {
   "cell_type": "markdown",
   "metadata": {},
   "source": [
    "Now the clustering coefficient for node 0 is 1.0: of all the possible triangles that could be formed, they *are* formed.\n",
    "\n",
    "The clustering coefficient is a *node level metric*. In a real-world network, some may have high clustering, some may have low clustering. We turn this into a *network level metric* by calulating the clustering coefficient for all nodes in the graph and taking their average. \n",
    "\n",
    "Let's find the average clustering coefficient for our twitter network. Note that this is a *computationally expensive operation*, so in many large networks, computing the clustering coefficient for all nodes is infeasible. NetworkX therefore provides a function called ``average_clustering`` that **estimates** the average clustering coefficient by only sampling some of the possible triangles. The number of samples is indicated by the optional parameter ``trials``. The higher the trials, the more accurate the estimate, the longer it may take to calculate."
   ]
  },
  {
   "cell_type": "code",
   "execution_count": 24,
   "metadata": {
    "collapsed": false
   },
   "outputs": [
    {
     "data": {
      "text/plain": [
       "0.2369"
      ]
     },
     "execution_count": 24,
     "metadata": {},
     "output_type": "execute_result"
    }
   ],
   "source": [
    "from networkx.algorithms.approximation import average_clustering\n",
    "\n",
    "acc = average_clustering(G, trials=10000)\n",
    "acc"
   ]
  },
  {
   "cell_type": "markdown",
   "metadata": {},
   "source": [
    "We estimate the average clustering coefficient for our Twitter network is around 0.24. That for a given node, 24% of of the potential triangles that could be formed among its neighbors do actually exist.\n",
    "\n",
    "# Shortest Path\n",
    "\n",
    "When we take two nodes, there are many paths one can take along the network to get from one to the other; however, one of these paths must be the *shortest*. \n",
    "\n",
    "To calculate the shortest path between two nodes, we can use a NetworkX function called shortest path."
   ]
  },
  {
   "cell_type": "code",
   "execution_count": 25,
   "metadata": {
    "collapsed": true
   },
   "outputs": [],
   "source": [
    "from networkx.algorithms import shortest_path"
   ]
  },
  {
   "cell_type": "code",
   "execution_count": 26,
   "metadata": {
    "collapsed": false
   },
   "outputs": [
    {
     "data": {
      "text/plain": [
       "['5729987', '5906802', '1369086', '1958438']"
      ]
     },
     "execution_count": 26,
     "metadata": {},
     "output_type": "execute_result"
    }
   ],
   "source": [
    "shortest_path(G, '5729987', '1958438')"
   ]
  },
  {
   "cell_type": "markdown",
   "metadata": {},
   "source": [
    "It takes 3 hops to get from ``'5729987'`` to node ``'1958438'``. \n",
    "\n",
    "Like with the clustering coefficient, we can calculate the shortest path between all possible pairs of nodes and calculate the *average shortest path*, which gives us an intuition about the \"diameter\" of the network. If you'll recall the game \"6 Degrees of Kevin Bacon\", if you take an actor network and find that the average shortest path is less than 6, then for almost any actor you should be able to get to Kevin Bacon in less than 6 steps.\n",
    "\n",
    "Also similar to the average clustering coefficient, calculating this for the entire graph, unfortunately, is infeasible when your number of nodes is large. With 28,537 nodes, there would be 407,165,916 paths we would have to calculate. Once again, we'll have to only *sample* pairs of nodes, and then estimate the average shortest path using those samples.\n",
    "\n",
    "Sadly, NetworkX does not have a function that can sample, but I'll write a function here that will do the work for us. "
   ]
  },
  {
   "cell_type": "code",
   "execution_count": 27,
   "metadata": {
    "collapsed": false
   },
   "outputs": [],
   "source": [
    "from networkx.algorithms import shortest_path\n",
    "import numpy as np\n",
    "\n",
    "def estimate_asp(G, trials=100000):\n",
    "    nodes = G.nodes()\n",
    "    sources = np.random.choice(nodes, trials)\n",
    "    destinations = np.random.choice(nodes, trials)\n",
    "    path_lengths = []\n",
    "    for i in range(len(sources)):\n",
    "        this_path = shortest_path(G, sources[i], destinations[i])\n",
    "        if this_path:\n",
    "            path_lengths.append(len(this_path)-1)\n",
    "    return np.mean(path_lengths)"
   ]
  },
  {
   "cell_type": "code",
   "execution_count": 28,
   "metadata": {
    "collapsed": false
   },
   "outputs": [
    {
     "data": {
      "text/plain": [
       "2.68858"
      ]
     },
     "execution_count": 28,
     "metadata": {},
     "output_type": "execute_result"
    }
   ],
   "source": [
    "asp = estimate_asp(G)\n",
    "asp"
   ]
  },
  {
   "cell_type": "markdown",
   "metadata": {},
   "source": [
    "With 100,000 samples, we estimate the shortest path length to be 2.69. The diameter of this Twitter network is actually quite small; in about 3 hops, you can probably get from a given node to almost every other node in the network."
   ]
  },
  {
   "cell_type": "markdown",
   "metadata": {},
   "source": [
    "# Proposing a model and comparing it to a real-world network\n",
    "\n",
    "Let's come up with some models from graph creation, generate a random network using that model, and compare it with our real world Twitter network in terms of degree distribution, clustering coefficient, and average shortest path.\n",
    "\n",
    "Above, I proposed a (probably wrong) graph model where we create a link between two nodes randomly, with a certain probability. When we think about how we follow Twitter accounts or make friends  on Facebook, this definitely doesn't seem to be how the process works. But for science's sake, let's make a network that follows these rules and see how it compares to our real world network.\n",
    "\n",
    "This type of graph is known as an Erdos-Renyi graph. To create a graph, we need two numbers: the number of nodes, and the probability of a link between the nodes. We'll use the same number of nodes as our real world graph, and for the probability of an edge, $p$, we'll use the formula:\n",
    "\n",
    "$$\n",
    "p = \\frac{c}{n-1}\n",
    "$$\n",
    "\n",
    "where $c$ is the average degree of our real-world network and $n$ is the number of nodes in our real world network."
   ]
  },
  {
   "cell_type": "code",
   "execution_count": 29,
   "metadata": {
    "collapsed": true
   },
   "outputs": [],
   "source": [
    "p = np.mean(all_degrees)/(G.number_of_nodes() - 1)"
   ]
  },
  {
   "cell_type": "code",
   "execution_count": 30,
   "metadata": {
    "collapsed": false
   },
   "outputs": [
    {
     "data": {
      "text/plain": [
       "0.0073788470054551416"
      ]
     },
     "execution_count": 30,
     "metadata": {},
     "output_type": "execute_result"
    }
   ],
   "source": [
    "p"
   ]
  },
  {
   "cell_type": "code",
   "execution_count": 31,
   "metadata": {
    "collapsed": false
   },
   "outputs": [],
   "source": [
    "erg = nx.generators.erdos_renyi_graph(G.number_of_nodes(), p)"
   ]
  },
  {
   "cell_type": "markdown",
   "metadata": {},
   "source": [
    "## Degree Distribution\n",
    "\n",
    "Let's look at the degree distribution."
   ]
  },
  {
   "cell_type": "code",
   "execution_count": 32,
   "metadata": {
    "collapsed": false
   },
   "outputs": [
    {
     "data": {
      "text/plain": [
       "[<matplotlib.lines.Line2D at 0x17f093bbb38>]"
      ]
     },
     "execution_count": 32,
     "metadata": {},
     "output_type": "execute_result"
    },
    {
     "data": {
      "image/png": "[encoded data removed]",
      "text/plain": [
       "<matplotlib.figure.Figure at 0x17f0958e208>"
      ]
     },
     "metadata": {},
     "output_type": "display_data"
    }
   ],
   "source": [
    "ergdh = nx.degree_histogram(erg)\n",
    "plt.xscale(\"log\")\n",
    "plt.yscale(\"log\")\n",
    "plt.plot(ergdh, \"ro\")"
   ]
  },
  {
   "cell_type": "markdown",
   "metadata": {},
   "source": [
    "We can see here that the degree distribution of this random Erdos-Renyi graph looks *nothing* like the distribution of our real world graph. This is a pretty strong hint that this isn't the right idea. \n",
    "\n",
    "## Clustering Coefficient\n",
    "\n",
    "Now let's look at the clustering coefficient."
   ]
  },
  {
   "cell_type": "code",
   "execution_count": 33,
   "metadata": {
    "collapsed": false
   },
   "outputs": [
    {
     "data": {
      "text/plain": [
       "0.0078"
      ]
     },
     "execution_count": 33,
     "metadata": {},
     "output_type": "execute_result"
    }
   ],
   "source": [
    "average_clustering(erg, trials=10000)"
   ]
  },
  {
   "cell_type": "markdown",
   "metadata": {},
   "source": [
    "The average clustering coefficient of our Twitter graph was 0.24, while for the Erdos-Renyi graph it's 0.0051. Again, not a good match. \n",
    "\n",
    "Finally, let's see what the average shortest path is. "
   ]
  },
  {
   "cell_type": "code",
   "execution_count": 34,
   "metadata": {
    "collapsed": false
   },
   "outputs": [
    {
     "data": {
      "text/plain": [
       "2.2027800000000002"
      ]
     },
     "execution_count": 34,
     "metadata": {},
     "output_type": "execute_result"
    }
   ],
   "source": [
    "estimate_asp(erg)"
   ]
  },
  {
   "cell_type": "markdown",
   "metadata": {},
   "source": [
    "Okay, so the estimated average shortest path for our random network is 2.20, while while for the real-world network it was 2.69. This is actually in the ball park.\n",
    "\n",
    "A completely random graph does *not* capture the degree distribution of our real-world network, nor does it capture how clustered our real-world network tends to be. \n",
    "\n",
    "In our real-world network, most people have few followers, but some have many, so clearly there is some sort of preference being exercised when follower relationships are made, e.g. it's **not random**.\n",
    "\n",
    "However, both the random Erdos-Renyi network are networks with short average path lengths. So perhaps we can conclude there is *some element of randomsity in the development of following relationships*, and therefore to that extent this explains why social networks tend to have short path lengths.\n",
    "\n",
    "# Small-World Networks"
   ]
  },
  {
   "cell_type": "markdown",
   "metadata": {},
   "source": [
    "The problem with the Erdos-Renyi graph is that it approximated the clustering and the degree distribution of the real-world graph poorly. There is something true about the idea that *sometimes* relationships in human social networks form randomly, but there is something broken with the idea that *all* relationships are formed randomly.\n",
    "\n",
    "To tackle this, let's turn to another graph model called the Small-World Model, developed by Watts and Strogatz in 1997.\n",
    "\n",
    "This model is motivated by the idea that most people *begin with an essential small-world network*. Everyone has family members, everyone has a core of friends. These \"given\" relationships means that certain people will have *some* sort of core of relationships, while there are *some* relationships that are formed randomly.\n",
    "\n",
    "To make a small world network, you start with a set of $n$ nodes. Arrange these nodes in a ring. Then, depending on some parameter $k$ that has an even-number value, connect each node to the $k/2$ neighbors to its left, and $k/2$ neighbors to its right. This is known as a *ring lattice network*. Due to this \"set-up rule\", each node will have some minimum \"community\" from the beginning.\n",
    "\n",
    "Then, visit each existing edge and *rewire* it with a probability $p$. With a low $p$, there will be some randomness, but the \"core communities\" in the lattice graph will remain. With a maximum value of $p=1$, the graph simply becomes a random graph. Here's an image that illustrates:\n",
    "\n",
    "<img src=\"http://www.nature.com/nature/journal/v393/n6684/images/393440aa.eps.2.gif\">\n",
    "\n",
    "Let's simulate our Twitter graph with a Watts-Strogatz small-world graph. We need three parameters:\n",
    "\n",
    "1. $n$, the number of nodes.\n",
    "2. $k$, the number of neighbors to connect to in the original lattice graph.\n",
    "3. $p$, the probability of rewiring. \n",
    "\n",
    "$n$, of course, is simply the number of nodes in our twitter Graph."
   ]
  },
  {
   "cell_type": "code",
   "execution_count": 35,
   "metadata": {
    "collapsed": true
   },
   "outputs": [],
   "source": [
    "n = G.number_of_nodes()"
   ]
  },
  {
   "cell_type": "markdown",
   "metadata": {},
   "source": [
    "For $k$, we'll use the average degree of our Twitter Graph."
   ]
  },
  {
   "cell_type": "code",
   "execution_count": 36,
   "metadata": {
    "collapsed": false
   },
   "outputs": [
    {
     "data": {
      "text/plain": [
       "210.56277814766793"
      ]
     },
     "execution_count": 36,
     "metadata": {},
     "output_type": "execute_result"
    }
   ],
   "source": [
    "k = np.mean(all_degrees)\n",
    "k"
   ]
  },
  {
   "cell_type": "markdown",
   "metadata": {},
   "source": [
    "We want $k$ to be an even number, so we'll floor it:"
   ]
  },
  {
   "cell_type": "code",
   "execution_count": 37,
   "metadata": {
    "collapsed": false
   },
   "outputs": [
    {
     "data": {
      "text/plain": [
       "210"
      ]
     },
     "execution_count": 37,
     "metadata": {},
     "output_type": "execute_result"
    }
   ],
   "source": [
    "k = np.floor(k)\n",
    "k = int(k)\n",
    "k"
   ]
  },
  {
   "cell_type": "markdown",
   "metadata": {},
   "source": [
    "Finally, to derive a value of $p$ from our Graph, we have to use some elaborate math that I won't go into today. If you're interested in learning about it, check out section 4.3 in Zafarani's Social Media Mining textbook, which is available on canvas."
   ]
  },
  {
   "cell_type": "code",
   "execution_count": 38,
   "metadata": {
    "collapsed": false
   },
   "outputs": [],
   "source": [
    "p = 1 - ((acc*4*(k-1))/(3*(k-2)))**(1/3)"
   ]
  },
  {
   "cell_type": "markdown",
   "metadata": {},
   "source": [
    "We can use a NetworkX generator to create a Watts Strogatz small-world network, passing the 3 parameters we just calculated. "
   ]
  },
  {
   "cell_type": "code",
   "execution_count": 39,
   "metadata": {
    "collapsed": false
   },
   "outputs": [],
   "source": [
    "wsg = nx.generators.watts_strogatz_graph(n, k, p)"
   ]
  },
  {
   "cell_type": "markdown",
   "metadata": {},
   "source": [
    "The variable ``wsg`` is now a Watts-Strogatz graph that is attempting to mimic our real-world Twitter graph. If our Twitter graph developed along the same lines as a Watts-Strogatz graph, they should be similar in terms of degree, clustering coefficient, and average shortest path length.\n",
    "\n",
    "## Degree Distribution\n",
    "\n",
    "First, let's check out the degree distribution."
   ]
  },
  {
   "cell_type": "code",
   "execution_count": 40,
   "metadata": {
    "collapsed": false
   },
   "outputs": [
    {
     "data": {
      "text/plain": [
       "[<matplotlib.lines.Line2D at 0x17f092a7748>]"
      ]
     },
     "execution_count": 40,
     "metadata": {},
     "output_type": "execute_result"
    },
    {
     "data": {
      "image/png": "[encoded data removed]",
      "text/plain": [
       "<matplotlib.figure.Figure at 0x17f093f45f8>"
      ]
     },
     "metadata": {},
     "output_type": "display_data"
    }
   ],
   "source": [
    "wsgdh = nx.degree_histogram(wsg)\n",
    "plt.xscale(\"log\")\n",
    "plt.yscale(\"log\")\n",
    "plt.plot(wsgdh, \"ro\")"
   ]
  },
  {
   "cell_type": "markdown",
   "metadata": {},
   "source": [
    "Like with the random Erdos-Renyi graph, the degree distribution does not at all look like the degree distribution of our real world network. So this doesn't work.\n",
    "\n",
    "## Clustering Coefficient"
   ]
  },
  {
   "cell_type": "code",
   "execution_count": 41,
   "metadata": {
    "collapsed": false
   },
   "outputs": [
    {
     "data": {
      "text/plain": [
       "0.2387"
      ]
     },
     "execution_count": 41,
     "metadata": {},
     "output_type": "execute_result"
    }
   ],
   "source": [
    "average_clustering(wsg, trials=10000)"
   ]
  },
  {
   "cell_type": "markdown",
   "metadata": {},
   "source": [
    "The clustering coefficient of our real-world network was 0.24 - and the clustering coefficient of this network is 0.23. Quite close! Although the degree distributions do not reflect real life, the clustering coefficient is spot on. So perhaps there is some element of the Watts-Strogatz process operating in real life: some of your friends are \"given\", while others you find with a random element.\n",
    "\n",
    "## Average Shortest Path"
   ]
  },
  {
   "cell_type": "code",
   "execution_count": 42,
   "metadata": {
    "collapsed": false
   },
   "outputs": [
    {
     "data": {
      "text/plain": [
       "2.4232399999999998"
      ]
     },
     "execution_count": 42,
     "metadata": {},
     "output_type": "execute_result"
    }
   ],
   "source": [
    "estimate_asp(wsg)"
   ]
  },
  {
   "cell_type": "markdown",
   "metadata": {},
   "source": [
    "The average shortest path in the Twitter network was 2.69. Here, it is 2.414. So like the random graph, the shortest path measure is not that far off. In fact, it's closer.\n",
    "\n",
    "# Preferential Attachment\n",
    "\n",
    "The final model we'll go over today is called *Preferential Attachment*. In this model, when a new link between two nodes is added to the network, *there will be a preference to attach to nodes that already have a higher degree*. This models a phenomenon known as the *rich-get-richer* property, whereby someone who already has a lot of friends is more likely to gain even more friends. This type of intuition is appealing when look at real world networks: if I have 10 twitter followers and Katy Perry has millions, obviously there's something about Katy Perry that means it's likely she'll get even *more* followers.\n",
    "\n",
    "To make a synthetic preferential attachment model, we need two parameters: $n$, the number of nodes, and $m$, the average expected degree. To form the artifical model, we start with a set of nodes, and gradually start adding nodes with an average of $m$ outgoing edges. At first, these outgoing edges will find targets randomly, but as the graph is grown the new $m$ edges will have a higher probability of being attached to nodes that have accumulated many other edges. We'll take $n$ and from our real-world network and use the median degree of our network to model $m$. To make our preferential attachment graph, we'll use a NetworkX method called ``barabasi_albert_graph``. "
   ]
  },
  {
   "cell_type": "code",
   "execution_count": 46,
   "metadata": {
    "collapsed": true
   },
   "outputs": [],
   "source": [
    "n = G.number_of_nodes()\n",
    "degrees_per_node = int(G.number_of_edges()/G.number_of_nodes())"
   ]
  },
  {
   "cell_type": "code",
   "execution_count": 48,
   "metadata": {
    "collapsed": false
   },
   "outputs": [],
   "source": [
    "bag = nx.generators.barabasi_albert_graph(n, degrees_per_node)"
   ]
  },
  {
   "cell_type": "markdown",
   "metadata": {},
   "source": [
    "## Degree Distribution"
   ]
  },
  {
   "cell_type": "code",
   "execution_count": 49,
   "metadata": {
    "collapsed": false
   },
   "outputs": [
    {
     "data": {
      "text/plain": [
       "[<matplotlib.lines.Line2D at 0x17f09162518>]"
      ]
     },
     "execution_count": 49,
     "metadata": {},
     "output_type": "execute_result"
    },
    {
     "data": {
      "image/png": "[encoded data removed]",
      "text/plain": [
       "<matplotlib.figure.Figure at 0x17f09184e48>"
      ]
     },
     "metadata": {},
     "output_type": "display_data"
    }
   ],
   "source": [
    "bagdh = nx.degree_histogram(bag)\n",
    "plt.xscale(\"log\")\n",
    "plt.yscale(\"log\")\n",
    "plt.plot(bagdh, \"ro\")"
   ]
  },
  {
   "cell_type": "markdown",
   "metadata": {},
   "source": [
    "We can see here that the preferential attachment model did the best at approximating the degree distribution when compared to the Erdos-Renyi and Small-World models, but it's still not spot on. We see a line on the log-log plot, but the slope is too steep and the starting point has to start at the value we assigned to $m$. So in approximating the degree distribution, we've gotten closer, but we're not quite there. \n",
    "\n",
    "## Average Clustering Coefficient"
   ]
  },
  {
   "cell_type": "code",
   "execution_count": 50,
   "metadata": {
    "collapsed": false
   },
   "outputs": [
    {
     "data": {
      "text/plain": [
       "0.0279"
      ]
     },
     "execution_count": 50,
     "metadata": {},
     "output_type": "execute_result"
    }
   ],
   "source": [
    "average_clustering(bag, trials=10000)"
   ]
  },
  {
   "cell_type": "markdown",
   "metadata": {},
   "source": [
    "The Barabasi-Albert model significantly underestimates the clustering coefficient.\n",
    "\n",
    "## Average Shortest Path Length"
   ]
  },
  {
   "cell_type": "code",
   "execution_count": 51,
   "metadata": {
    "collapsed": false
   },
   "outputs": [
    {
     "data": {
      "text/plain": [
       "2.17571"
      ]
     },
     "execution_count": 51,
     "metadata": {},
     "output_type": "execute_result"
    }
   ],
   "source": [
    "estimate_asp(bag)"
   ]
  },
  {
   "cell_type": "markdown",
   "metadata": {},
   "source": [
    "This model slightly overshoots the average shortest path length, but not by a very wide margin. \n",
    "\n",
    "# Conclusions\n",
    "\n",
    "We discussed three network models, that postulate how a network is formed following a set of very simple and rigid rules. The small-world network approximated our real-world network's clustering coefficient and shortest path length, but the distribution of degrees was off. The preferential attachment model captured the pattern in the degree distribution, but missed the clustering coefficient. \n",
    "\n",
    "We must always keep in mind that models are illuminating, but never perfect imitations of the real world. Clearly, the way that people become friends on Facebook or follow other users on Tweets is a very complicated, human process. However, baseed on our exploration today, we can say that in aggregate, there is a *degree* of randomisity in relationship formation, that the idea that people have a \"core\" of connections to begin with as in the Small-World model holds merit, and that there is some sort of influence of preferential attachment, whereby Tweeters or Facebook users with more connections are likely to garner even more."
   ]
  }
 ],
 "metadata": {
  "anaconda-cloud": {},
  "kernelspec": {
   "display_name": "Python [Root]",
   "language": "python",
   "name": "Python [Root]"
  },
  "language_info": {
   "codemirror_mode": {
    "name": "ipython",
    "version": 3
   },
   "file_extension": ".py",
   "mimetype": "text/x-python",
   "name": "python",
   "nbconvert_exporter": "python",
   "pygments_lexer": "ipython3",
   "version": "3.5.2"
  }
 },
 "nbformat": 4,
 "nbformat_minor": 0
}
